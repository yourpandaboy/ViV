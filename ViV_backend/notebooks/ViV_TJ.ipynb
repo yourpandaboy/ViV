{
  "nbformat": 4,
  "nbformat_minor": 0,
  "metadata": {
    "colab": {
      "name": "ViV_TJ.ipynb",
      "provenance": [],
      "authorship_tag": "ABX9TyOcAE/eNezmy0U/18YTHfvH",
      "include_colab_link": true
    },
    "kernelspec": {
      "name": "python3",
      "display_name": "Python 3"
    },
    "language_info": {
      "name": "python"
    }
  },
  "cells": [
    {
      "cell_type": "markdown",
      "metadata": {
        "id": "view-in-github",
        "colab_type": "text"
      },
      "source": [
        "<a href=\"https://colab.research.google.com/github/yourpandaboy/ViV/blob/main/ViV_TJ.ipynb\" target=\"_parent\"><img src=\"https://colab.research.google.com/assets/colab-badge.svg\" alt=\"Open In Colab\"/></a>"
      ]
    },
    {
      "cell_type": "code",
      "execution_count": 1,
      "metadata": {
        "colab": {
          "base_uri": "https://localhost:8080/"
        },
        "id": "ZBFZPi4vSPt6",
        "outputId": "b7cb6396-d492-4f54-90e1-38ecf9ac5f0b"
      },
      "outputs": [
        {
          "output_type": "stream",
          "name": "stdout",
          "text": [
            "Mounted at /content/drive\n"
          ]
        }
      ],
      "source": [
        "from google.colab import drive\n",
        "drive.mount('/content/drive')\n"
      ]
    },
    {
      "cell_type": "code",
      "source": [
        "import os       #importing os to set environment variable\n",
        "def install_java():\n",
        "  !apt-get install -y openjdk-8-jdk-headless -qq > /dev/null      #install openjdk\n",
        "  os.environ[\"JAVA_HOME\"] = \"/usr/lib/jvm/java-8-openjdk-amd64\"     #set environment variable\n",
        "  !java -version       #check java version\n",
        "install_java()"
      ],
      "metadata": {
        "colab": {
          "base_uri": "https://localhost:8080/"
        },
        "id": "TxAUa8EMSbBw",
        "outputId": "c91cda67-941b-43d4-e5d7-4de4123a634b"
      },
      "execution_count": 2,
      "outputs": [
        {
          "output_type": "stream",
          "name": "stdout",
          "text": [
            "openjdk version \"11.0.15\" 2022-04-19\n",
            "OpenJDK Runtime Environment (build 11.0.15+10-Ubuntu-0ubuntu0.18.04.1)\n",
            "OpenJDK 64-Bit Server VM (build 11.0.15+10-Ubuntu-0ubuntu0.18.04.1, mixed mode, sharing)\n"
          ]
        }
      ]
    },
    {
      "cell_type": "code",
      "source": [
        "!wget http://mallet.cs.umass.edu/dist/mallet-2.0.8.zip      #the mallet file needed\n",
        "!unzip mallet-2.0.8.zip"
      ],
      "metadata": {
        "id": "Vm_Box8CS25x"
      },
      "execution_count": null,
      "outputs": []
    },
    {
      "cell_type": "code",
      "source": [
        "pip install pyLDAvis"
      ],
      "metadata": {
        "id": "hk_HdSppS5YJ"
      },
      "execution_count": null,
      "outputs": []
    },
    {
      "cell_type": "code",
      "source": [
        "import numpy as np\n",
        "import pandas as pd\n",
        "import nltk \n",
        "nltk.download('stopwords')"
      ],
      "metadata": {
        "colab": {
          "base_uri": "https://localhost:8080/"
        },
        "id": "BDvuLuxhTHjF",
        "outputId": "18754568-f6e0-4157-f1c6-83f183719ecc"
      },
      "execution_count": 6,
      "outputs": [
        {
          "output_type": "stream",
          "name": "stderr",
          "text": [
            "[nltk_data] Downloading package stopwords to /root/nltk_data...\n",
            "[nltk_data]   Unzipping corpora/stopwords.zip.\n"
          ]
        },
        {
          "output_type": "execute_result",
          "data": {
            "text/plain": [
              "True"
            ]
          },
          "metadata": {},
          "execution_count": 6
        }
      ]
    },
    {
      "cell_type": "code",
      "source": [
        "import pyLDAvis\n",
        "import pyLDAvis.gensim_models\n",
        "\n",
        "import gensim\n",
        "import gensim.corpora as corpora\n",
        "from gensim.utils import simple_preprocess\n",
        "from gensim.models import CoherenceModel\n",
        "\n",
        "import spacy"
      ],
      "metadata": {
        "colab": {
          "base_uri": "https://localhost:8080/"
        },
        "id": "zeQJhlnsTjcJ",
        "outputId": "6d0565d0-a5ab-4c53-9d67-d7e21bea2eb1"
      },
      "execution_count": 9,
      "outputs": [
        {
          "output_type": "stream",
          "name": "stderr",
          "text": [
            "/usr/local/lib/python3.7/dist-packages/scipy/sparse/sparsetools.py:21: DeprecationWarning: `scipy.sparse.sparsetools` is deprecated!\n",
            "scipy.sparse.sparsetools is a private module for scipy.sparse, and should not be used.\n",
            "  _deprecated()\n"
          ]
        }
      ]
    },
    {
      "cell_type": "code",
      "source": [
        "df = pd.read_csv(\"/content/drive/MyDrive/okcupid/okcupid_profiles.csv\")\n",
        "\n",
        "essay0 = df[[\"essay0\"]].dropna() #get essay0 and dropna\n",
        "\n",
        "data = essay0.essay0.values.tolist() #convert to list for gensim use"
      ],
      "metadata": {
        "id": "F_BIMr2YTD0D"
      },
      "execution_count": 12,
      "outputs": []
    },
    {
      "cell_type": "code",
      "source": [
        "bigram = gensim.models.Phrases(data, min_count=20, threshold=100)\n",
        "trigram = gensim.models.Phrases(bigram[data], threshold=100)\n",
        "bigram_mod = gensim.models.phrases.Phraser(bigram)\n",
        "trigram_mod = gensim.models.phrases.Phraser(trigram)"
      ],
      "metadata": {
        "colab": {
          "base_uri": "https://localhost:8080/"
        },
        "id": "13kXYqswT_Eg",
        "outputId": "3681714f-77f8-4f40-d3f9-8b8132f8dedb"
      },
      "execution_count": 13,
      "outputs": [
        {
          "output_type": "stream",
          "name": "stderr",
          "text": [
            "/usr/local/lib/python3.7/dist-packages/gensim/models/phrases.py:598: UserWarning: For a faster implementation, use the gensim.models.phrases.Phraser class\n",
            "  warnings.warn(\"For a faster implementation, use the gensim.models.phrases.Phraser class\")\n"
          ]
        }
      ]
    },
    {
      "cell_type": "code",
      "source": [
        "# only need tagger, no need for parser and named entity recognizer, for faster implementation\n",
        "nlp = spacy.load('en_core_web_sm', disable=['parser', 'ner'])\n",
        "\n",
        "# get stopwords from nltk library\n",
        "stop_words = nltk.corpus.stopwords.words('english')\n",
        "\n",
        "def process_words(texts, stop_words=stop_words, allowed_tags=['NOUN', 'ADJ', 'VERB', 'ADV']):\n",
        "    \n",
        "    \"\"\"Convert a document into a list of lowercase tokens, build bigrams-trigrams, implement lemmatization\"\"\"\n",
        "    \n",
        "    # remove stopwords, short tokens and letter accents \n",
        "    texts = [[word for word in simple_preprocess(str(doc), deacc=True, min_len=3) if word not in stop_words] for doc in texts]\n",
        "    \n",
        "    # bi-gram and tri-gram implementation\n",
        "    texts = [bigram_mod[doc] for doc in texts]\n",
        "    texts = [trigram_mod[bigram_mod[doc]] for doc in texts]\n",
        "    \n",
        "    texts_out = []\n",
        "    \n",
        "    # implement lemmatization and filter out unwanted part of speech tags\n",
        "    for sent in texts:\n",
        "        doc = nlp(\" \".join(sent)) \n",
        "        texts_out.append([token.lemma_ for token in doc if token.pos_ in allowed_tags])\n",
        "    \n",
        "    # remove stopwords and short tokens again after lemmatization\n",
        "    texts_out = [[word for word in simple_preprocess(str(doc), deacc=True, min_len=3) if word not in stop_words] for doc in texts_out]    \n",
        "    \n",
        "    return texts_out"
      ],
      "metadata": {
        "id": "BD1WXPGrU3FT"
      },
      "execution_count": 14,
      "outputs": []
    },
    {
      "cell_type": "code",
      "source": [
        "data_ready = process_words(data)"
      ],
      "metadata": {
        "id": "lVVm50TWU7gr"
      },
      "execution_count": null,
      "outputs": []
    },
    {
      "cell_type": "code",
      "source": [
        "id2word = corpora.Dictionary(data_ready)\n",
        "print('Total Vocabulary Size:', len(id2word))"
      ],
      "metadata": {
        "colab": {
          "base_uri": "https://localhost:8080/"
        },
        "id": "99CeHygKWt5N",
        "outputId": "add152ec-a43b-427e-d811-0037bc039c14"
      },
      "execution_count": 17,
      "outputs": [
        {
          "output_type": "stream",
          "name": "stdout",
          "text": [
            "Total Vocabulary Size: 43205\n"
          ]
        }
      ]
    },
    {
      "cell_type": "code",
      "source": [
        "corpus = [id2word.doc2bow(text) for text in data_ready]"
      ],
      "metadata": {
        "id": "tjUJeB9wWyKg"
      },
      "execution_count": 18,
      "outputs": []
    },
    {
      "cell_type": "code",
      "source": [
        "dict_corpus = {}\n",
        "\n",
        "for i in range(len(corpus)):\n",
        "  for idx, freq in corpus[i]:\n",
        "    if id2word[idx] in dict_corpus:\n",
        "      dict_corpus[id2word[idx]] += freq\n",
        "    else:\n",
        "       dict_corpus[id2word[idx]] = freq\n",
        "       \n",
        "dict_df = pd.DataFrame.from_dict(dict_corpus, orient='index', columns=['freq'])"
      ],
      "metadata": {
        "id": "rzv1_wSjW19i"
      },
      "execution_count": 19,
      "outputs": []
    },
    {
      "cell_type": "code",
      "source": [
        "dict_df"
      ],
      "metadata": {
        "id": "xOnT6bjUW8T7"
      },
      "execution_count": null,
      "outputs": []
    },
    {
      "cell_type": "code",
      "source": [
        "import seaborn as sns\n",
        "import matplotlib.pyplot as plt\n",
        "sns.set()"
      ],
      "metadata": {
        "id": "jMs1RNHvXLuo"
      },
      "execution_count": 22,
      "outputs": []
    },
    {
      "cell_type": "code",
      "source": [
        "plt.figure(figsize=(8,6))\n",
        "sns.distplot(dict_df['freq'], bins=100);"
      ],
      "metadata": {
        "colab": {
          "base_uri": "https://localhost:8080/",
          "height": 450
        },
        "id": "JCRRBGzGW83e",
        "outputId": "b31155e4-7689-4c4a-bd20-ebc52e497930"
      },
      "execution_count": 23,
      "outputs": [
        {
          "output_type": "stream",
          "name": "stderr",
          "text": [
            "/usr/local/lib/python3.7/dist-packages/seaborn/distributions.py:2619: FutureWarning: `distplot` is a deprecated function and will be removed in a future version. Please adapt your code to use either `displot` (a figure-level function with similar flexibility) or `histplot` (an axes-level function for histograms).\n",
            "  warnings.warn(msg, FutureWarning)\n"
          ]
        },
        {
          "output_type": "display_data",
          "data": {
            "text/plain": [
              "<Figure size 576x432 with 1 Axes>"
            ],
            "image/png": "[encoded data removed]"
          },
          "metadata": {}
        }
      ]
    },
    {
      "cell_type": "code",
      "source": [
        "dict_df.sort_values('freq', ascending=False).head(10)"
      ],
      "metadata": {
        "colab": {
          "base_uri": "https://localhost:8080/",
          "height": 363
        },
        "id": "WyZJ1-hYXRVM",
        "outputId": "afd0c7b6-d249-4bfe-8d1a-630136c37ed6"
      },
      "execution_count": 25,
      "outputs": [
        {
          "output_type": "execute_result",
          "data": {
            "text/plain": [
              "         freq\n",
              "love    52900\n",
              "life    28987\n",
              "people  26882\n",
              "good    26262\n",
              "time    25715\n",
              "thing   25701\n",
              "get     24817\n",
              "friend  21670\n",
              "enjoy   20890\n",
              "new     19996"
            ],
            "text/html": [
              "\n",
              "  <div id=\"df-ca20cce3-e55c-4ec6-a6e4-01251b7c91f2\">\n",
              "    <div class=\"colab-df-container\">\n",
              "      <div>\n",
              "<style scoped>\n",
              "    .dataframe tbody tr th:only-of-type {\n",
              "        vertical-align: middle;\n",
              "    }\n",
              "\n",
              "    .dataframe tbody tr th {\n",
              "        vertical-align: top;\n",
              "    }\n",
              "\n",
              "    .dataframe thead th {\n",
              "        text-align: right;\n",
              "    }\n",
              "</style>\n",
              "<table border=\"1\" class=\"dataframe\">\n",
              "  <thead>\n",
              "    <tr style=\"text-align: right;\">\n",
              "      <th></th>\n",
              "      <th>freq</th>\n",
              "    </tr>\n",
              "  </thead>\n",
              "  <tbody>\n",
              "    <tr>\n",
              "      <th>love</th>\n",
              "      <td>52900</td>\n",
              "    </tr>\n",
              "    <tr>\n",
              "      <th>life</th>\n",
              "      <td>28987</td>\n",
              "    </tr>\n",
              "    <tr>\n",
              "      <th>people</th>\n",
              "      <td>26882</td>\n",
              "    </tr>\n",
              "    <tr>\n",
              "      <th>good</th>\n",
              "      <td>26262</td>\n",
              "    </tr>\n",
              "    <tr>\n",
              "      <th>time</th>\n",
              "      <td>25715</td>\n",
              "    </tr>\n",
              "    <tr>\n",
              "      <th>thing</th>\n",
              "      <td>25701</td>\n",
              "    </tr>\n",
              "    <tr>\n",
              "      <th>get</th>\n",
              "      <td>24817</td>\n",
              "    </tr>\n",
              "    <tr>\n",
              "      <th>friend</th>\n",
              "      <td>21670</td>\n",
              "    </tr>\n",
              "    <tr>\n",
              "      <th>enjoy</th>\n",
              "      <td>20890</td>\n",
              "    </tr>\n",
              "    <tr>\n",
              "      <th>new</th>\n",
              "      <td>19996</td>\n",
              "    </tr>\n",
              "  </tbody>\n",
              "</table>\n",
              "</div>\n",
              "      <button class=\"colab-df-convert\" onclick=\"convertToInteractive('df-ca20cce3-e55c-4ec6-a6e4-01251b7c91f2')\"\n",
              "              title=\"Convert this dataframe to an interactive table.\"\n",
              "              style=\"display:none;\">\n",
              "        \n",
              "  <svg xmlns=\"http://www.w3.org/2000/svg\" height=\"24px\"viewBox=\"0 0 24 24\"\n",
              "       width=\"24px\">\n",
              "    <path d=\"M0 0h24v24H0V0z\" fill=\"none\"/>\n",
              "    <path d=\"M18.56 5.44l.94 2.06.94-2.06 2.06-.94-2.06-.94-.94-2.06-.94 2.06-2.06.94zm-11 1L8.5 8.5l.94-2.06 2.06-.94-2.06-.94L8.5 2.5l-.94 2.06-2.06.94zm10 10l.94 2.06.94-2.06 2.06-.94-2.06-.94-.94-2.06-.94 2.06-2.06.94z\"/><path d=\"M17.41 7.96l-1.37-1.37c-.4-.4-.92-.59-1.43-.59-.52 0-1.04.2-1.43.59L10.3 9.45l-7.72 7.72c-.78.78-.78 2.05 0 2.83L4 21.41c.39.39.9.59 1.41.59.51 0 1.02-.2 1.41-.59l7.78-7.78 2.81-2.81c.8-.78.8-2.07 0-2.86zM5.41 20L4 18.59l7.72-7.72 1.47 1.35L5.41 20z\"/>\n",
              "  </svg>\n",
              "      </button>\n",
              "      \n",
              "  <style>\n",
              "    .colab-df-container {\n",
              "      display:flex;\n",
              "      flex-wrap:wrap;\n",
              "      gap: 12px;\n",
              "    }\n",
              "\n",
              "    .colab-df-convert {\n",
              "      background-color: #E8F0FE;\n",
              "      border: none;\n",
              "      border-radius: 50%;\n",
              "      cursor: pointer;\n",
              "      display: none;\n",
              "      fill: #1967D2;\n",
              "      height: 32px;\n",
              "      padding: 0 0 0 0;\n",
              "      width: 32px;\n",
              "    }\n",
              "\n",
              "    .colab-df-convert:hover {\n",
              "      background-color: #E2EBFA;\n",
              "      box-shadow: 0px 1px 2px rgba(60, 64, 67, 0.3), 0px 1px 3px 1px rgba(60, 64, 67, 0.15);\n",
              "      fill: #174EA6;\n",
              "    }\n",
              "\n",
              "    [theme=dark] .colab-df-convert {\n",
              "      background-color: #3B4455;\n",
              "      fill: #D2E3FC;\n",
              "    }\n",
              "\n",
              "    [theme=dark] .colab-df-convert:hover {\n",
              "      background-color: #434B5C;\n",
              "      box-shadow: 0px 1px 3px 1px rgba(0, 0, 0, 0.15);\n",
              "      filter: drop-shadow(0px 1px 2px rgba(0, 0, 0, 0.3));\n",
              "      fill: #FFFFFF;\n",
              "    }\n",
              "  </style>\n",
              "\n",
              "      <script>\n",
              "        const buttonEl =\n",
              "          document.querySelector('#df-ca20cce3-e55c-4ec6-a6e4-01251b7c91f2 button.colab-df-convert');\n",
              "        buttonEl.style.display =\n",
              "          google.colab.kernel.accessAllowed ? 'block' : 'none';\n",
              "\n",
              "        async function convertToInteractive(key) {\n",
              "          const element = document.querySelector('#df-ca20cce3-e55c-4ec6-a6e4-01251b7c91f2');\n",
              "          const dataTable =\n",
              "            await google.colab.kernel.invokeFunction('convertToInteractive',\n",
              "                                                     [key], {});\n",
              "          if (!dataTable) return;\n",
              "\n",
              "          const docLinkHtml = 'Like what you see? Visit the ' +\n",
              "            '<a target=\"_blank\" href=https://colab.research.google.com/notebooks/data_table.ipynb>data table notebook</a>'\n",
              "            + ' to learn more about interactive tables.';\n",
              "          element.innerHTML = '';\n",
              "          dataTable['output_type'] = 'display_data';\n",
              "          await google.colab.output.renderOutput(dataTable, element);\n",
              "          const docLink = document.createElement('div');\n",
              "          docLink.innerHTML = docLinkHtml;\n",
              "          element.appendChild(docLink);\n",
              "        }\n",
              "      </script>\n",
              "    </div>\n",
              "  </div>\n",
              "  "
            ]
          },
          "metadata": {},
          "execution_count": 25
        }
      ]
    },
    {
      "cell_type": "code",
      "source": [
        "extension = dict_df[dict_df.freq>1500].index.tolist()"
      ],
      "metadata": {
        "id": "CKNweHTrXed8"
      },
      "execution_count": 28,
      "outputs": []
    },
    {
      "cell_type": "code",
      "source": [
        "ids=[id2word.token2id[extension[i]] for i in range(len(extension))]\n",
        "id2word.filter_tokens(bad_ids=ids)"
      ],
      "metadata": {
        "id": "6jxvssVnXjAk"
      },
      "execution_count": 29,
      "outputs": []
    },
    {
      "cell_type": "code",
      "source": [
        "# add high frequency words to stop words list\n",
        "stop_words.extend(extension)\n",
        "# rerun the process_words function\n",
        "data_ready = process_words(data)\n",
        "# recreate Dictionary\n",
        "id2word = corpora.Dictionary(data_ready)\n",
        "print('Total Vocabulary Size:', len(id2word))"
      ],
      "metadata": {
        "colab": {
          "base_uri": "https://localhost:8080/"
        },
        "id": "m0-dY_HyXmG1",
        "outputId": "e86c858c-b54b-4fd3-eebc-09c3a731425f"
      },
      "execution_count": 30,
      "outputs": [
        {
          "output_type": "stream",
          "name": "stdout",
          "text": [
            "Total Vocabulary Size: 42515\n"
          ]
        }
      ]
    },
    {
      "cell_type": "code",
      "source": [
        "id2word.filter_extremes(no_below=10, no_above=0.5)\n",
        "print('Total Vocabulary Size:', len(id2word))\n"
      ],
      "metadata": {
        "colab": {
          "base_uri": "https://localhost:8080/"
        },
        "id": "-SrHBwSpZCyq",
        "outputId": "678d5dea-031e-4492-d522-1fb03bc80f20"
      },
      "execution_count": 31,
      "outputs": [
        {
          "output_type": "stream",
          "name": "stdout",
          "text": [
            "Total Vocabulary Size: 9121\n"
          ]
        }
      ]
    },
    {
      "cell_type": "code",
      "source": [
        "# Create Corpus: Term Document Frequency\n",
        "corpus = [id2word.doc2bow(text) for text in data_ready]"
      ],
      "metadata": {
        "id": "e0ITqtPWZJ61"
      },
      "execution_count": 32,
      "outputs": []
    },
    {
      "cell_type": "code",
      "source": [
        "os.environ['MALLET_HOME'] = '/content/mallet-2.0.8'\n",
        "mallet_path = '/content/mallet-2.0.8/bin/mallet'"
      ],
      "metadata": {
        "id": "o5EAR07UbCcW"
      },
      "execution_count": 34,
      "outputs": []
    },
    {
      "cell_type": "code",
      "source": [
        "ldamallet = gensim.models.wrappers.LdaMallet(mallet_path, corpus=corpus, num_topics=10, id2word=id2word)"
      ],
      "metadata": {
        "id": "9pbW3N0MawdU"
      },
      "execution_count": null,
      "outputs": []
    },
    {
      "cell_type": "code",
      "source": [
        "from pprint import pprint\n",
        "# display topics\n",
        "pprint(ldamallet.show_topics(formatted=False))"
      ],
      "metadata": {
        "colab": {
          "base_uri": "https://localhost:8080/"
        },
        "id": "301ZNRzBbyj_",
        "outputId": "a00406db-5b4f-4727-d779-822cb83b969a"
      },
      "execution_count": 36,
      "outputs": [
        {
          "output_type": "stream",
          "name": "stdout",
          "text": [
            "[(0,\n",
            "  [('student', 0.014693944656233623),\n",
            "   ('degree', 0.014426782026120286),\n",
            "   ('decide', 0.014262374253742846),\n",
            "   ('computer', 0.014128792938686177),\n",
            "   ('build', 0.01158047246683587),\n",
            "   ('finish', 0.0099158437715143),\n",
            "   ('state', 0.009843915371099169),\n",
            "   ('major', 0.009771986970684038),\n",
            "   ('parent', 0.009073253938079923),\n",
            "   ('pay', 0.008970499080344023)]),\n",
            " (1,\n",
            "  [('connection', 0.013432187329555435),\n",
            "   ('energy', 0.011185785732114298),\n",
            "   ('soul', 0.011185785732114298),\n",
            "   ('practice', 0.010252096179268394),\n",
            "   ('playful', 0.009854584785482514),\n",
            "   ('connect', 0.009836095883445962),\n",
            "   ('beauty', 0.00971591802020837),\n",
            "   ('personal', 0.009623473510025607),\n",
            "   ('spiritual', 0.009540273450861121),\n",
            "   ('physical', 0.009262939920312832)]),\n",
            " (2,\n",
            "  [('meeting', 0.017975256553936756),\n",
            "   ('busy', 0.01577779242753862),\n",
            "   ('hit', 0.014536225196123673),\n",
            "   ('club', 0.014030808447052102),\n",
            "   ('giant', 0.012668380688685258),\n",
            "   ('concert', 0.012547520161733359),\n",
            "   ('chance', 0.012162963939613686),\n",
            "   ('chill', 0.011591623266750171),\n",
            "   ('football', 0.011053244555782627),\n",
            "   ('lol', 0.010987320631990682)]),\n",
            " (3,\n",
            "  [('face', 0.014018229630069004),\n",
            "   ('lose', 0.01375130988393934),\n",
            "   ('stand', 0.012258536488917888),\n",
            "   ('stop', 0.012218992822824603),\n",
            "   ('line', 0.012199220989777963),\n",
            "   ('matter', 0.011111770172212666),\n",
            "   ('realize', 0.010429641932103524),\n",
            "   ('eye', 0.010202265852067145),\n",
            "   ('reason', 0.009539909445004647),\n",
            "   ('wrong', 0.009520137611958005)]),\n",
            " (4,\n",
            "  [('sex', 0.012581017838610507),\n",
            "   ('weird', 0.010152930349135484),\n",
            "   ('picture', 0.009976698192641329),\n",
            "   ('totally', 0.009731931308621669),\n",
            "   ('okcupid', 0.009418629697076504),\n",
            "   ('straight', 0.008811607824707749),\n",
            "   ('update', 0.008576631616048875),\n",
            "   ('send', 0.008096888523370342),\n",
            "   ('note', 0.007998981769762478),\n",
            "   ('answer', 0.007656308132134955)]),\n",
            " (5,\n",
            "  [('human', 0.014006508272563318),\n",
            "   ('politic', 0.01038971222457461),\n",
            "   ('intellectual', 0.010223084764369167),\n",
            "   ('view', 0.009095899004155885),\n",
            "   ('philosophy', 0.007370814710264252),\n",
            "   ('brain', 0.0071845840194464045),\n",
            "   ('power', 0.006214224104132361),\n",
            "   ('knowledge', 0.006096604720457931),\n",
            "   ('opinion', 0.005949580490864894),\n",
            "   ('political', 0.00589077079902768)]),\n",
            " (6,\n",
            "  [('summer', 0.014795774427133946),\n",
            "   ('local', 0.013855365035578823),\n",
            "   ('climb', 0.01277911873191018),\n",
            "   ('discover', 0.012465648934725139),\n",
            "   ('lucky', 0.011796913367397051),\n",
            "   ('exercise', 0.01049078921245938),\n",
            "   ('outdoor', 0.010156421428795335),\n",
            "   ('opportunity', 0.009289154989916722),\n",
            "   ('event', 0.009236910023719215),\n",
            "   ('market', 0.008547276469912124)]),\n",
            " (7,\n",
            "  [('artist', 0.013775388662751556),\n",
            "   ('design', 0.013433593304953962),\n",
            "   ('language', 0.012553211322748035),\n",
            "   ('photography', 0.011703901645796435),\n",
            "   ('draw', 0.010688873007488426),\n",
            "   ('band', 0.009611699758671762),\n",
            "   ('theater', 0.0093838361868067),\n",
            "   ('sing', 0.00921811722545029),\n",
            "   ('geek', 0.008959181348330899),\n",
            "   ('sort', 0.008503454204600773)]),\n",
            " (8,\n",
            "  [('hot', 0.012009968369596473),\n",
            "   ('sleep', 0.011396530240582766),\n",
            "   ('dress', 0.01009297421642864),\n",
            "   ('morning', 0.00965206556120004),\n",
            "   ('foot', 0.0077254864372663665),\n",
            "   ('cat', 0.006977858717530911),\n",
            "   ('color', 0.006632799769960702),\n",
            "   ('black', 0.006584874916131506),\n",
            "   ('burn', 0.006374005559283044),\n",
            "   ('clean', 0.006316495734688009)]),\n",
            " (9,\n",
            "  [('quality', 0.0135589785164167),\n",
            "   ('confident', 0.013488042156465343),\n",
            "   ('witty', 0.013275233076611269),\n",
            "   ('extremely', 0.01204904742602351),\n",
            "   ('thoughtful', 0.010985002026753142),\n",
            "   ('genuine', 0.010934333198216458),\n",
            "   ('situation', 0.010447912444264289),\n",
            "   ('treat', 0.010275638427239562),\n",
            "   ('match', 0.010164167004458857),\n",
            "   ('ready', 0.01012363194162951)])]\n"
          ]
        }
      ]
    },
    {
      "cell_type": "code",
      "source": [
        "# Compute Coherence Score\n",
        "coherence_model_ldamallet = CoherenceModel(model=ldamallet, texts=data_ready, dictionary=id2word, coherence='c_v')\n",
        "coherence_ldamallet = coherence_model_ldamallet.get_coherence()\n",
        "print('Coherence Score: ', coherence_ldamallet)"
      ],
      "metadata": {
        "colab": {
          "base_uri": "https://localhost:8080/"
        },
        "id": "a-uNCPeGb1Lx",
        "outputId": "5f1a8795-6432-4ace-fa15-62d9598ee84a"
      },
      "execution_count": 37,
      "outputs": [
        {
          "output_type": "stream",
          "name": "stdout",
          "text": [
            "Coherence Score:  0.5298240825805204\n"
          ]
        }
      ]
    },
    {
      "cell_type": "code",
      "source": [
        "def compute_coherence_values(dictionary, corpus, texts, limit, start=2, step=3):\n",
        "    \"\"\"\n",
        "    Compute c_v coherence for various number of topics\n",
        "\n",
        "    Parameters:\n",
        "    ----------\n",
        "    dictionary : Gensim dictionary\n",
        "    corpus : Gensim corpus\n",
        "    texts : List of input texts\n",
        "    limit : Max num of topics\n",
        "\n",
        "    Returns:\n",
        "    -------\n",
        "    model_list : List of LDA topic models\n",
        "    coherence_values : Coherence values corresponding to the LDA model with respective number of topics\n",
        "    \"\"\"\n",
        "    coherence_values = []\n",
        "    model_list = []\n",
        "    for num_topics in range(start, limit, step):\n",
        "        model = gensim.models.wrappers.LdaMallet(mallet_path, corpus=corpus, num_topics=num_topics, id2word=id2word)\n",
        "        model_list.append(model)\n",
        "        coherencemodel = CoherenceModel(model=model, texts=texts, dictionary=dictionary, coherence='c_v')\n",
        "        coherence_values.append(coherencemodel.get_coherence())\n",
        "\n",
        "    return model_list, coherence_values"
      ],
      "metadata": {
        "id": "Fg1ujh9scA80"
      },
      "execution_count": 38,
      "outputs": []
    },
    {
      "cell_type": "code",
      "source": [
        "model_list, coherence_values = compute_coherence_values(dictionary=id2word, corpus=corpus, texts=data_ready, start=4, limit=20, step=4)"
      ],
      "metadata": {
        "colab": {
          "base_uri": "https://localhost:8080/"
        },
        "id": "zM8rZv5ycFcy",
        "outputId": "b37f4daf-3951-4016-b8c6-fcd18a6f6d01"
      },
      "execution_count": 40,
      "outputs": [
        {
          "output_type": "stream",
          "name": "stderr",
          "text": [
            "/usr/local/lib/python3.7/dist-packages/smart_open/smart_open_lib.py:494: DeprecationWarning: This function is deprecated.  See https://github.com/RaRe-Technologies/smart_open/blob/develop/MIGRATING_FROM_OLDER_VERSIONS.rst for more information\n",
            "  warnings.warn(message, category=DeprecationWarning)\n",
            "/usr/local/lib/python3.7/dist-packages/smart_open/smart_open_lib.py:494: DeprecationWarning: This function is deprecated.  See https://github.com/RaRe-Technologies/smart_open/blob/develop/MIGRATING_FROM_OLDER_VERSIONS.rst for more information\n",
            "  warnings.warn(message, category=DeprecationWarning)\n",
            "/usr/local/lib/python3.7/dist-packages/smart_open/smart_open_lib.py:494: DeprecationWarning: This function is deprecated.  See https://github.com/RaRe-Technologies/smart_open/blob/develop/MIGRATING_FROM_OLDER_VERSIONS.rst for more information\n",
            "  warnings.warn(message, category=DeprecationWarning)\n",
            "/usr/local/lib/python3.7/dist-packages/smart_open/smart_open_lib.py:494: DeprecationWarning: This function is deprecated.  See https://github.com/RaRe-Technologies/smart_open/blob/develop/MIGRATING_FROM_OLDER_VERSIONS.rst for more information\n",
            "  warnings.warn(message, category=DeprecationWarning)\n",
            "/usr/local/lib/python3.7/dist-packages/smart_open/smart_open_lib.py:494: DeprecationWarning: This function is deprecated.  See https://github.com/RaRe-Technologies/smart_open/blob/develop/MIGRATING_FROM_OLDER_VERSIONS.rst for more information\n",
            "  warnings.warn(message, category=DeprecationWarning)\n",
            "/usr/local/lib/python3.7/dist-packages/smart_open/smart_open_lib.py:494: DeprecationWarning: This function is deprecated.  See https://github.com/RaRe-Technologies/smart_open/blob/develop/MIGRATING_FROM_OLDER_VERSIONS.rst for more information\n",
            "  warnings.warn(message, category=DeprecationWarning)\n",
            "/usr/local/lib/python3.7/dist-packages/smart_open/smart_open_lib.py:494: DeprecationWarning: This function is deprecated.  See https://github.com/RaRe-Technologies/smart_open/blob/develop/MIGRATING_FROM_OLDER_VERSIONS.rst for more information\n",
            "  warnings.warn(message, category=DeprecationWarning)\n",
            "/usr/local/lib/python3.7/dist-packages/smart_open/smart_open_lib.py:494: DeprecationWarning: This function is deprecated.  See https://github.com/RaRe-Technologies/smart_open/blob/develop/MIGRATING_FROM_OLDER_VERSIONS.rst for more information\n",
            "  warnings.warn(message, category=DeprecationWarning)\n"
          ]
        }
      ]
    },
    {
      "cell_type": "code",
      "source": [
        "limit=20; start=4; step=4;\n",
        "x = range(start, limit, step)\n",
        "plt.plot(x, coherence_values)\n",
        "plt.xlabel(\"Num Topics\")\n",
        "plt.ylabel(\"Coherence score\")\n",
        "plt.legend((\"coherence_values\"), loc='best')\n",
        "plt.show()"
      ],
      "metadata": {
        "colab": {
          "base_uri": "https://localhost:8080/",
          "height": 285
        },
        "id": "1crH-X36e697",
        "outputId": "79b4f40b-daeb-4314-c4ab-0c3d29962ad2"
      },
      "execution_count": 41,
      "outputs": [
        {
          "output_type": "display_data",
          "data": {
            "text/plain": [
              "<Figure size 432x288 with 1 Axes>"
            ],
            "image/png": "[encoded data removed]"
          },
          "metadata": {}
        }
      ]
    },
    {
      "cell_type": "code",
      "source": [
        "for m, cv in zip(x, coherence_values):\n",
        "    print(\"Num Topics =\", m, \" has Coherence Value of\", round(cv, 4))"
      ],
      "metadata": {
        "colab": {
          "base_uri": "https://localhost:8080/"
        },
        "id": "s_Y3lkUVfH8D",
        "outputId": "b771f6aa-9762-47cf-f82c-85723d27cd64"
      },
      "execution_count": 42,
      "outputs": [
        {
          "output_type": "stream",
          "name": "stdout",
          "text": [
            "Num Topics = 4  has Coherence Value of 0.4242\n",
            "Num Topics = 8  has Coherence Value of 0.4991\n",
            "Num Topics = 12  has Coherence Value of 0.5382\n",
            "Num Topics = 16  has Coherence Value of 0.542\n"
          ]
        }
      ]
    },
    {
      "cell_type": "code",
      "source": [
        "optimal_model = model_list[3]\n",
        "model_topics = optimal_model.show_topics(formatted=False)\n",
        "pprint(optimal_model.print_topics(num_words=10))"
      ],
      "metadata": {
        "colab": {
          "base_uri": "https://localhost:8080/"
        },
        "id": "13OhdVuIfZug",
        "outputId": "5e140a21-2e80-4fb0-f7a1-b640ea6eb97d"
      },
      "execution_count": 43,
      "outputs": [
        {
          "output_type": "stream",
          "name": "stdout",
          "text": [
            "[(0,\n",
            "  '0.019*\"follow\" + 0.013*\"constantly\" + 0.013*\"realize\" + 0.012*\"skill\" + '\n",
            "  '0.012*\"personal\" + 0.012*\"lead\" + 0.010*\"simply\" + 0.009*\"search\" + '\n",
            "  '0.009*\"set\" + 0.009*\"push\"'),\n",
            " (1,\n",
            "  '0.018*\"lose\" + 0.017*\"break\" + 0.016*\"stop\" + 0.012*\"fast\" + 0.011*\"line\" + '\n",
            "  '0.010*\"fly\" + 0.009*\"minute\" + 0.009*\"buy\" + 0.009*\"money\" + 0.009*\"jump\"'),\n",
            " (2,\n",
            "  '0.023*\"student\" + 0.023*\"degree\" + 0.022*\"computer\" + 0.020*\"design\" + '\n",
            "  '0.016*\"project\" + 0.016*\"finish\" + 0.015*\"major\" + 0.013*\"build\" + '\n",
            "  '0.012*\"technology\" + 0.012*\"tech\"'),\n",
            " (3,\n",
            "  '0.018*\"east\" + 0.018*\"language\" + 0.017*\"decide\" + 0.016*\"finally\" + '\n",
            "  '0.015*\"state\" + 0.015*\"native\" + 0.014*\"living\" + 0.014*\"meeting\" + '\n",
            "  '0.014*\"past\" + 0.013*\"return\"'),\n",
            " (4,\n",
            "  '0.022*\"artist\" + 0.019*\"draw\" + 0.017*\"photography\" + 0.015*\"band\" + '\n",
            "  '0.015*\"sing\" + 0.015*\"song\" + 0.013*\"guitar\" + 0.012*\"comedy\" + '\n",
            "  '0.012*\"writing\" + 0.011*\"paint\"'),\n",
            " (5,\n",
            "  '0.022*\"confident\" + 0.021*\"witty\" + 0.019*\"quality\" + 0.018*\"thoughtful\" + '\n",
            "  '0.018*\"genuine\" + 0.016*\"optimistic\" + 0.015*\"ambitious\" + '\n",
            "  '0.014*\"compassionate\" + 0.013*\"affectionate\" + 0.013*\"quick\"'),\n",
            " (6,\n",
            "  '0.017*\"connection\" + 0.016*\"practice\" + 0.015*\"connect\" + 0.015*\"beauty\" + '\n",
            "  '0.015*\"soul\" + 0.015*\"spiritual\" + 0.012*\"joy\" + 0.012*\"inspire\" + '\n",
            "  '0.011*\"community\" + 0.011*\"present\"'),\n",
            " (7,\n",
            "  '0.018*\"picture\" + 0.016*\"answer\" + 0.016*\"lol\" + 0.015*\"weird\" + '\n",
            "  '0.015*\"okcupid\" + 0.015*\"fill\" + 0.015*\"photo\" + 0.015*\"send\" + '\n",
            "  '0.014*\"update\" + 0.012*\"box\"'),\n",
            " (8,\n",
            "  '0.025*\"busy\" + 0.020*\"local\" + 0.018*\"discover\" + 0.017*\"spending\" + '\n",
            "  '0.017*\"museum\" + 0.017*\"group\" + 0.016*\"low\" + 0.015*\"relax\" + '\n",
            "  '0.014*\"market\" + 0.014*\"meal\"'),\n",
            " (9,\n",
            "  '0.020*\"hot\" + 0.016*\"dress\" + 0.016*\"morning\" + 0.013*\"sun\" + '\n",
            "  '0.011*\"garden\" + 0.010*\"burn\" + 0.010*\"tree\" + 0.010*\"smell\" + 0.010*\"fire\" '\n",
            "  '+ 0.010*\"fresh\"'),\n",
            " (10,\n",
            "  '0.022*\"respect\" + 0.020*\"sex\" + 0.020*\"friendship\" + 0.017*\"wonderful\" + '\n",
            "  '0.016*\"treat\" + 0.015*\"lady\" + 0.015*\"age\" + 0.015*\"match\" + 0.014*\"expect\" '\n",
            "  '+ 0.013*\"chemistry\"'),\n",
            " (11,\n",
            "  '0.022*\"cat\" + 0.012*\"super\" + 0.010*\"ice\" + 0.010*\"store\" + 0.009*\"bake\" + '\n",
            "  '0.008*\"chocolate\" + 0.008*\"sarcasm\" + 0.008*\"pet\" + 0.008*\"taste\" + '\n",
            "  '0.007*\"door\"'),\n",
            " (12,\n",
            "  '0.023*\"eye\" + 0.017*\"hair\" + 0.015*\"boy\" + 0.015*\"tall\" + 0.014*\"straight\" '\n",
            "  '+ 0.013*\"black\" + 0.010*\"smoke\" + 0.010*\"white\" + 0.010*\"ass\" + '\n",
            "  '0.009*\"dark\"'),\n",
            " (13,\n",
            "  '0.023*\"concert\" + 0.020*\"climb\" + 0.019*\"giant\" + 0.018*\"summer\" + '\n",
            "  '0.017*\"tennis\" + 0.017*\"football\" + 0.016*\"outdoor\" + 0.016*\"soccer\" + '\n",
            "  '0.015*\"baseball\" + 0.015*\"event\"'),\n",
            " (14,\n",
            "  '0.020*\"situation\" + 0.019*\"matter\" + 0.016*\"problem\" + 0.015*\"wrong\" + '\n",
            "  '0.013*\"reason\" + 0.011*\"easily\" + 0.010*\"extremely\" + 0.010*\"attention\" + '\n",
            "  '0.009*\"admit\" + 0.009*\"act\"'),\n",
            " (15,\n",
            "  '0.017*\"politic\" + 0.016*\"intellectual\" + 0.014*\"history\" + 0.013*\"human\" + '\n",
            "  '0.011*\"brain\" + 0.010*\"view\" + 0.009*\"philosophy\" + 0.009*\"political\" + '\n",
            "  '0.009*\"liberal\" + 0.009*\"introvert\"')]\n"
          ]
        }
      ]
    },
    {
      "cell_type": "code",
      "source": [
        "def format_topics_sentences(ldamodel=optimal_model, corpus=corpus, texts=data):\n",
        "    # Init output\n",
        "    sent_topics_df = pd.DataFrame()\n",
        "\n",
        "    # Get main topic in each document\n",
        "    for i, row in enumerate(ldamodel[corpus]):\n",
        "        row = sorted(row, key=lambda x: (x[1]), reverse=True)\n",
        "        # Get the Dominant topic, Perc Contribution and Keywords for each document\n",
        "        for j, (topic_num, prop_topic) in enumerate(row):\n",
        "            if j == 0:  # => dominant topic\n",
        "                wp = ldamodel.show_topic(topic_num)\n",
        "                topic_keywords = \", \".join([word for word, prop in wp])\n",
        "                sent_topics_df = sent_topics_df.append(pd.Series([int(topic_num), round(prop_topic,4), topic_keywords]), ignore_index=True)\n",
        "            else:\n",
        "                break\n",
        "    sent_topics_df.columns = ['Dominant_Topic', 'Perc_Contribution', 'Topic_Keywords']\n",
        "\n",
        "    # Add original text to the end of the output\n",
        "    contents = pd.Series(texts)\n",
        "    sent_topics_df = pd.concat([sent_topics_df, contents], axis=1)\n",
        "    return(sent_topics_df)\n",
        "\n",
        "\n",
        "df_topic_sents_keywords = format_topics_sentences(ldamodel=optimal_model, corpus=corpus, texts=data)\n",
        "\n",
        "# Format\n",
        "df_dominant_topic = df_topic_sents_keywords.reset_index()\n",
        "df_dominant_topic.columns = ['Document_No', 'Dominant_Topic', 'Topic_Perc_Contrib', 'Keywords', 'Text']\n",
        "\n",
        "# Show\n",
        "df_dominant_topic.head(10)"
      ],
      "metadata": {
        "colab": {
          "base_uri": "https://localhost:8080/",
          "height": 1472
        },
        "id": "XxUNLiUJfh4B",
        "outputId": "517c507b-d088-4b28-b143-933a8ce3ae21"
      },
      "execution_count": 45,
      "outputs": [
        {
          "output_type": "stream",
          "name": "stderr",
          "text": [
            "/usr/local/lib/python3.7/dist-packages/smart_open/smart_open_lib.py:494: DeprecationWarning: This function is deprecated.  See https://github.com/RaRe-Technologies/smart_open/blob/develop/MIGRATING_FROM_OLDER_VERSIONS.rst for more information\n",
            "  warnings.warn(message, category=DeprecationWarning)\n",
            "/usr/local/lib/python3.7/dist-packages/smart_open/smart_open_lib.py:494: DeprecationWarning: This function is deprecated.  See https://github.com/RaRe-Technologies/smart_open/blob/develop/MIGRATING_FROM_OLDER_VERSIONS.rst for more information\n",
            "  warnings.warn(message, category=DeprecationWarning)\n"
          ]
        },
        {
          "output_type": "execute_result",
          "data": {
            "text/plain": [
              "   Document_No  Dominant_Topic  Topic_Perc_Contrib  \\\n",
              "0            0             9.0              0.1231   \n",
              "1            1            13.0              0.0942   \n",
              "2            2            14.0              0.1632   \n",
              "3            3             0.0              0.0625   \n",
              "4            4             7.0              0.0982   \n",
              "5            5             4.0              0.1113   \n",
              "6            6             6.0              0.0990   \n",
              "7            7             4.0              0.1387   \n",
              "8            8             7.0              0.1194   \n",
              "9            9             3.0              0.1177   \n",
              "\n",
              "                                            Keywords  \\\n",
              "0  hot, dress, morning, sun, garden, burn, tree, ...   \n",
              "1  concert, climb, giant, summer, tennis, footbal...   \n",
              "2  situation, matter, problem, wrong, reason, eas...   \n",
              "3  follow, constantly, realize, skill, personal, ...   \n",
              "4  picture, answer, lol, weird, okcupid, fill, ph...   \n",
              "5  artist, draw, photography, band, sing, song, g...   \n",
              "6  connection, practice, connect, beauty, soul, s...   \n",
              "7  artist, draw, photography, band, sing, song, g...   \n",
              "8  picture, answer, lol, weird, okcupid, fill, ph...   \n",
              "9  east, language, decide, finally, state, native...   \n",
              "\n",
              "                                                Text  \n",
              "0  about me:  i would love to think that i was so...  \n",
              "1  i am a chef: this is what that means. 1. i am ...  \n",
              "2  i'm not ashamed of much, but writing public te...  \n",
              "3          i work in a library and go to school. . .  \n",
              "4  hey how's it going? currently vague on the pro...  \n",
              "5  i'm an australian living in san francisco, but...  \n",
              "6  life is about the little things. i love to lau...  \n",
              "7  my names jake. i'm a creative guy and i look f...  \n",
              "8  update: i'm seeing someone, so off the market ...  \n",
              "9  i was born in wisconsin, grew up in iowa, and ...  "
            ],
            "text/html": [
              "\n",
              "  <div id=\"df-34bcb298-0c49-44b4-909a-f71ddcded0ff\">\n",
              "    <div class=\"colab-df-container\">\n",
              "      <div>\n",
              "<style scoped>\n",
              "    .dataframe tbody tr th:only-of-type {\n",
              "        vertical-align: middle;\n",
              "    }\n",
              "\n",
              "    .dataframe tbody tr th {\n",
              "        vertical-align: top;\n",
              "    }\n",
              "\n",
              "    .dataframe thead th {\n",
              "        text-align: right;\n",
              "    }\n",
              "</style>\n",
              "<table border=\"1\" class=\"dataframe\">\n",
              "  <thead>\n",
              "    <tr style=\"text-align: right;\">\n",
              "      <th></th>\n",
              "      <th>Document_No</th>\n",
              "      <th>Dominant_Topic</th>\n",
              "      <th>Topic_Perc_Contrib</th>\n",
              "      <th>Keywords</th>\n",
              "      <th>Text</th>\n",
              "    </tr>\n",
              "  </thead>\n",
              "  <tbody>\n",
              "    <tr>\n",
              "      <th>0</th>\n",
              "      <td>0</td>\n",
              "      <td>9.0</td>\n",
              "      <td>0.1231</td>\n",
              "      <td>hot, dress, morning, sun, garden, burn, tree, ...</td>\n",
              "      <td>about me:  i would love to think that i was so...</td>\n",
              "    </tr>\n",
              "    <tr>\n",
              "      <th>1</th>\n",
              "      <td>1</td>\n",
              "      <td>13.0</td>\n",
              "      <td>0.0942</td>\n",
              "      <td>concert, climb, giant, summer, tennis, footbal...</td>\n",
              "      <td>i am a chef: this is what that means. 1. i am ...</td>\n",
              "    </tr>\n",
              "    <tr>\n",
              "      <th>2</th>\n",
              "      <td>2</td>\n",
              "      <td>14.0</td>\n",
              "      <td>0.1632</td>\n",
              "      <td>situation, matter, problem, wrong, reason, eas...</td>\n",
              "      <td>i'm not ashamed of much, but writing public te...</td>\n",
              "    </tr>\n",
              "    <tr>\n",
              "      <th>3</th>\n",
              "      <td>3</td>\n",
              "      <td>0.0</td>\n",
              "      <td>0.0625</td>\n",
              "      <td>follow, constantly, realize, skill, personal, ...</td>\n",
              "      <td>i work in a library and go to school. . .</td>\n",
              "    </tr>\n",
              "    <tr>\n",
              "      <th>4</th>\n",
              "      <td>4</td>\n",
              "      <td>7.0</td>\n",
              "      <td>0.0982</td>\n",
              "      <td>picture, answer, lol, weird, okcupid, fill, ph...</td>\n",
              "      <td>hey how's it going? currently vague on the pro...</td>\n",
              "    </tr>\n",
              "    <tr>\n",
              "      <th>5</th>\n",
              "      <td>5</td>\n",
              "      <td>4.0</td>\n",
              "      <td>0.1113</td>\n",
              "      <td>artist, draw, photography, band, sing, song, g...</td>\n",
              "      <td>i'm an australian living in san francisco, but...</td>\n",
              "    </tr>\n",
              "    <tr>\n",
              "      <th>6</th>\n",
              "      <td>6</td>\n",
              "      <td>6.0</td>\n",
              "      <td>0.0990</td>\n",
              "      <td>connection, practice, connect, beauty, soul, s...</td>\n",
              "      <td>life is about the little things. i love to lau...</td>\n",
              "    </tr>\n",
              "    <tr>\n",
              "      <th>7</th>\n",
              "      <td>7</td>\n",
              "      <td>4.0</td>\n",
              "      <td>0.1387</td>\n",
              "      <td>artist, draw, photography, band, sing, song, g...</td>\n",
              "      <td>my names jake. i'm a creative guy and i look f...</td>\n",
              "    </tr>\n",
              "    <tr>\n",
              "      <th>8</th>\n",
              "      <td>8</td>\n",
              "      <td>7.0</td>\n",
              "      <td>0.1194</td>\n",
              "      <td>picture, answer, lol, weird, okcupid, fill, ph...</td>\n",
              "      <td>update: i'm seeing someone, so off the market ...</td>\n",
              "    </tr>\n",
              "    <tr>\n",
              "      <th>9</th>\n",
              "      <td>9</td>\n",
              "      <td>3.0</td>\n",
              "      <td>0.1177</td>\n",
              "      <td>east, language, decide, finally, state, native...</td>\n",
              "      <td>i was born in wisconsin, grew up in iowa, and ...</td>\n",
              "    </tr>\n",
              "  </tbody>\n",
              "</table>\n",
              "</div>\n",
              "      <button class=\"colab-df-convert\" onclick=\"convertToInteractive('df-34bcb298-0c49-44b4-909a-f71ddcded0ff')\"\n",
              "              title=\"Convert this dataframe to an interactive table.\"\n",
              "              style=\"display:none;\">\n",
              "        \n",
              "  <svg xmlns=\"http://www.w3.org/2000/svg\" height=\"24px\"viewBox=\"0 0 24 24\"\n",
              "       width=\"24px\">\n",
              "    <path d=\"M0 0h24v24H0V0z\" fill=\"none\"/>\n",
              "    <path d=\"M18.56 5.44l.94 2.06.94-2.06 2.06-.94-2.06-.94-.94-2.06-.94 2.06-2.06.94zm-11 1L8.5 8.5l.94-2.06 2.06-.94-2.06-.94L8.5 2.5l-.94 2.06-2.06.94zm10 10l.94 2.06.94-2.06 2.06-.94-2.06-.94-.94-2.06-.94 2.06-2.06.94z\"/><path d=\"M17.41 7.96l-1.37-1.37c-.4-.4-.92-.59-1.43-.59-.52 0-1.04.2-1.43.59L10.3 9.45l-7.72 7.72c-.78.78-.78 2.05 0 2.83L4 21.41c.39.39.9.59 1.41.59.51 0 1.02-.2 1.41-.59l7.78-7.78 2.81-2.81c.8-.78.8-2.07 0-2.86zM5.41 20L4 18.59l7.72-7.72 1.47 1.35L5.41 20z\"/>\n",
              "  </svg>\n",
              "      </button>\n",
              "      \n",
              "  <style>\n",
              "    .colab-df-container {\n",
              "      display:flex;\n",
              "      flex-wrap:wrap;\n",
              "      gap: 12px;\n",
              "    }\n",
              "\n",
              "    .colab-df-convert {\n",
              "      background-color: #E8F0FE;\n",
              "      border: none;\n",
              "      border-radius: 50%;\n",
              "      cursor: pointer;\n",
              "      display: none;\n",
              "      fill: #1967D2;\n",
              "      height: 32px;\n",
              "      padding: 0 0 0 0;\n",
              "      width: 32px;\n",
              "    }\n",
              "\n",
              "    .colab-df-convert:hover {\n",
              "      background-color: #E2EBFA;\n",
              "      box-shadow: 0px 1px 2px rgba(60, 64, 67, 0.3), 0px 1px 3px 1px rgba(60, 64, 67, 0.15);\n",
              "      fill: #174EA6;\n",
              "    }\n",
              "\n",
              "    [theme=dark] .colab-df-convert {\n",
              "      background-color: #3B4455;\n",
              "      fill: #D2E3FC;\n",
              "    }\n",
              "\n",
              "    [theme=dark] .colab-df-convert:hover {\n",
              "      background-color: #434B5C;\n",
              "      box-shadow: 0px 1px 3px 1px rgba(0, 0, 0, 0.15);\n",
              "      filter: drop-shadow(0px 1px 2px rgba(0, 0, 0, 0.3));\n",
              "      fill: #FFFFFF;\n",
              "    }\n",
              "  </style>\n",
              "\n",
              "      <script>\n",
              "        const buttonEl =\n",
              "          document.querySelector('#df-34bcb298-0c49-44b4-909a-f71ddcded0ff button.colab-df-convert');\n",
              "        buttonEl.style.display =\n",
              "          google.colab.kernel.accessAllowed ? 'block' : 'none';\n",
              "\n",
              "        async function convertToInteractive(key) {\n",
              "          const element = document.querySelector('#df-34bcb298-0c49-44b4-909a-f71ddcded0ff');\n",
              "          const dataTable =\n",
              "            await google.colab.kernel.invokeFunction('convertToInteractive',\n",
              "                                                     [key], {});\n",
              "          if (!dataTable) return;\n",
              "\n",
              "          const docLinkHtml = 'Like what you see? Visit the ' +\n",
              "            '<a target=\"_blank\" href=https://colab.research.google.com/notebooks/data_table.ipynb>data table notebook</a>'\n",
              "            + ' to learn more about interactive tables.';\n",
              "          element.innerHTML = '';\n",
              "          dataTable['output_type'] = 'display_data';\n",
              "          await google.colab.output.renderOutput(dataTable, element);\n",
              "          const docLink = document.createElement('div');\n",
              "          docLink.innerHTML = docLinkHtml;\n",
              "          element.appendChild(docLink);\n",
              "        }\n",
              "      </script>\n",
              "    </div>\n",
              "  </div>\n",
              "  "
            ]
          },
          "metadata": {},
          "execution_count": 45
        }
      ]
    },
    {
      "cell_type": "code",
      "source": [
        ""
      ],
      "metadata": {
        "id": "MoUvSj81iC2j"
      },
      "execution_count": null,
      "outputs": []
    },
    {
      "cell_type": "code",
      "source": [
        "from gensim.test.utils import datapath\n",
        "temp_file = datapath(\"/content/drive/MyDrive/lda_model_tj\")\n",
        "\n",
        "optimal_model.save(temp_file)"
      ],
      "metadata": {
        "colab": {
          "base_uri": "https://localhost:8080/"
        },
        "id": "h_-vLbyrhvCq",
        "outputId": "f8cb9038-c518-47d5-92d3-e531d18109ef"
      },
      "execution_count": 47,
      "outputs": [
        {
          "output_type": "stream",
          "name": "stderr",
          "text": [
            "/usr/local/lib/python3.7/dist-packages/smart_open/smart_open_lib.py:494: DeprecationWarning: This function is deprecated.  See https://github.com/RaRe-Technologies/smart_open/blob/develop/MIGRATING_FROM_OLDER_VERSIONS.rst for more information\n",
            "  warnings.warn(message, category=DeprecationWarning)\n"
          ]
        }
      ]
    },
    {
      "cell_type": "code",
      "source": [
        "from gensim import  models\n",
        "\n",
        "lda = models.ldamodel.LdaModel.load(temp_file)"
      ],
      "metadata": {
        "colab": {
          "base_uri": "https://localhost:8080/"
        },
        "id": "e6-f4vEyiKTZ",
        "outputId": "f3fb37f3-edae-4e2d-a765-7364f9ac499e"
      },
      "execution_count": 48,
      "outputs": [
        {
          "output_type": "stream",
          "name": "stderr",
          "text": [
            "/usr/local/lib/python3.7/dist-packages/smart_open/smart_open_lib.py:494: DeprecationWarning: This function is deprecated.  See https://github.com/RaRe-Technologies/smart_open/blob/develop/MIGRATING_FROM_OLDER_VERSIONS.rst for more information\n",
            "  warnings.warn(message, category=DeprecationWarning)\n",
            "WARNING:root:random_state not set so using default value\n",
            "/usr/local/lib/python3.7/dist-packages/smart_open/smart_open_lib.py:494: DeprecationWarning: This function is deprecated.  See https://github.com/RaRe-Technologies/smart_open/blob/develop/MIGRATING_FROM_OLDER_VERSIONS.rst for more information\n",
            "  warnings.warn(message, category=DeprecationWarning)\n",
            "WARNING:root:failed to load state from /content/drive/MyDrive/lda_model_tj.state: [Errno 2] No such file or directory: '/content/drive/MyDrive/lda_model_tj.state'\n"
          ]
        }
      ]
    }
  ]
}