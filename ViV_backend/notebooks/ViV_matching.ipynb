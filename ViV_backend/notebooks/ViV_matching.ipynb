{
 "cells": [
  {
   "cell_type": "code",
   "execution_count": 2,
   "id": "870574e3",
   "metadata": {},
   "outputs": [
    {
     "name": "stderr",
     "output_type": "stream",
     "text": [
      "2022-08-02 19:46:12.094396: W tensorflow/stream_executor/platform/default/dso_loader.cc:64] Could not load dynamic library 'libcudart.so.11.0'; dlerror: libcudart.so.11.0: cannot open shared object file: No such file or directory\n",
      "2022-08-02 19:46:12.094439: I tensorflow/stream_executor/cuda/cudart_stub.cc:29] Ignore above cudart dlerror if you do not have a GPU set up on your machine.\n",
      "2022-08-02 19:46:13.655681: I tensorflow/stream_executor/cuda/cuda_gpu_executor.cc:925] could not open file to read NUMA node: /sys/bus/pci/devices/0000:01:00.0/numa_node\n",
      "Your kernel may have been built without NUMA support.\n",
      "2022-08-02 19:46:13.658124: W tensorflow/stream_executor/platform/default/dso_loader.cc:64] Could not load dynamic library 'libcudart.so.11.0'; dlerror: libcudart.so.11.0: cannot open shared object file: No such file or directory\n",
      "2022-08-02 19:46:13.658195: W tensorflow/stream_executor/platform/default/dso_loader.cc:64] Could not load dynamic library 'libcublas.so.11'; dlerror: libcublas.so.11: cannot open shared object file: No such file or directory\n",
      "2022-08-02 19:46:13.658256: W tensorflow/stream_executor/platform/default/dso_loader.cc:64] Could not load dynamic library 'libcublasLt.so.11'; dlerror: libcublasLt.so.11: cannot open shared object file: No such file or directory\n",
      "2022-08-02 19:46:13.658316: W tensorflow/stream_executor/platform/default/dso_loader.cc:64] Could not load dynamic library 'libcufft.so.10'; dlerror: libcufft.so.10: cannot open shared object file: No such file or directory\n",
      "2022-08-02 19:46:13.658375: W tensorflow/stream_executor/platform/default/dso_loader.cc:64] Could not load dynamic library 'libcurand.so.10'; dlerror: libcurand.so.10: cannot open shared object file: No such file or directory\n",
      "2022-08-02 19:46:13.658436: W tensorflow/stream_executor/platform/default/dso_loader.cc:64] Could not load dynamic library 'libcusolver.so.11'; dlerror: libcusolver.so.11: cannot open shared object file: No such file or directory\n",
      "2022-08-02 19:46:13.658494: W tensorflow/stream_executor/platform/default/dso_loader.cc:64] Could not load dynamic library 'libcusparse.so.11'; dlerror: libcusparse.so.11: cannot open shared object file: No such file or directory\n",
      "2022-08-02 19:46:13.658554: W tensorflow/stream_executor/platform/default/dso_loader.cc:64] Could not load dynamic library 'libcudnn.so.8'; dlerror: libcudnn.so.8: cannot open shared object file: No such file or directory\n",
      "2022-08-02 19:46:13.658564: W tensorflow/core/common_runtime/gpu/gpu_device.cc:1850] Cannot dlopen some GPU libraries. Please make sure the missing libraries mentioned above are installed properly if you would like to use GPU. Follow the guide at https://www.tensorflow.org/install/gpu for how to download and setup the required libraries for your platform.\n",
      "Skipping registering GPU devices...\n"
     ]
    }
   ],
   "source": [
    "from ViV_backend.model import Model"
   ]
  },
  {
   "cell_type": "code",
   "execution_count": 4,
   "id": "112f1061",
   "metadata": {},
   "outputs": [],
   "source": [
    "model = Model()"
   ]
  },
  {
   "cell_type": "code",
   "execution_count": 9,
   "id": "936b77c3",
   "metadata": {},
   "outputs": [],
   "source": [
    "a = model.predict(\"hey looking for friends here. male or female preferably people who likes to travel and outdoor activities.\")"
   ]
  },
  {
   "cell_type": "code",
   "execution_count": 6,
   "id": "ff8917a0",
   "metadata": {},
   "outputs": [],
   "source": [
    "import pandas as pd"
   ]
  },
  {
   "cell_type": "code",
   "execution_count": 7,
   "id": "299701ab",
   "metadata": {},
   "outputs": [],
   "source": [
    "df = pd.read_csv(\"df_final_cleaned.csv\")"
   ]
  },
  {
   "cell_type": "code",
   "execution_count": 8,
   "id": "a4803167",
   "metadata": {},
   "outputs": [
    {
     "data": {
      "text/html": [
       "<div>\n",
       "<style scoped>\n",
       "    .dataframe tbody tr th:only-of-type {\n",
       "        vertical-align: middle;\n",
       "    }\n",
       "\n",
       "    .dataframe tbody tr th {\n",
       "        vertical-align: top;\n",
       "    }\n",
       "\n",
       "    .dataframe thead th {\n",
       "        text-align: right;\n",
       "    }\n",
       "</style>\n",
       "<table border=\"1\" class=\"dataframe\">\n",
       "  <thead>\n",
       "    <tr style=\"text-align: right;\">\n",
       "      <th></th>\n",
       "      <th>Dominant_Topic</th>\n",
       "      <th>Topic_Perc_Contrib</th>\n",
       "      <th>Keywords</th>\n",
       "      <th>Text_x</th>\n",
       "      <th>age</th>\n",
       "      <th>status</th>\n",
       "      <th>sex</th>\n",
       "      <th>location</th>\n",
       "    </tr>\n",
       "  </thead>\n",
       "  <tbody>\n",
       "    <tr>\n",
       "      <th>0</th>\n",
       "      <td>3.0</td>\n",
       "      <td>0.1689</td>\n",
       "      <td>wear, make, bad, hate, girl, eye, dress, hair,...</td>\n",
       "      <td>about me:  i would love to think that i was so...</td>\n",
       "      <td>22</td>\n",
       "      <td>single</td>\n",
       "      <td>1</td>\n",
       "      <td>south san francisco, california</td>\n",
       "    </tr>\n",
       "    <tr>\n",
       "      <th>1</th>\n",
       "      <td>6.0</td>\n",
       "      <td>0.0916</td>\n",
       "      <td>guy, fun, pretty, good, friend, person, meet, ...</td>\n",
       "      <td>i am a chef: this is what that means. 1. i am ...</td>\n",
       "      <td>35</td>\n",
       "      <td>single</td>\n",
       "      <td>1</td>\n",
       "      <td>oakland, california</td>\n",
       "    </tr>\n",
       "    <tr>\n",
       "      <th>2</th>\n",
       "      <td>17.0</td>\n",
       "      <td>0.1762</td>\n",
       "      <td>profile, write, word, date, read, message, que...</td>\n",
       "      <td>i'm not ashamed of much, but writing public te...</td>\n",
       "      <td>38</td>\n",
       "      <td>available</td>\n",
       "      <td>1</td>\n",
       "      <td>san francisco, california</td>\n",
       "    </tr>\n",
       "    <tr>\n",
       "      <th>3</th>\n",
       "      <td>15.0</td>\n",
       "      <td>0.0698</td>\n",
       "      <td>work, school, job, year, start, college, high,...</td>\n",
       "      <td>i work in a library and go to school. . .</td>\n",
       "      <td>23</td>\n",
       "      <td>single</td>\n",
       "      <td>1</td>\n",
       "      <td>berkeley, california</td>\n",
       "    </tr>\n",
       "    <tr>\n",
       "      <th>4</th>\n",
       "      <td>17.0</td>\n",
       "      <td>0.1144</td>\n",
       "      <td>profile, write, word, date, read, message, que...</td>\n",
       "      <td>hey how's it going? currently vague on the pro...</td>\n",
       "      <td>29</td>\n",
       "      <td>single</td>\n",
       "      <td>1</td>\n",
       "      <td>san francisco, california</td>\n",
       "    </tr>\n",
       "    <tr>\n",
       "      <th>...</th>\n",
       "      <td>...</td>\n",
       "      <td>...</td>\n",
       "      <td>...</td>\n",
       "      <td>...</td>\n",
       "      <td>...</td>\n",
       "      <td>...</td>\n",
       "      <td>...</td>\n",
       "      <td>...</td>\n",
       "    </tr>\n",
       "    <tr>\n",
       "      <th>54453</th>\n",
       "      <td>8.0</td>\n",
       "      <td>0.1341</td>\n",
       "      <td>life, enjoy, experience, live, share, world, f...</td>\n",
       "      <td>vibrant, expressive, caring optimist. i love b...</td>\n",
       "      <td>59</td>\n",
       "      <td>single</td>\n",
       "      <td>2</td>\n",
       "      <td>oakland, california</td>\n",
       "    </tr>\n",
       "    <tr>\n",
       "      <th>54454</th>\n",
       "      <td>11.0</td>\n",
       "      <td>0.1099</td>\n",
       "      <td>art, creative, film, interest, world, learn, a...</td>\n",
       "      <td>i'm nick. i never know what to write about mys...</td>\n",
       "      <td>24</td>\n",
       "      <td>single</td>\n",
       "      <td>1</td>\n",
       "      <td>san francisco, california</td>\n",
       "    </tr>\n",
       "    <tr>\n",
       "      <th>54455</th>\n",
       "      <td>2.0</td>\n",
       "      <td>0.1678</td>\n",
       "      <td>enjoy, love, movie, watch, sport, play, home, ...</td>\n",
       "      <td>hello! i enjoy traveling, watching movies, and...</td>\n",
       "      <td>42</td>\n",
       "      <td>single</td>\n",
       "      <td>1</td>\n",
       "      <td>south san francisco, california</td>\n",
       "    </tr>\n",
       "    <tr>\n",
       "      <th>54456</th>\n",
       "      <td>3.0</td>\n",
       "      <td>0.0921</td>\n",
       "      <td>wear, make, bad, hate, girl, eye, dress, hair,...</td>\n",
       "      <td>\"all i have in this world are my balls and my ...</td>\n",
       "      <td>27</td>\n",
       "      <td>single</td>\n",
       "      <td>1</td>\n",
       "      <td>san francisco, california</td>\n",
       "    </tr>\n",
       "    <tr>\n",
       "      <th>54457</th>\n",
       "      <td>17.0</td>\n",
       "      <td>0.1268</td>\n",
       "      <td>profile, write, word, date, read, message, que...</td>\n",
       "      <td>is it odd that having a little \"enemy\" status ...</td>\n",
       "      <td>39</td>\n",
       "      <td>single</td>\n",
       "      <td>1</td>\n",
       "      <td>san francisco, california</td>\n",
       "    </tr>\n",
       "  </tbody>\n",
       "</table>\n",
       "<p>54458 rows × 8 columns</p>\n",
       "</div>"
      ],
      "text/plain": [
       "       Dominant_Topic  Topic_Perc_Contrib  \\\n",
       "0                 3.0              0.1689   \n",
       "1                 6.0              0.0916   \n",
       "2                17.0              0.1762   \n",
       "3                15.0              0.0698   \n",
       "4                17.0              0.1144   \n",
       "...               ...                 ...   \n",
       "54453             8.0              0.1341   \n",
       "54454            11.0              0.1099   \n",
       "54455             2.0              0.1678   \n",
       "54456             3.0              0.0921   \n",
       "54457            17.0              0.1268   \n",
       "\n",
       "                                                Keywords  \\\n",
       "0      wear, make, bad, hate, girl, eye, dress, hair,...   \n",
       "1      guy, fun, pretty, good, friend, person, meet, ...   \n",
       "2      profile, write, word, date, read, message, que...   \n",
       "3      work, school, job, year, start, college, high,...   \n",
       "4      profile, write, word, date, read, message, que...   \n",
       "...                                                  ...   \n",
       "54453  life, enjoy, experience, live, share, world, f...   \n",
       "54454  art, creative, film, interest, world, learn, a...   \n",
       "54455  enjoy, love, movie, watch, sport, play, home, ...   \n",
       "54456  wear, make, bad, hate, girl, eye, dress, hair,...   \n",
       "54457  profile, write, word, date, read, message, que...   \n",
       "\n",
       "                                                  Text_x  age     status  sex  \\\n",
       "0      about me:  i would love to think that i was so...   22     single    1   \n",
       "1      i am a chef: this is what that means. 1. i am ...   35     single    1   \n",
       "2      i'm not ashamed of much, but writing public te...   38  available    1   \n",
       "3              i work in a library and go to school. . .   23     single    1   \n",
       "4      hey how's it going? currently vague on the pro...   29     single    1   \n",
       "...                                                  ...  ...        ...  ...   \n",
       "54453  vibrant, expressive, caring optimist. i love b...   59     single    2   \n",
       "54454  i'm nick. i never know what to write about mys...   24     single    1   \n",
       "54455  hello! i enjoy traveling, watching movies, and...   42     single    1   \n",
       "54456  \"all i have in this world are my balls and my ...   27     single    1   \n",
       "54457  is it odd that having a little \"enemy\" status ...   39     single    1   \n",
       "\n",
       "                              location  \n",
       "0      south san francisco, california  \n",
       "1                  oakland, california  \n",
       "2            san francisco, california  \n",
       "3                 berkeley, california  \n",
       "4            san francisco, california  \n",
       "...                                ...  \n",
       "54453              oakland, california  \n",
       "54454        san francisco, california  \n",
       "54455  south san francisco, california  \n",
       "54456        san francisco, california  \n",
       "54457        san francisco, california  \n",
       "\n",
       "[54458 rows x 8 columns]"
      ]
     },
     "execution_count": 8,
     "metadata": {},
     "output_type": "execute_result"
    }
   ],
   "source": [
    "df"
   ]
  },
  {
   "cell_type": "code",
   "execution_count": 11,
   "id": "5aa2e7cf",
   "metadata": {},
   "outputs": [
    {
     "data": {
      "text/plain": [
       "list"
      ]
     },
     "execution_count": 11,
     "metadata": {},
     "output_type": "execute_result"
    }
   ],
   "source": [
    "type(a)"
   ]
  },
  {
   "cell_type": "code",
   "execution_count": 15,
   "id": "4c65fba9",
   "metadata": {},
   "outputs": [],
   "source": [
    "b =a.sort()"
   ]
  },
  {
   "cell_type": "code",
   "execution_count": 18,
   "id": "4a558d91",
   "metadata": {},
   "outputs": [
    {
     "data": {
      "text/plain": [
       "[(0, 0.04785874685475157),\n",
       " (1, 0.04984847862705135),\n",
       " (2, 0.047846889952157814),\n",
       " (3, 0.050950657210758254),\n",
       " (4, 0.052142605435642586),\n",
       " (5, 0.047846889952157814),\n",
       " (6, 0.06260080789102858),\n",
       " (7, 0.04808917913144919),\n",
       " (8, 0.047846889952157814),\n",
       " (9, 0.04786699947301717),\n",
       " (10, 0.047846889952157814),\n",
       " (11, 0.06224219375753814),\n",
       " (12, 0.059349447016313034),\n",
       " (13, 0.049225403919714146),\n",
       " (14, 0.047846889952157814),\n",
       " (15, 0.04790091557061016),\n",
       " (16, 0.04785872674925087),\n",
       " (17, 0.06661530748347755),\n",
       " (18, 0.0682160811186084)]"
      ]
     },
     "execution_count": 18,
     "metadata": {},
     "output_type": "execute_result"
    }
   ],
   "source": [
    "sorted(a)"
   ]
  },
  {
   "cell_type": "code",
   "execution_count": 21,
   "id": "a57cd821",
   "metadata": {},
   "outputs": [
    {
     "data": {
      "text/plain": [
       "0.04785874685475157"
      ]
     },
     "execution_count": 21,
     "metadata": {},
     "output_type": "execute_result"
    }
   ],
   "source": [
    "a[0][1]"
   ]
  },
  {
   "cell_type": "code",
   "execution_count": 25,
   "id": "d36652f5",
   "metadata": {},
   "outputs": [
    {
     "name": "stdout",
     "output_type": "stream",
     "text": [
      "0.04785874685475157\n",
      "0.04984847862705135\n",
      "0.047846889952157814\n",
      "0.050950657210758254\n",
      "0.052142605435642586\n",
      "0.047846889952157814\n",
      "0.06260080789102858\n",
      "0.04808917913144919\n",
      "0.047846889952157814\n",
      "0.04786699947301717\n",
      "0.047846889952157814\n",
      "0.06224219375753814\n",
      "0.059349447016313034\n",
      "0.049225403919714146\n",
      "0.047846889952157814\n",
      "0.04790091557061016\n",
      "0.04785872674925087\n",
      "0.06661530748347755\n",
      "0.0682160811186084\n"
     ]
    }
   ],
   "source": [
    "for i, v in enumerate(a):\n",
    "    print(v[1])"
   ]
  },
  {
   "cell_type": "code",
   "execution_count": null,
   "id": "0bd7888a",
   "metadata": {},
   "outputs": [],
   "source": []
  }
 ],
 "metadata": {
  "kernelspec": {
   "display_name": "Python 3 (ipykernel)",
   "language": "python",
   "name": "python3"
  },
  "language_info": {
   "codemirror_mode": {
    "name": "ipython",
    "version": 3
   },
   "file_extension": ".py",
   "mimetype": "text/x-python",
   "name": "python",
   "nbconvert_exporter": "python",
   "pygments_lexer": "ipython3",
   "version": "3.8.13"
  },
  "toc": {
   "base_numbering": 1,
   "nav_menu": {},
   "number_sections": true,
   "sideBar": true,
   "skip_h1_title": false,
   "title_cell": "Table of Contents",
   "title_sidebar": "Contents",
   "toc_cell": false,
   "toc_position": {},
   "toc_section_display": true,
   "toc_window_display": false
  }
 },
 "nbformat": 4,
 "nbformat_minor": 5
}
