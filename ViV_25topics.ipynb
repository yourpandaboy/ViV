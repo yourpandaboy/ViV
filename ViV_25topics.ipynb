{
  "nbformat": 4,
  "nbformat_minor": 0,
  "metadata": {
    "colab": {
      "name": "ViV_25topics.ipynb",
      "provenance": [],
      "collapsed_sections": [],
      "authorship_tag": "ABX9TyNSZh+dgScOhysGLqhgmmtY",
      "include_colab_link": true
    },
    "kernelspec": {
      "name": "python3",
      "display_name": "Python 3"
    },
    "language_info": {
      "name": "python"
    }
  },
  "cells": [
    {
      "cell_type": "markdown",
      "metadata": {
        "id": "view-in-github",
        "colab_type": "text"
      },
      "source": [
        "<a href=\"https://colab.research.google.com/github/yourpandaboy/ViV/blob/main/ViV_25topics.ipynb\" target=\"_parent\"><img src=\"https://colab.research.google.com/assets/colab-badge.svg\" alt=\"Open In Colab\"/></a>"
      ]
    },
    {
      "cell_type": "code",
      "execution_count": null,
      "metadata": {
        "colab": {
          "base_uri": "https://localhost:8080/"
        },
        "id": "-aj50FvvPuXt",
        "outputId": "98a8adc9-7902-4cdb-a231-31ff2705919a"
      },
      "outputs": [
        {
          "output_type": "stream",
          "name": "stdout",
          "text": [
            "Mounted at /content/drive\n"
          ]
        }
      ],
      "source": [
        "from google.colab import drive\n",
        "drive.mount('/content/drive')"
      ]
    },
    {
      "cell_type": "code",
      "source": [
        "import os       #importing os to set environment variable\n",
        "def install_java():\n",
        "  !apt-get install -y openjdk-8-jdk-headless -qq > /dev/null      #install openjdk\n",
        "  os.environ[\"JAVA_HOME\"] = \"/usr/lib/jvm/java-8-openjdk-amd64\"     #set environment variable\n",
        "  !java -version       #check java version\n",
        "install_java()"
      ],
      "metadata": {
        "colab": {
          "base_uri": "https://localhost:8080/"
        },
        "id": "DKopi1RVP2gp",
        "outputId": "6c89d111-871c-4fa1-c7f6-abe14a7afba2"
      },
      "execution_count": null,
      "outputs": [
        {
          "output_type": "stream",
          "name": "stdout",
          "text": [
            "openjdk version \"11.0.15\" 2022-04-19\n",
            "OpenJDK Runtime Environment (build 11.0.15+10-Ubuntu-0ubuntu0.18.04.1)\n",
            "OpenJDK 64-Bit Server VM (build 11.0.15+10-Ubuntu-0ubuntu0.18.04.1, mixed mode, sharing)\n"
          ]
        }
      ]
    },
    {
      "cell_type": "code",
      "source": [
        "!wget http://mallet.cs.umass.edu/dist/mallet-2.0.8.zip\n",
        "!unzip mallet-2.0.8.zip"
      ],
      "metadata": {
        "id": "frUYYf-pQCHw"
      },
      "execution_count": null,
      "outputs": []
    },
    {
      "cell_type": "code",
      "source": [
        "pip install pyLDAvis"
      ],
      "metadata": {
        "id": "_GLjSR0TQbcY"
      },
      "execution_count": null,
      "outputs": []
    },
    {
      "cell_type": "code",
      "source": [
        "%pip show gensim"
      ],
      "metadata": {
        "colab": {
          "base_uri": "https://localhost:8080/"
        },
        "id": "-r9jHPD6Pp90",
        "outputId": "431fe150-2d1f-45cc-a547-3261d019f9e2"
      },
      "execution_count": null,
      "outputs": [
        {
          "output_type": "stream",
          "name": "stdout",
          "text": [
            "Name: gensim\n",
            "Version: 3.6.0\n",
            "Summary: Python framework for fast Vector Space Modelling\n",
            "Home-page: http://radimrehurek.com/gensim\n",
            "Author: Radim Rehurek\n",
            "Author-email: me@radimrehurek.com\n",
            "License: LGPLv2.1\n",
            "Location: /usr/local/lib/python3.7/dist-packages\n",
            "Requires: numpy, six, scipy, smart-open\n",
            "Required-by: \n"
          ]
        }
      ]
    },
    {
      "cell_type": "code",
      "source": [
        "import re\n",
        "import numpy as np\n",
        "import pandas as pd\n",
        "from pprint import pprint\n",
        "\n",
        "# Gensim\n",
        "import gensim\n",
        "import gensim.corpora as corpora\n",
        "from gensim.utils import simple_preprocess\n",
        "from gensim.models import CoherenceModel\n",
        "\n",
        "# spacy for lemmatization\n",
        "import spacy\n",
        "\n",
        "# Plotting tools\n",
        "import pyLDAvis\n",
        "import pyLDAvis.gensim_models  # don't skip this\n",
        "import matplotlib.pyplot as plt\n",
        "%matplotlib inline\n",
        "\n",
        "# Enable logging for gensim - optional\n",
        "import logging\n",
        "logging.basicConfig(format='%(asctime)s : %(levelname)s : %(message)s', level=logging.ERROR)\n",
        "\n",
        "import warnings\n",
        "warnings.filterwarnings(\"ignore\",category=DeprecationWarning)\n"
      ],
      "metadata": {
        "colab": {
          "base_uri": "https://localhost:8080/"
        },
        "id": "foKkQG1BQHN_",
        "outputId": "77b5cc9b-3cca-4470-e072-d48faf6d5f59"
      },
      "execution_count": null,
      "outputs": [
        {
          "output_type": "stream",
          "name": "stderr",
          "text": [
            "/usr/local/lib/python3.7/dist-packages/past/types/oldstr.py:5: DeprecationWarning: Using or importing the ABCs from 'collections' instead of from 'collections.abc' is deprecated since Python 3.3,and in 3.9 it will stop working\n",
            "  from collections import Iterable\n"
          ]
        }
      ]
    },
    {
      "cell_type": "code",
      "source": [
        "\n",
        "df = pd.read_csv(\"/content/drive/MyDrive/okcupid/okcupid_profiles.csv\")"
      ],
      "metadata": {
        "id": "hq1jkD1dQl_y"
      },
      "execution_count": null,
      "outputs": []
    },
    {
      "cell_type": "code",
      "source": [
        "pip install nltk"
      ],
      "metadata": {
        "colab": {
          "base_uri": "https://localhost:8080/"
        },
        "id": "7rUYZwMsRL_7",
        "outputId": "24d3b806-dfba-4676-cdad-bd3d68c02d51"
      },
      "execution_count": null,
      "outputs": [
        {
          "output_type": "stream",
          "name": "stdout",
          "text": [
            "Looking in indexes: https://pypi.org/simple, https://us-python.pkg.dev/colab-wheels/public/simple/\n",
            "Requirement already satisfied: nltk in /usr/local/lib/python3.7/dist-packages (3.7)\n",
            "Requirement already satisfied: tqdm in /usr/local/lib/python3.7/dist-packages (from nltk) (4.64.0)\n",
            "Requirement already satisfied: regex>=2021.8.3 in /usr/local/lib/python3.7/dist-packages (from nltk) (2022.6.2)\n",
            "Requirement already satisfied: joblib in /usr/local/lib/python3.7/dist-packages (from nltk) (1.1.0)\n",
            "Requirement already satisfied: click in /usr/local/lib/python3.7/dist-packages (from nltk) (7.1.2)\n"
          ]
        }
      ]
    },
    {
      "cell_type": "code",
      "source": [
        "import nltk; nltk.download('stopwords')"
      ],
      "metadata": {
        "colab": {
          "base_uri": "https://localhost:8080/"
        },
        "id": "Iit-FQ7tRiaM",
        "outputId": "7fdec0f2-5f01-4355-a4fd-f64574949bde"
      },
      "execution_count": null,
      "outputs": [
        {
          "output_type": "stream",
          "name": "stderr",
          "text": [
            "[nltk_data] Downloading package stopwords to /root/nltk_data...\n",
            "[nltk_data]   Unzipping corpora/stopwords.zip.\n"
          ]
        },
        {
          "output_type": "execute_result",
          "data": {
            "text/plain": [
              "True"
            ]
          },
          "metadata": {},
          "execution_count": 7
        }
      ]
    },
    {
      "cell_type": "code",
      "source": [
        "# NLTK Stop words\n",
        "from nltk.corpus import stopwords\n",
        "stop_words = stopwords.words('english')\n",
        "#stop_words.extend(['from', 'subject', 're', 'edu', 'use'])"
      ],
      "metadata": {
        "id": "uNxiz-SCRC_u"
      },
      "execution_count": null,
      "outputs": []
    },
    {
      "cell_type": "code",
      "source": [
        "#the questions..\n",
        "\"\"\"\n",
        "essay0- My self summary\n",
        "essay1- What I’m doing with my life\n",
        "essay2- I’m really good at\n",
        "essay3- The first thing people usually notice about me\n",
        "essay4- Favorite books, movies, show, music, and food\n",
        "essay5- The six things I could never do without\n",
        "essay6- I spend a lot of time thinking about\n",
        "essay7- On a typical Friday night I am\n",
        "essay8- The most private thing I am willing to admit\n",
        "essay9- You should message me if...\n",
        "\"\"\""
      ],
      "metadata": {
        "id": "ViWBpQey3coc"
      },
      "execution_count": null,
      "outputs": []
    },
    {
      "cell_type": "code",
      "source": [
        "#just focusing on the essay0 since that is the most answered question from 60k profiles\n",
        "essay0 = df[[\"essay0\"]].dropna()\n"
      ],
      "metadata": {
        "id": "bQNkEta7RqJx"
      },
      "execution_count": null,
      "outputs": []
    },
    {
      "cell_type": "code",
      "source": [
        "data = essay0.essay0.values.tolist()"
      ],
      "metadata": {
        "id": "UnfejTzXS3eW"
      },
      "execution_count": null,
      "outputs": []
    },
    {
      "cell_type": "code",
      "source": [
        "def sent_to_words(sentences):\n",
        "    for sentence in sentences:\n",
        "        yield(gensim.utils.simple_preprocess(str(sentence), deacc=True))  # deacc=True removes punctuations\n",
        "\n",
        "data_words = list(sent_to_words(data))\n",
        "\n",
        "print(data_words[:1])"
      ],
      "metadata": {
        "colab": {
          "base_uri": "https://localhost:8080/"
        },
        "id": "ZgrUYRcQRrn_",
        "outputId": "258cbef4-70fe-4d83-e7d1-966b89da51d5"
      },
      "execution_count": null,
      "outputs": [
        {
          "output_type": "stream",
          "name": "stdout",
          "text": [
            "[['about', 'me', 'would', 'love', 'to', 'think', 'that', 'was', 'some', 'some', 'kind', 'of', 'intellectual', 'either', 'the', 'dumbest', 'smart', 'guy', 'or', 'the', 'smartest', 'dumb', 'guy', 'can', 'say', 'can', 'tell', 'the', 'difference', 'love', 'to', 'talk', 'about', 'ideas', 'and', 'concepts', 'forge', 'odd', 'metaphors', 'instead', 'of', 'reciting', 'cliches', 'like', 'the', 'simularities', 'between', 'friend', 'of', 'mine', 'house', 'and', 'an', 'underwater', 'salt', 'mine', 'my', 'favorite', 'word', 'is', 'salt', 'by', 'the', 'way', 'weird', 'choice', 'know', 'to', 'me', 'most', 'things', 'in', 'life', 'are', 'better', 'as', 'metaphors', 'seek', 'to', 'make', 'myself', 'little', 'better', 'everyday', 'in', 'some', 'productively', 'lazy', 'way', 'got', 'tired', 'of', 'tying', 'my', 'shoes', 'considered', 'hiring', 'five', 'year', 'old', 'but', 'would', 'probably', 'have', 'to', 'tie', 'both', 'of', 'our', 'shoes', 'decided', 'to', 'only', 'wear', 'leather', 'shoes', 'dress', 'shoes', 'about', 'you', 'you', 'love', 'to', 'have', 'really', 'serious', 'really', 'deep', 'conversations', 'about', 'really', 'silly', 'stuff', 'you', 'have', 'to', 'be', 'willing', 'to', 'snap', 'me', 'out', 'of', 'light', 'hearted', 'rant', 'with', 'kiss', 'you', 'don', 'have', 'to', 'be', 'funny', 'but', 'you', 'have', 'to', 'be', 'able', 'to', 'make', 'me', 'laugh', 'you', 'should', 'be', 'able', 'to', 'bend', 'spoons', 'with', 'your', 'mind', 'and', 'telepathically', 'make', 'me', 'smile', 'while', 'am', 'still', 'at', 'work', 'you', 'should', 'love', 'life', 'and', 'be', 'cool', 'with', 'just', 'letting', 'the', 'wind', 'blow', 'extra', 'points', 'for', 'reading', 'all', 'this', 'and', 'guessing', 'my', 'favorite', 'video', 'game', 'no', 'hints', 'given', 'yet', 'and', 'lastly', 'you', 'have', 'good', 'attention', 'span']]\n"
          ]
        }
      ]
    },
    {
      "cell_type": "code",
      "source": [
        "bigram = gensim.models.Phrases(data_words, min_count=5, threshold=100) # higher threshold fewer phrases.\n",
        "trigram = gensim.models.Phrases(bigram[data_words], threshold=100)  \n",
        "\n",
        "# Faster way to get a sentence clubbed as a trigram/bigram\n",
        "bigram_mod = gensim.models.phrases.Phraser(bigram)\n",
        "trigram_mod = gensim.models.phrases.Phraser(trigram)\n",
        "\n",
        "# See trigram example\n",
        "print(trigram_mod[bigram_mod[data_words[0]]])"
      ],
      "metadata": {
        "colab": {
          "base_uri": "https://localhost:8080/"
        },
        "id": "7sjlYiOZRuGJ",
        "outputId": "ec9bca46-03f6-4ba3-f549-b4340e906383"
      },
      "execution_count": null,
      "outputs": [
        {
          "output_type": "stream",
          "name": "stderr",
          "text": [
            "/usr/local/lib/python3.7/dist-packages/gensim/models/phrases.py:598: UserWarning: For a faster implementation, use the gensim.models.phrases.Phraser class\n",
            "  warnings.warn(\"For a faster implementation, use the gensim.models.phrases.Phraser class\")\n"
          ]
        },
        {
          "output_type": "stream",
          "name": "stdout",
          "text": [
            "['about', 'me', 'would', 'love', 'to', 'think', 'that', 'was', 'some', 'some', 'kind', 'of', 'intellectual', 'either', 'the', 'dumbest', 'smart', 'guy', 'or', 'the', 'smartest', 'dumb', 'guy', 'can', 'say', 'can', 'tell', 'the', 'difference', 'love', 'to', 'talk', 'about', 'ideas', 'and', 'concepts', 'forge', 'odd', 'metaphors', 'instead', 'of', 'reciting', 'cliches', 'like', 'the', 'simularities', 'between', 'friend', 'of', 'mine', 'house', 'and', 'an', 'underwater', 'salt', 'mine', 'my', 'favorite', 'word', 'is', 'salt', 'by', 'the', 'way', 'weird', 'choice', 'know', 'to', 'me', 'most', 'things', 'in', 'life', 'are', 'better', 'as', 'metaphors', 'seek', 'to', 'make', 'myself', 'little', 'better', 'everyday', 'in', 'some', 'productively', 'lazy', 'way', 'got', 'tired', 'of', 'tying', 'my', 'shoes', 'considered', 'hiring', 'five', 'year', 'old', 'but', 'would', 'probably', 'have', 'to', 'tie', 'both', 'of', 'our', 'shoes', 'decided', 'to', 'only', 'wear', 'leather', 'shoes', 'dress', 'shoes', 'about', 'you', 'you', 'love', 'to', 'have', 'really', 'serious', 'really', 'deep', 'conversations', 'about', 'really', 'silly', 'stuff', 'you', 'have', 'to', 'be', 'willing', 'to', 'snap', 'me', 'out', 'of', 'light_hearted', 'rant', 'with', 'kiss', 'you', 'don', 'have', 'to', 'be', 'funny', 'but', 'you', 'have', 'to', 'be', 'able', 'to', 'make', 'me', 'laugh', 'you', 'should', 'be', 'able', 'to', 'bend', 'spoons', 'with', 'your', 'mind', 'and', 'telepathically', 'make', 'me', 'smile', 'while', 'am', 'still', 'at', 'work', 'you', 'should', 'love', 'life', 'and', 'be', 'cool', 'with', 'just', 'letting', 'the', 'wind', 'blow', 'extra_points', 'for', 'reading', 'all', 'this', 'and', 'guessing', 'my', 'favorite', 'video_game', 'no', 'hints', 'given', 'yet', 'and', 'lastly', 'you', 'have', 'good', 'attention_span']\n"
          ]
        }
      ]
    },
    {
      "cell_type": "code",
      "source": [
        "# Define functions for stopwords, bigrams, trigrams and lemmatization\n",
        "def remove_stopwords(texts):\n",
        "    return [[word for word in simple_preprocess(str(doc)) if word not in stop_words] for doc in texts]\n",
        "\n",
        "def make_bigrams(texts):\n",
        "    return [bigram_mod[doc] for doc in texts]\n",
        "\n",
        "def make_trigrams(texts):\n",
        "    return [trigram_mod[bigram_mod[doc]] for doc in texts]\n",
        "\n",
        "def lemmatization(texts, allowed_postags=['NOUN', 'ADJ', 'VERB', 'ADV']):\n",
        "    \"\"\"https://spacy.io/api/annotation\"\"\"\n",
        "    texts_out = []\n",
        "    for sent in texts:\n",
        "        doc = nlp(\" \".join(sent)) \n",
        "        texts_out.append([token.lemma_ for token in doc if token.pos_ in allowed_postags])\n",
        "    return texts_out"
      ],
      "metadata": {
        "id": "kcX-ilXPR093"
      },
      "execution_count": null,
      "outputs": []
    },
    {
      "cell_type": "code",
      "source": [
        "# Remove Stop Words\n",
        "data_words_nostops = remove_stopwords(data_words)\n",
        "\n",
        "# Form Bigrams\n",
        "data_words_bigrams = make_bigrams(data_words_nostops)\n",
        "\n",
        "# Initialize spacy 'en' model, keeping only tagger component (for efficiency)\n",
        "# python3 -m spacy download en\n",
        "nlp = spacy.load('en_core_web_sm', disable=['parser', 'ner'])\n",
        "\n",
        "# Do lemmatization keeping only noun, adj, vb, adv\n",
        "data_lemmatized = lemmatization(data_words_bigrams, allowed_postags=['NOUN', 'ADJ', 'VERB', 'ADV'])\n",
        "\n",
        "print(data_lemmatized[:1])"
      ],
      "metadata": {
        "colab": {
          "base_uri": "https://localhost:8080/"
        },
        "id": "IhHbdbvqR3cw",
        "outputId": "103cd88a-4e04-47ae-a308-d12805a441a3"
      },
      "execution_count": null,
      "outputs": [
        {
          "output_type": "stream",
          "name": "stdout",
          "text": [
            "[['love', 'think', 'kind', 'intellectual', 'dumbest', 'smart', 'guy', 'smart', 'dumb', 'guy', 'say', 'tell', 'difference', 'love', 'talk', 'idea', 'concept', 'forge', 'odd', 'metaphor', 'instead', 'recite', 'cliche', 'simularitie', 'friend', 'mine', 'house', 'underwater', 'salt', 'mine', 'favorite', 'word', 'salt', 'way', 'weird', 'choice', 'know', 'thing', 'life', 'well', 'metaphor', 'seek', 'make', 'little', 'well', 'everyday', 'productively', 'lazy', 'way', 'get', 'tired', 'tying', 'shoe', 'consider', 'hire', 'year', 'old', 'probably', 'tie', 'shoe', 'decide', 'wear', 'leather', 'shoe', 'dress', 'shoe', 'love', 'really', 'serious', 'really', 'deep', 'conversation', 'really', 'silly', 'stuff', 'willing', 'snap', 'light_hearte', 'rant', 'kiss', 'funny', 'able', 'make', 'laugh', 'able', 'bend', 'spoon', 'mind', 'telepathically', 'make', 'smile', 'still', 'work', 'love', 'life', 'cool', 'let', 'wind', 'blow', 'extra_point', 'read', 'guess', 'favorite', 'video', 'game', 'hint', 'give', 'yet', 'lastly', 'good', 'attention_span']]\n"
          ]
        }
      ]
    },
    {
      "cell_type": "code",
      "source": [
        "# Create Dictionary\n",
        "id2word = corpora.Dictionary(data_lemmatized)\n",
        "\n",
        "# Create Corpus\n",
        "texts = data_lemmatized\n",
        "\n",
        "# Term Document Frequency\n",
        "corpus = [id2word.doc2bow(text) for text in texts]\n",
        "\n",
        "# View\n",
        "print(corpus[:1])"
      ],
      "metadata": {
        "colab": {
          "base_uri": "https://localhost:8080/"
        },
        "id": "PeDFO57xSIf_",
        "outputId": "3ad9b4db-2bf2-4581-887d-4a778b9c4327"
      },
      "execution_count": null,
      "outputs": [
        {
          "output_type": "stream",
          "name": "stdout",
          "text": [
            "[[(0, 2), (1, 1), (2, 1), (3, 1), (4, 1), (5, 1), (6, 1), (7, 1), (8, 1), (9, 1), (10, 1), (11, 1), (12, 1), (13, 1), (14, 1), (15, 1), (16, 1), (17, 1), (18, 2), (19, 1), (20, 1), (21, 1), (22, 1), (23, 1), (24, 1), (25, 1), (26, 1), (27, 2), (28, 1), (29, 1), (30, 1), (31, 1), (32, 1), (33, 1), (34, 1), (35, 1), (36, 1), (37, 1), (38, 1), (39, 1), (40, 1), (41, 1), (42, 2), (43, 1), (44, 1), (45, 4), (46, 3), (47, 2), (48, 1), (49, 2), (50, 1), (51, 1), (52, 1), (53, 1), (54, 1), (55, 1), (56, 3), (57, 1), (58, 2), (59, 1), (60, 1), (61, 1), (62, 4), (63, 1), (64, 1), (65, 2), (66, 1), (67, 1), (68, 1), (69, 1), (70, 1), (71, 1), (72, 1), (73, 1), (74, 1), (75, 1), (76, 1), (77, 1), (78, 1), (79, 1), (80, 1), (81, 2), (82, 1), (83, 1), (84, 2), (85, 1), (86, 1), (87, 1), (88, 1), (89, 1), (90, 1)]]\n"
          ]
        }
      ]
    },
    {
      "cell_type": "code",
      "source": [
        "lda_model = gensim.models.ldamodel.LdaModel(corpus=corpus,\n",
        "                                           id2word=id2word,\n",
        "                                           num_topics=20, \n",
        "                                           random_state=100,\n",
        "                                           update_every=1,\n",
        "                                           chunksize=100,\n",
        "                                           passes=10,\n",
        "                                           alpha='auto',\n",
        "                                           per_word_topics=True)"
      ],
      "metadata": {
        "id": "NnG9dnbgSLxL"
      },
      "execution_count": null,
      "outputs": []
    },
    {
      "cell_type": "code",
      "source": [
        "pprint(lda_model.print_topics())\n",
        "doc_lda = lda_model[corpus]"
      ],
      "metadata": {
        "colab": {
          "base_uri": "https://localhost:8080/"
        },
        "id": "2RDFBehnSWYv",
        "outputId": "00dd4de4-327c-4029-9663-27da9bea434d"
      },
      "execution_count": null,
      "outputs": [
        {
          "output_type": "stream",
          "name": "stdout",
          "text": [
            "[(0,\n",
            "  '0.030*\"fine\" + 0.026*\"money\" + 0.022*\"search\" + 0.019*\"level\" + '\n",
            "  '0.017*\"process\" + 0.017*\"summarize\" + 0.016*\"knowledge\" + 0.016*\"tattoo\" + '\n",
            "  '0.013*\"particularly\" + 0.012*\"hurt\"'),\n",
            " (1,\n",
            "  '0.025*\"politic\" + 0.023*\"history\" + 0.021*\"weather\" + 0.017*\"beauty\" + '\n",
            "  '0.016*\"large\" + 0.016*\"philosophy\" + 0.016*\"skill\" + 0.014*\"lifestyle\" + '\n",
            "  '0.014*\"touch\" + 0.014*\"brain\"'),\n",
            " (2,\n",
            "  '0.026*\"leave\" + 0.021*\"dream\" + 0.017*\"body\" + 0.014*\"lose\" + 0.011*\"lie\" + '\n",
            "  '0.011*\"soon\" + 0.010*\"hot\" + 0.010*\"style\" + 0.010*\"ever\" + '\n",
            "  '0.010*\"morning\"'),\n",
            " (3,\n",
            "  '0.114*\"guy\" + 0.072*\"girl\" + 0.067*\"m\" + 0.061*\"nice\" + 0.042*\"profile\" + '\n",
            "  '0.035*\"name\" + 0.031*\"message\" + 0.020*\"laid_back\" + 0.020*\"site\" + '\n",
            "  '0.015*\"line\"'),\n",
            " (4,\n",
            "  '0.079*\"love\" + 0.045*\"go\" + 0.040*\"good\" + 0.034*\"time\" + 0.034*\"friend\" + '\n",
            "  '0.031*\"enjoy\" + 0.027*\"thing\" + 0.025*\"also\" + 0.024*\"try\" + 0.020*\"fun\"'),\n",
            " (5,\n",
            "  '0.053*\"fan\" + 0.045*\"graduate\" + 0.037*\"huge\" + 0.030*\"football\" + '\n",
            "  '0.023*\"baseball\" + 0.022*\"laughter\" + 0.021*\"swimming\" + 0.017*\"motorcycle\" '\n",
            "  '+ 0.017*\"team\" + 0.014*\"fly\"'),\n",
            " (6,\n",
            "  '0.089*\"life\" + 0.049*\"look\" + 0.018*\"relationship\" + 0.017*\"woman\" + '\n",
            "  '0.016*\"man\" + 0.016*\"open\" + 0.015*\"share\" + 0.015*\"important\" + '\n",
            "  '0.015*\"find\" + 0.014*\"experience\"'),\n",
            " (7,\n",
            "  '0.090*\"sense\" + 0.089*\"humor\" + 0.065*\"bear\" + 0.059*\"raise\" + '\n",
            "  '0.030*\"sarcastic\" + 0.025*\"understand\" + 0.019*\"boy\" + 0.016*\"native\" + '\n",
            "  '0.014*\"deal\" + 0.013*\"return\"'),\n",
            " (8,\n",
            "  '0.051*\"get\" + 0.051*\"people\" + 0.037*\"make\" + 0.034*\"know\" + 0.029*\"really\" '\n",
            "  '+ 0.028*\"want\" + 0.025*\"think\" + 0.022*\"well\" + 0.022*\"say\" + 0.020*\"see\"'),\n",
            " (9,\n",
            "  '0.035*\"age\" + 0.017*\"drug\" + 0.015*\"com\" + 0.015*\"highly\" + 0.015*\"red\" + '\n",
            "  '0.013*\"obsess\" + 0.013*\"english\" + 0.012*\"tea\" + 0.011*\"welcome\" + '\n",
            "  '0.011*\"dislike\"'),\n",
            " (10,\n",
            "  '0.053*\"work\" + 0.053*\"new\" + 0.052*\"live\" + 0.044*\"year\" + 0.030*\"meet\" + '\n",
            "  '0.028*\"move\" + 0.024*\"travel\" + 0.020*\"city\" + 0.020*\"place\" + '\n",
            "  '0.019*\"spend\"'),\n",
            " (11,\n",
            "  '0.042*\"hate\" + 0.028*\"break\" + 0.022*\"second\" + 0.017*\"shit\" + '\n",
            "  '0.016*\"difficult\" + 0.015*\"buy\" + 0.014*\"awkward\" + 0.014*\"tree\" + '\n",
            "  '0.013*\"box\" + 0.013*\"rain\"'),\n",
            " (12,\n",
            "  '0.059*\"write\" + 0.039*\"stuff\" + 0.039*\"word\" + 0.036*\"maybe\" + '\n",
            "  '0.032*\"rather\" + 0.030*\"real\" + 0.024*\"simple\" + 0.021*\"whole\" + '\n",
            "  '0.018*\"fill\" + 0.017*\"wear\"'),\n",
            " (13,\n",
            "  '0.070*\"date\" + 0.038*\"single\" + 0.037*\"friendly\" + 0.036*\"ready\" + '\n",
            "  '0.033*\"spontaneous\" + 0.032*\"possible\" + 0.024*\"general\" + 0.022*\"add\" + '\n",
            "  '0.018*\"human\" + 0.018*\"chemistry\"'),\n",
            " (14,\n",
            "  '0.050*\"dog\" + 0.032*\"animal\" + 0.030*\"bring\" + 0.028*\"dinner\" + '\n",
            "  '0.027*\"cooking\" + 0.026*\"business\" + 0.025*\"cat\" + 0.017*\"later\" + '\n",
            "  '0.015*\"strive\" + 0.015*\"practice\"'),\n",
            " (15,\n",
            "  '0.087*\"hard\" + 0.051*\"college\" + 0.049*\"free\" + 0.046*\"serious\" + '\n",
            "  '0.033*\"guess\" + 0.032*\"earth\" + 0.029*\"story\" + 0.024*\"nerd\" + '\n",
            "  '0.022*\"decide\" + 0.019*\"drama\"'),\n",
            " (16,\n",
            "  '0.051*\"shy\" + 0.046*\"outgoing\" + 0.044*\"silly\" + 0.026*\"sort\" + '\n",
            "  '0.025*\"soul\" + 0.023*\"class\" + 0.023*\"compassionate\" + 0.019*\"sensitive\" + '\n",
            "  '0.017*\"basketball\" + 0.016*\"complete\"'),\n",
            " (17,\n",
            "  '0.037*\"small\" + 0.035*\"true\" + 0.028*\"town\" + 0.024*\"though\" + '\n",
            "  '0.019*\"choose\" + 0.019*\"thought\" + 0.018*\"act\" + 0.017*\"chance\" + '\n",
            "  '0.016*\"mom\" + 0.015*\"land\"'),\n",
            " (18,\n",
            "  '0.076*\"interested\" + 0.046*\"curious\" + 0.028*\"science\" + 0.027*\"lol\" + '\n",
            "  '0.024*\"view\" + 0.023*\"spiritual\" + 0.023*\"meeting\" + 0.022*\"ambitious\" + '\n",
            "  '0.020*\"online\" + 0.015*\"tech\"'),\n",
            " (19,\n",
            "  '0.022*\"house\" + 0.017*\"normal\" + 0.015*\"health\" + 0.015*\"loud\" + '\n",
            "  '0.014*\"desire\" + 0.014*\"relate\" + 0.012*\"urban\" + 0.012*\"comedy\" + '\n",
            "  '0.012*\"volunteer\" + 0.012*\"choice\"')]\n"
          ]
        }
      ]
    },
    {
      "cell_type": "code",
      "source": [
        "# Compute Perplexity\n",
        "print('\\nPerplexity: ', lda_model.log_perplexity(corpus))  # a measure of how good the model is. lower the better.\n",
        "\n",
        "# Compute Coherence Score\n",
        "coherence_model_lda = CoherenceModel(model=lda_model, texts=data_lemmatized, dictionary=id2word, coherence='c_v')\n",
        "coherence_lda = coherence_model_lda.get_coherence()\n",
        "print('\\nCoherence Score: ', coherence_lda)\n"
      ],
      "metadata": {
        "colab": {
          "base_uri": "https://localhost:8080/"
        },
        "id": "0Iw8ScSMSZAq",
        "outputId": "e510a96b-6bea-48a9-98ea-1704e1f85477"
      },
      "execution_count": null,
      "outputs": [
        {
          "output_type": "stream",
          "name": "stdout",
          "text": [
            "\n",
            "Perplexity:  -7.824813271282958\n",
            "\n",
            "Coherence Score:  0.28913534721453\n"
          ]
        }
      ]
    },
    {
      "cell_type": "code",
      "source": [
        "# Visualize the topics\n",
        "pyLDAvis.enable_notebook()\n",
        "vis = pyLDAvis.gensim_models.prepare(lda_model, corpus, id2word)\n",
        "vis"
      ],
      "metadata": {
        "colab": {
          "base_uri": "https://localhost:8080/",
          "height": 917
        },
        "id": "1ERLR5hdScfr",
        "outputId": "3025f0bd-d59c-438f-92c0-1735151728fc"
      },
      "execution_count": null,
      "outputs": [
        {
          "output_type": "stream",
          "name": "stderr",
          "text": [
            "/usr/local/lib/python3.7/dist-packages/pyLDAvis/_prepare.py:247: FutureWarning: In a future version of pandas all arguments of DataFrame.drop except for the argument 'labels' will be keyword-only\n",
            "  by='saliency', ascending=False).head(R).drop('saliency', 1)\n"
          ]
        },
        {
          "output_type": "execute_result",
          "data": {
            "text/plain": [
              "PreparedData(topic_coordinates=              x         y  topics  cluster       Freq\n",
              "topic                                                \n",
              "4      0.314742  0.144511       1        1  23.977405\n",
              "8      0.278011  0.248011       2        1  18.284354\n",
              "10     0.228801 -0.309962       3        1  13.649513\n",
              "6      0.224300 -0.129590       4        1  11.987487\n",
              "2     -0.020824 -0.142532       5        1   3.293230\n",
              "12    -0.030354 -0.015037       6        1   2.961166\n",
              "3     -0.027657 -0.027775       7        1   2.662376\n",
              "15    -0.046948  0.002311       8        1   2.356047\n",
              "7     -0.047129  0.003425       9        1   2.264186\n",
              "14    -0.063286  0.013792      10        1   2.062983\n",
              "17    -0.074301  0.020212      11        1   1.884036\n",
              "13    -0.067416  0.015884      12        1   1.821475\n",
              "16    -0.069568  0.018025      13        1   1.789336\n",
              "19    -0.079244  0.020960      14        1   1.774659\n",
              "18    -0.075653  0.019475      15        1   1.699752\n",
              "1     -0.082732  0.022760      16        1   1.660320\n",
              "11    -0.085788  0.023462      17        1   1.636777\n",
              "5     -0.083547  0.021155      18        1   1.463391\n",
              "9     -0.095886  0.025526      19        1   1.400327\n",
              "0     -0.095522  0.025388      20        1   1.371179, topic_info=              Term          Freq         Total Category  logprob  loglift\n",
              "45            love  51950.000000  51950.000000  Default  30.0000  30.0000\n",
              "42            life  29123.000000  29123.000000  Default  29.0000  29.0000\n",
              "23             get  25518.000000  25518.000000  Default  28.0000  28.0000\n",
              "158             go  29498.000000  29498.000000  Default  27.0000  27.0000\n",
              "88            work  19855.000000  19855.000000  Default  26.0000  26.0000\n",
              "...            ...           ...           ...      ...      ...      ...\n",
              "1948       confuse    230.961184    231.929090  Topic20  -5.0885   4.2853\n",
              "5122  construction    226.445415    227.413321  Topic20  -5.1082   4.2852\n",
              "3580    excitement    218.817848    219.785753  Topic20  -5.1425   4.2851\n",
              "3187      softball    207.032548    208.000454  Topic20  -5.1978   4.2848\n",
              "716     management    206.934215    207.902121  Topic20  -5.1983   4.2848\n",
              "\n",
              "[670 rows x 6 columns], token_table=      Topic      Freq     Term\n",
              "term                          \n",
              "1065     11  0.998557  ability\n",
              "1066     11  0.997828  achieve\n",
              "91       11  0.999399      act\n",
              "1014     16  0.999016   action\n",
              "869      12  0.998766      add\n",
              "...     ...       ...      ...\n",
              "200       4  0.605625    world\n",
              "201       6  0.999854    write\n",
              "1583     14  0.998798   writer\n",
              "2736     15  0.998960  writing\n",
              "89        3  0.999944     year\n",
              "\n",
              "[689 rows x 3 columns], R=30, lambda_step=0.01, plot_opts={'xlab': 'PC1', 'ylab': 'PC2'}, topic_order=[5, 9, 11, 7, 3, 13, 4, 16, 8, 15, 18, 14, 17, 20, 19, 2, 12, 6, 10, 1])"
            ],
            "text/html": [
              "\n",
              "<link rel=\"stylesheet\" type=\"text/css\" href=\"https://cdn.jsdelivr.net/gh/bmabey/pyLDAvis@3.3.1/pyLDAvis/js/ldavis.v1.0.0.css\">\n",
              "\n",
              "\n",
              "<div id=\"ldavis_el611403316375269921227739835\"></div>\n",
              "<script type=\"text/javascript\">\n",
              "\n",
              "var ldavis_el611403316375269921227739835_data = {\"mdsDat\": {\"x\": [0.31474160729191064, 0.27801127970323813, 0.22880069311605725, 0.22430022045355552, -0.020823883944082987, -0.030353547475395384, -0.02765671085166447, -0.046947537138472564, -0.047129050644111097, -0.06328616196415864, -0.07430100358980885, -0.0674164160045066, -0.06956752453068156, -0.07924386950777546, -0.07565284140639102, -0.08273194004687044, -0.08578841468530737, -0.08354694513765867, -0.09588592541019698, -0.09552202822768018], \"y\": [0.14451096907533198, 0.24801099422217607, -0.3099620066283558, -0.12959037979361712, -0.14253175193900056, -0.01503749599739315, -0.027774562691570512, 0.0023105053604680174, 0.0034250042410721247, 0.013791943510258439, 0.020211722848692073, 0.015883963310727073, 0.01802500300370007, 0.020960023518003502, 0.019474778319213026, 0.02275982265223866, 0.023462083386123083, 0.021155368983552397, 0.02552560187688576, 0.025388412741494393], \"topics\": [1, 2, 3, 4, 5, 6, 7, 8, 9, 10, 11, 12, 13, 14, 15, 16, 17, 18, 19, 20], \"cluster\": [1, 1, 1, 1, 1, 1, 1, 1, 1, 1, 1, 1, 1, 1, 1, 1, 1, 1, 1, 1], \"Freq\": [23.97740549094618, 18.284354175067158, 13.649512775913832, 11.987486666136824, 3.293230449257603, 2.9611658606473767, 2.6623762383903435, 2.356046875889491, 2.264186413951229, 2.062983270649688, 1.8840356010057724, 1.8214752822139555, 1.7893356105757314, 1.7746588897044047, 1.69975180734027, 1.6603201017116975, 1.6367767196294423, 1.4633909947858912, 1.4003274918807984, 1.371179284302314]}, \"tinfo\": {\"Term\": [\"love\", \"life\", \"get\", \"go\", \"work\", \"live\", \"people\", \"new\", \"good\", \"year\", \"look\", \"friend\", \"guy\", \"enjoy\", \"make\", \"know\", \"time\", \"really\", \"want\", \"also\", \"try\", \"meet\", \"thing\", \"think\", \"sense\", \"hard\", \"humor\", \"move\", \"fun\", \"girl\", \"love\", \"go\", \"good\", \"friend\", \"enjoy\", \"also\", \"try\", \"fun\", \"music\", \"always\", \"pretty\", \"play\", \"family\", \"day\", \"laugh\", \"movie\", \"watch\", \"food\", \"big\", \"easy\", \"like\", \"dance\", \"hike\", \"run\", \"cook\", \"favorite\", \"sport\", \"walk\", \"game\", \"show\", \"adventure\", \"great\", \"time\", \"thing\", \"happy\", \"person\", \"learn\", \"home\", \"lot\", \"read\", \"find\", \"know\", \"want\", \"think\", \"say\", \"way\", \"right\", \"never\", \"even\", \"sometimes\", \"talk\", \"need\", \"let\", \"tell\", \"mean\", \"first\", \"probably\", \"tend\", \"ask\", \"enough\", \"call\", \"change\", \"quite\", \"bad\", \"together\", \"else\", \"seem\", \"listen\", \"use\", \"end\", \"sure\", \"get\", \"really\", \"come\", \"feel\", \"see\", \"little\", \"people\", \"make\", \"well\", \"give\", \"take\", \"bit\", \"long\", \"much\", \"thing\", \"work\", \"live\", \"year\", \"meet\", \"move\", \"city\", \"place\", \"spend\", \"grow\", \"explore\", \"back\", \"art\", \"old\", \"school\", \"bay_area\", \"start\", \"hang\", \"recently\", \"job\", \"last\", \"different\", \"outdoors\", \"ago\", \"interesting\", \"kid\", \"country\", \"sf\", \"cool\", \"amazing\", \"awesome\", \"new\", \"part\", \"travel\", \"many\", \"still\", \"life\", \"relationship\", \"woman\", \"man\", \"open\", \"share\", \"important\", \"care\", \"believe\", \"heart\", \"honest\", \"passionate\", \"other\", \"hope\", \"creative\", \"appreciate\", \"smart\", \"passion\", \"partner\", \"nature\", \"intelligent\", \"self\", \"value\", \"adventurous\", \"loyal\", \"beautiful\", \"moment\", \"strong\", \"challenge\", \"child\", \"interest\", \"experience\", \"look\", \"consider\", \"world\", \"find\", \"kind\", \"person\", \"leave\", \"dream\", \"body\", \"lose\", \"lie\", \"soon\", \"hot\", \"style\", \"morning\", \"folk\", \"problem\", \"hair\", \"pay\", \"future\", \"education\", \"remember\", \"depend\", \"color\", \"rarely\", \"space\", \"wake\", \"dude\", \"middle\", \"expand\", \"slightly\", \"approach\", \"society\", \"liberal\", \"quick\", \"bed\", \"ever\", \"write\", \"stuff\", \"word\", \"maybe\", \"rather\", \"real\", \"simple\", \"whole\", \"fill\", \"wear\", \"rock\", \"dress\", \"giant\", \"catch\", \"kinda\", \"pick\", \"nerdy\", \"sing\", \"major\", \"internet\", \"cute\", \"song\", \"completely\", \"room\", \"throw\", \"summary\", \"surprise\", \"fear\", \"ok\", \"average\", \"guy\", \"girl\", \"m\", \"nice\", \"profile\", \"name\", \"message\", \"laid_back\", \"site\", \"line\", \"thank\", \"send\", \"lady\", \"s\", \"update\", \"black\", \"chat\", \"somewhere\", \"smoke\", \"ass\", \"drop\", \"circle\", \"kick\", \"sorry\", \"case\", \"mile\", \"contact\", \"gentleman\", \"forget\", \"total\", \"hard\", \"college\", \"free\", \"serious\", \"guess\", \"earth\", \"story\", \"nerd\", \"decide\", \"drama\", \"wish\", \"okcupid\", \"pursue\", \"proud\", \"early\", \"self_summary\", \"technology\", \"video\", \"everyday\", \"artistic\", \"join\", \"shop\", \"root\", \"due\", \"quickly\", \"purpose\", \"married\", \"working\", \"background\", \"memory\", \"sense\", \"humor\", \"bear\", \"raise\", \"sarcastic\", \"understand\", \"boy\", \"native\", \"deal\", \"return\", \"bay\", \"rule\", \"perspective\", \"sunshine\", \"dry\", \"wit\", \"attitude\", \"adult\", \"common\", \"store\", \"truth\", \"appreciation\", \"pride\", \"transplant\", \"limit\", \"system\", \"polyamorous\", \"identify\", \"south\", \"option\", \"dog\", \"animal\", \"bring\", \"dinner\", \"cooking\", \"business\", \"cat\", \"later\", \"strive\", \"practice\", \"minute\", \"physically\", \"singe\", \"strange\", \"detail\", \"garden\", \"key\", \"daily\", \"pleasure\", \"particular\", \"geeky\", \"star\", \"trail\", \"overall\", \"inquisitive\", \"master\", \"fancy\", \"nearly\", \"table\", \"kitchen\", \"small\", \"true\", \"town\", \"though\", \"choose\", \"thought\", \"act\", \"chance\", \"mom\", \"land\", \"ability\", \"mother\", \"midwest\", \"cold\", \"admit\", \"push\", \"content\", \"damn\", \"incredibly\", \"reality\", \"force\", \"gift\", \"amount\", \"decent\", \"calm\", \"casual\", \"sea\", \"achieve\", \"shower\", \"private\", \"date\", \"single\", \"friendly\", \"ready\", \"spontaneous\", \"possible\", \"general\", \"add\", \"human\", \"chemistry\", \"educate\", \"forward\", \"successful\", \"individual\", \"winter\", \"bicycle\", \"tahoe\", \"crime\", \"male\", \"religion\", \"balanced\", \"snow\", \"schedule\", \"relatively\", \"marriage\", \"prove\", \"divorce\", \"pic\", \"ultimately\", \"plenty\", \"shy\", \"outgoing\", \"silly\", \"sort\", \"soul\", \"class\", \"compassionate\", \"sensitive\", \"basketball\", \"complete\", \"intense\", \"quirky\", \"somewhat\", \"wonder\", \"orient\", \"road_trip\", \"jazz\", \"competitive\", \"gay\", \"character\", \"similar\", \"suck\", \"range\", \"french\", \"classical\", \"baby\", \"mellow\", \"introspective\", \"optimist\", \"introvert\", \"house\", \"normal\", \"health\", \"loud\", \"desire\", \"relate\", \"urban\", \"comedy\", \"volunteer\", \"choice\", \"recent\", \"odd\", \"smell\", \"pop\", \"regularly\", \"writer\", \"various\", \"shoe\", \"eclectic\", \"topic\", \"medium\", \"slowly\", \"feminist\", \"twice\", \"tendency\", \"excellent\", \"genre\", \"development\", \"progressive\", \"charm\", \"interested\", \"curious\", \"science\", \"lol\", \"view\", \"spiritual\", \"meeting\", \"ambitious\", \"online\", \"tech\", \"writing\", \"white\", \"integrity\", \"spot\", \"tough\", \"bright\", \"cause\", \"bore\", \"hole\", \"breakfast\", \"musical\", \"exist\", \"agree\", \"lovely\", \"performance\", \"sail\", \"dancer\", \"bother\", \"someday\", \"clothe\", \"politic\", \"history\", \"weather\", \"beauty\", \"large\", \"philosophy\", \"skill\", \"lifestyle\", \"touch\", \"brain\", \"action\", \"email\", \"terrible\", \"charming\", \"literature\", \"direct\", \"modern\", \"ideal\", \"sensual\", \"voice\", \"freedom\", \"phone\", \"theatre\", \"control\", \"remain\", \"stable\", \"boyfriend\", \"trade\", \"regret\", \"trustworthy\", \"hate\", \"break\", \"second\", \"shit\", \"difficult\", \"buy\", \"awkward\", \"tree\", \"box\", \"rain\", \"daughter\", \"die\", \"sunny\", \"power\", \"ridiculous\", \"poetry\", \"mature\", \"tired\", \"information\", \"lack\", \"psychology\", \"ball\", \"collect\", \"perform\", \"childhood\", \"crap\", \"medicine\", \"pursuit\", \"news\", \"third\", \"fan\", \"graduate\", \"huge\", \"football\", \"baseball\", \"laughter\", \"swimming\", \"motorcycle\", \"team\", \"fly\", \"son\", \"backpack\", \"peace\", \"jump\", \"piano\", \"vegetarian\", \"planet\", \"green\", \"maintain\", \"cheese\", \"boat\", \"hippie\", \"shark\", \"cherish\", \"classic\", \"singing\", \"feed\", \"sporting_event\", \"fishing\", \"warrior\", \"age\", \"drug\", \"com\", \"highly\", \"red\", \"obsess\", \"english\", \"tea\", \"welcome\", \"dislike\", \"irish\", \"soft\", \"cry\", \"trait\", \"german\", \"gal\", \"evolve\", \"fantasy\", \"humanity\", \"gain\", \"cup\", \"fully\", \"partnership\", \"alcohol\", \"fabulous\", \"mixed\", \"rough\", \"okc\", \"novel\", \"openly\", \"fine\", \"money\", \"search\", \"level\", \"process\", \"summarize\", \"knowledge\", \"tattoo\", \"particularly\", \"hurt\", \"cultural\", \"necessary\", \"emotionally\", \"appeal\", \"require\", \"low\", \"success\", \"planning\", \"craft\", \"extreme\", \"scientist\", \"multiple\", \"label\", \"skydive\", \"compare\", \"confuse\", \"construction\", \"excitement\", \"softball\", \"management\"], \"Freq\": [51950.0, 29123.0, 25518.0, 29498.0, 19855.0, 19450.0, 27111.0, 20738.0, 26319.0, 16438.0, 17767.0, 22292.0, 8261.0, 20416.0, 19818.0, 16813.0, 25308.0, 14523.0, 13761.0, 16163.0, 15544.0, 11074.0, 25035.0, 12623.0, 5555.0, 5583.0, 5485.0, 10414.0, 13388.0, 5216.0, 51949.51110183204, 29497.46337745726, 26318.137640537596, 22291.31111490791, 20415.241174012768, 16162.240503923891, 15543.233794649575, 13388.02151986811, 11574.856945189658, 11247.56681253193, 10130.932831059308, 9250.681561756704, 9062.435060880549, 8990.04991830344, 8808.132009764659, 7089.991459436039, 6186.987263187047, 5891.356558631626, 5207.376423333742, 5182.379184948449, 4787.344694467515, 4430.973347459649, 4384.8237786962845, 4350.918514486974, 4242.958291200632, 4107.74523554617, 4023.0422994127293, 4019.0498035337077, 3991.7051861461455, 3861.350332916229, 5412.235097928474, 8970.056030745534, 22334.62876514775, 17581.988260972415, 5131.841316468061, 8021.468527464435, 5637.64751820636, 4545.726576985735, 5784.2388669357315, 4845.08661970662, 5240.83861899404, 16812.03457067201, 13760.940209564287, 12622.278392327205, 10757.292609938218, 8487.442554270687, 5955.9879413377585, 5883.560266004315, 5665.237356854538, 5514.70822513968, 5308.232356843676, 5144.957215523755, 5045.176799834863, 4745.818810463457, 4079.102565860702, 4044.223694464325, 3461.5814909240153, 3131.682282273809, 3034.3090379541227, 2850.7261785906553, 2757.3569029539617, 2751.730558436063, 2703.282979182667, 2561.9135158801314, 2501.264516989474, 2473.3774180746714, 2457.9621735249502, 2438.714568915736, 2426.112961688984, 2403.2201852884577, 2324.993394153565, 25411.367807720864, 14482.971633808585, 6908.589735707109, 7720.467808166145, 9842.772117809207, 7180.831702309412, 25277.97070438676, 18344.959991908338, 10802.557291036506, 4733.976420249887, 9778.905806025938, 4767.371272357405, 5022.754668222907, 6878.501953848126, 7452.743938521305, 19854.51187706147, 19449.226414287285, 16437.95392607277, 11073.797853013004, 10413.779303358171, 7493.41497020888, 7354.284005372567, 7107.85537932507, 6454.131138821783, 5859.441477289666, 5565.156312632409, 5291.199023840644, 5220.502093351617, 5057.913804073306, 4610.461330454141, 4594.536346406626, 3957.89388190303, 3768.90941948069, 3681.704595674128, 3555.4653341872017, 3442.238246279976, 3349.132811423238, 3297.8784568363017, 3246.056121566965, 3086.3358569936145, 2919.845998700131, 2916.0006722708686, 2627.284565148083, 2526.070303391284, 2211.467678162223, 19589.964806115968, 3576.2601623863297, 9103.2409518911, 4278.0707723134055, 2964.1130799288744, 29119.638559567895, 6034.881588623434, 5543.854713017303, 5289.583555297025, 5262.572835942293, 4937.653895917329, 4933.050170226072, 4507.846906589699, 4157.78111734383, 4146.013398087318, 3926.6035941411706, 3860.2616476012327, 3724.2375455705837, 3710.9663511578633, 3224.927988435675, 3190.292872456294, 3167.642566447523, 3068.5976722642195, 2863.71282258525, 2545.4040203921695, 2463.1560628582147, 2435.7248826962605, 2305.5078048164055, 2136.8052998088024, 2135.617398935027, 2101.1441862831543, 2097.1706944486973, 2038.3560330271723, 2037.7035412741232, 1823.9548655423987, 2974.8458887505117, 4745.952733579526, 16082.516721076034, 2650.294966270375, 4438.461421414743, 4772.560371580271, 2765.775944771376, 2658.277928456513, 2356.915702128279, 1862.5316517929678, 1503.8826322841328, 1281.456398937318, 1008.0210761333229, 958.9259845152577, 932.5904631755982, 920.6103444472077, 891.3855658880914, 866.0877915606329, 833.8009515132591, 822.8469366592301, 770.5544216050733, 758.9937908932382, 731.9758476544421, 708.0042183505664, 702.042345431573, 677.4186585268837, 668.5547125604518, 652.4920825111992, 648.0618685631964, 627.6553848185507, 627.1759220775838, 612.43127010271, 612.2228244299469, 607.3466531736094, 600.4199494401809, 595.9388909981587, 594.7253661100109, 592.1325482057675, 899.7333606648242, 4809.733466301202, 3149.500047395123, 3134.6218300179053, 2928.3998253877135, 2572.434897056905, 2394.8873160905287, 1916.0596744275854, 1707.9904329876658, 1459.044731633813, 1409.1158623518131, 1245.1600759986432, 1186.8757101024062, 1147.365886081505, 994.5725286358505, 978.2929540017707, 947.1276302412692, 944.3431425606185, 896.4102621351219, 855.2125731176457, 826.9766478924764, 782.3444812380601, 781.3947276634589, 739.875884859932, 732.4965029425093, 691.9810397679147, 666.8403621955455, 643.5567880243613, 626.048860412631, 618.3164654100256, 592.6429165814864, 8260.721405293649, 5215.409587602768, 4871.244667153968, 4464.749346394293, 3044.661185510991, 2565.5431784540588, 2259.1585346724323, 1456.3103874677406, 1431.6582808865999, 1115.0568564142386, 1088.9434684207483, 1026.4000280559665, 941.5746024980702, 917.8591678894774, 781.8110852000766, 744.5041556329691, 708.8800799691141, 688.8658946378174, 654.0421073900682, 596.1478971400389, 576.726039002487, 549.045222017341, 525.0551919165068, 500.4656565400098, 475.9417058082072, 453.5083037172748, 449.43525011195135, 445.32207373741625, 439.9487038208675, 437.41115028621545, 5582.822664318153, 3286.933995981528, 3122.5505613961363, 2969.4910291944, 2138.4180853175053, 2062.51502785494, 1841.4467617475507, 1574.4127908680682, 1429.3866111045659, 1246.0676825881233, 1089.1634025554215, 957.8091551876205, 766.0841330080208, 759.8198631583638, 752.1309667588528, 729.6467007058221, 722.0017901679016, 687.1532422447392, 674.50862541477, 609.8534838610681, 601.4500868787989, 525.4972906354159, 451.25970328909773, 448.0986239894078, 429.81359945159187, 403.79551287394844, 388.86548895476943, 388.7924987920755, 375.37642148637553, 361.2793423671669, 5554.534552209367, 5484.813619959566, 4049.0533568312903, 3668.655460272306, 1836.9438027422113, 1517.3203838210006, 1181.1831001574117, 1012.768286255987, 876.1737172637181, 830.2419646051341, 789.793678887475, 653.5536324805735, 624.9211537617748, 564.6813970800011, 536.246105712128, 533.3358070033013, 489.72198474407537, 484.49732620124007, 471.8294210586022, 437.66014727768766, 429.3905451584836, 419.32921031089285, 413.56343834828635, 388.5183699850747, 381.6700832341074, 375.46490137443254, 362.6654324166108, 361.22027488620023, 358.3662989662769, 350.82745335872414, 2791.1898779563303, 1791.6815593903682, 1691.4099128358287, 1577.970066520573, 1515.2667970770833, 1488.61829323387, 1393.9456344989783, 939.0018479684144, 860.4370360048489, 832.7702052327867, 770.4239037955298, 739.7152102733102, 657.6598987150643, 645.0284890034088, 643.368007957218, 633.91383913126, 631.7629534126818, 619.1029988538427, 548.9118492948995, 528.2849964038055, 521.4672380592765, 512.2071636997385, 504.96348894971317, 476.18010339231694, 463.3009726814809, 460.6911655778502, 453.17720680605424, 449.59409387446357, 433.8412474039116, 431.8830131677505, 1894.7543435201997, 1824.0923560664896, 1453.9936292598404, 1256.829795128721, 991.345278080699, 966.5156998601095, 912.5817386272798, 849.2095282571235, 814.1718085849834, 748.2522830307613, 723.0775806693127, 695.4179078207239, 673.5348712792706, 607.6215754026813, 549.5592068025725, 543.6234261922167, 527.3567794809435, 518.6198482832824, 484.27966082363105, 472.6224484340861, 465.37115159006447, 464.3686047765528, 457.46080277308613, 380.2642908076092, 375.6019761068976, 371.02301928497303, 333.3251314224185, 316.72306449121436, 314.70323528055945, 312.81339068974347, 3468.685153065765, 1914.1922659589945, 1818.1045957324532, 1784.6703569496653, 1621.1610364746014, 1612.7481787567592, 1179.191166174465, 1092.381415670455, 918.7670108931825, 895.6045494874144, 854.868709265945, 843.2583837184302, 775.1096866597325, 714.372160000786, 638.8306389730277, 555.6286028738577, 487.9970805772823, 468.62658548255865, 461.5493108555042, 457.479460980614, 417.73710777866904, 417.56272402836635, 403.37180621846903, 380.66527214711334, 376.63206880423417, 356.31501834223275, 354.1049915492433, 336.91114293611355, 335.66439641312746, 319.38302791532334, 2487.3800004042946, 2236.027269160092, 2140.497800934314, 1258.0832281132189, 1205.5011509070653, 1118.3507867003968, 1104.1427011793887, 909.7938008406933, 845.2355414588351, 790.9439464415826, 773.8197317413944, 770.1870632826783, 768.5690243811239, 749.4902558255645, 667.4565664475208, 646.157454568063, 549.8926506499915, 540.4493874950765, 512.4910661197353, 480.2668237745328, 477.07748668789253, 433.22736722507676, 412.1560878934695, 398.81741610829596, 387.32557152232863, 382.8469279538551, 378.9466495508, 354.9845684097449, 335.9912484376033, 331.7425082082163, 1083.3122082905866, 812.3682628837016, 725.9656407432434, 708.2020701897309, 677.0316608168241, 670.2837121863963, 598.5518997106454, 583.3628538744132, 580.3559465870575, 565.2444488513983, 563.6772820855092, 545.87046876113, 535.9168676240081, 531.6329895769243, 524.4017871835537, 508.6448075863139, 499.3286536414466, 493.3034190030303, 463.3879527570929, 461.50589917537263, 408.387210687876, 394.22136644872813, 374.6447366509378, 356.732998670108, 334.3675712601477, 314.6536298663484, 288.3880927160985, 277.78009484553155, 274.3774123859844, 265.9517074399561, 3507.1329012448673, 2126.6584506344366, 1313.0468072904855, 1250.9869270178156, 1098.7727690390673, 1059.0032124462275, 1050.8483699308092, 1036.8522730031311, 906.7929454666436, 682.4625766414842, 609.6671270409394, 592.362859390356, 549.1384846394367, 528.7449365856081, 513.4547798024954, 505.41260332954903, 482.9495625201431, 476.8844027226333, 406.4920342060278, 404.3157983733734, 394.9847500438783, 390.45545408320913, 370.48494410520004, 359.25882786600323, 358.66802287621164, 354.4004830759971, 342.2383653711395, 335.0223344874454, 331.47294343300877, 323.00405405169874, 1146.397173952593, 1058.3095939646764, 958.5340818871517, 765.7192249188715, 742.0477481115608, 730.7982517797927, 717.0618930989903, 643.4103024218252, 628.8723267543809, 614.3814801859298, 573.5979596368525, 557.2390946410957, 508.9048674237218, 489.6944385566126, 477.4269790248127, 460.26092263285557, 441.24745623680843, 422.6650352828987, 394.02477473144603, 389.1317100504718, 372.6209001638743, 369.77812021061396, 366.5223694159053, 353.475126001567, 353.3919743923215, 351.6062207363769, 328.85044627496495, 322.5851477743751, 322.1327126470762, 320.8698132694802, 1878.789446600897, 1246.3585284447643, 963.1563454220972, 752.1971372013858, 730.0096038953857, 683.6987535819829, 629.8100873385841, 613.2167516129582, 585.8893874373479, 582.5472067941248, 568.3944372848375, 565.4190722077261, 562.6198918401578, 504.72689518858255, 472.59991315054197, 429.5217525101122, 417.395273686761, 406.467408751041, 403.6726829590684, 396.55552010352744, 393.1082614341025, 376.99410482162426, 372.68449027472394, 345.46807417353045, 331.97572671997017, 312.80023588453787, 308.12170337837097, 299.16517548572386, 295.83269499309716, 291.9350454257062, 2131.724377281385, 1804.4763593850732, 1472.6012663892357, 1180.8728018560384, 927.6069176983873, 882.7837095841064, 822.8598264446664, 679.8102071267452, 679.6284919211666, 575.7839840390303, 575.1628694066071, 556.5374702709457, 498.3468792204403, 467.82620619825406, 451.41764323912906, 414.81349352710936, 411.7651669824001, 396.1762207432343, 366.1594519515115, 364.46282300831535, 361.81109120253274, 333.7043420286441, 332.6417063457142, 323.202826002195, 315.4122611367264, 286.3630643992879, 283.6053444640737, 277.428739661918, 270.447853384518, 266.57842126113934, 1333.0107089546132, 654.1925470811336, 591.7941358926909, 591.713782942452, 561.3828949784934, 483.0478153260139, 478.9099589456959, 476.4808137509977, 426.4383426815734, 418.40258463093704, 397.5541283788962, 392.8541575213312, 389.4014026471498, 367.4735954181418, 347.26336811793163, 326.00524004246563, 308.2590986480282, 301.04047596280833, 296.6872943339669, 293.7346083522294, 292.30276935574153, 287.7587494700829, 284.827701084653, 278.86227811315365, 263.39435300089804, 261.27930022272517, 256.72715956018067, 249.90809334472107, 238.73673593648212, 222.35458231060477, 1114.9117427617564, 956.8718739037251, 832.8848461078269, 726.6766548638253, 626.4052750392096, 618.2193068022037, 614.7474652317208, 606.7704045670135, 483.0053628642174, 449.29884103295683, 449.1167880233743, 426.53447235082615, 396.0484054821805, 390.42310699030253, 368.55773839016587, 346.4339382189552, 340.01370979462234, 338.690372745657, 333.91120223567196, 319.30765615454936, 298.3062720767092, 287.7928677155683, 262.3279239917694, 248.92911893296747, 236.7719014490961, 230.9611844082822, 226.44541530727653, 218.8178475944901, 207.0325483662103, 206.93421532779692], \"Total\": [51950.0, 29123.0, 25518.0, 29498.0, 19855.0, 19450.0, 27111.0, 20738.0, 26319.0, 16438.0, 17767.0, 22292.0, 8261.0, 20416.0, 19818.0, 16813.0, 25308.0, 14523.0, 13761.0, 16163.0, 15544.0, 11074.0, 25035.0, 12623.0, 5555.0, 5583.0, 5485.0, 10414.0, 13388.0, 5216.0, 51950.48033523743, 29498.43261086266, 26319.106873942994, 22292.280348313307, 20416.210407418166, 16163.20973732928, 15544.203028054964, 13388.9907532735, 11575.826178595047, 11248.536045937319, 10131.902064464697, 9251.650795162093, 9063.404294285938, 8991.01915170883, 8809.101243170047, 7090.9606928414305, 6187.956496592438, 5892.325792037018, 5208.345656739134, 5183.34841835384, 4788.313927872907, 4431.94258086504, 4385.793012101676, 4351.887747892366, 4243.927524606023, 4108.714468951562, 4024.0115328181214, 4020.0190369391, 3992.6744195515375, 3862.319566321621, 5417.546054507292, 9396.569385741801, 25308.437992434043, 25035.65010550632, 5669.165825299765, 10898.094411453161, 6668.550823822991, 4838.148997548369, 10353.79251015015, 6748.869423765704, 12615.499895397717, 16813.00253281593, 13761.908171708197, 12623.246354471115, 10758.260572082128, 8488.410516414597, 5956.955903481672, 5884.528228148229, 5666.205318998452, 5515.676187283593, 5309.2003189875895, 5145.925177667668, 5046.144761978777, 4746.786772607371, 4080.070528004616, 4045.191656608239, 3462.5494530679293, 3132.650244417723, 3035.2770000980368, 2851.6941407345694, 2758.3248650978758, 2752.698520579977, 2704.250941326581, 2562.8814780240455, 2502.232479133388, 2474.3453802185854, 2458.9301356688643, 2439.68253105965, 2427.080923832898, 2404.188147432372, 2325.961356297479, 25518.476257676924, 14523.720374179335, 6925.0908585320185, 7900.327821804486, 10122.206424307857, 7380.972556937735, 27111.72041212054, 19818.56335103466, 11548.751773012056, 4878.65994412928, 11852.14786312251, 5213.658413424088, 5943.335886182918, 11007.470320190218, 25035.65010550632, 19855.48178669637, 19450.196323922184, 16438.92383570767, 11074.767762647896, 10414.749212993063, 7494.384879843774, 7355.253915007461, 7108.825288959964, 6455.101048456677, 5860.41138692456, 5566.126222267303, 5292.168933475538, 5221.472002986511, 5058.8837137082, 4611.431240089035, 4595.506256048617, 3958.863791537925, 3769.879329115585, 3682.674505309023, 3556.4352438220967, 3443.208155914871, 3350.102721058133, 3298.8483664711966, 3247.02603120186, 3087.3057666285094, 2920.815908335026, 2916.9705819057635, 2628.254474782978, 2527.040213026179, 2212.437587797118, 20738.85300995618, 3861.1195807213403, 12398.941119165082, 5765.100791077508, 6343.03766066233, 29123.029256274236, 6035.85049653606, 5544.823620929928, 5290.55246320965, 5263.541743854918, 4938.622803829954, 4934.019078138697, 4508.815814502324, 4158.750025256456, 4146.9823059999435, 3927.5725020537966, 3861.2305555138587, 3725.2064534832098, 3711.9353470292467, 3225.896896348301, 3191.26178036892, 3168.6114743601493, 3069.5665801768455, 2864.681730497876, 2546.3729283047956, 2464.1249707708407, 2436.6937906088865, 2306.4767127290315, 2137.7742077214284, 2136.586306847653, 2102.1130941957804, 2098.1396023613233, 2039.3249409397984, 2038.6724491867492, 1824.9237734550247, 2996.015970623868, 4900.800082278156, 17767.973886531097, 2768.046879495244, 7327.962145947638, 12615.499895397717, 6723.176225954034, 10898.094411453161, 2357.883988887249, 1863.499938551938, 1504.850919043103, 1282.4246856962882, 1008.9893628922925, 959.8942712742273, 933.5587499345678, 921.5786312061773, 892.353852647061, 867.0560783196025, 834.7692382722287, 823.8152234181997, 771.522708364043, 759.9620776522078, 732.9441344134117, 708.972505109536, 703.0106321905427, 678.3869452858534, 669.5229993194214, 653.4603692701688, 649.030155322166, 628.6236715775203, 628.1442088365534, 613.3995568616796, 613.1911111889165, 608.314939932579, 601.3882361991505, 596.9071777571284, 595.6936528689805, 593.1008349647371, 3194.7994979719642, 4810.701811194787, 3150.4683922887084, 3135.5901749114905, 2929.3681702812987, 2573.40324195049, 2395.855660984114, 1917.0280193211709, 1708.9587778812513, 1460.0130765273984, 1410.0842072453986, 1246.1284208922286, 1187.8440549959917, 1148.3342309750906, 995.5408735294355, 979.2612988953557, 948.0959751348543, 945.3114874542035, 897.3786070287069, 856.1809180112307, 827.9449927860614, 783.3128261316451, 782.3630725570439, 740.844229753517, 733.4648478360943, 692.9493846614997, 667.8087070891305, 644.5251329179463, 627.017205306216, 619.2848103036106, 593.6112614750714, 8261.691215000126, 5216.379397309249, 4872.214476860449, 4465.719156100774, 3045.630995217472, 2566.51298816054, 2260.1283443789134, 1457.2801971742215, 1432.6280905930807, 1116.0266661207195, 1089.9132781272292, 1027.3698377624473, 942.5444122045508, 918.8289775959579, 782.7808949065571, 745.4739653394496, 709.8498896755947, 689.8357043442979, 655.0119170965487, 597.1177068465195, 577.6958487089676, 550.0150317238215, 526.0250016229874, 501.43546624649053, 476.91151551468795, 454.4781134237556, 450.4050598184321, 446.291883443897, 440.91851352734824, 438.3809599926962, 5583.791024680068, 3287.9023563434434, 3123.518921758052, 2970.4593895563157, 2139.386445679421, 2063.4833882168555, 1842.415122109466, 1575.3811512299835, 1430.3549714664812, 1247.0360429500386, 1090.1317629173368, 958.7775155495355, 767.0524933699357, 760.7882235202787, 753.0993271207677, 730.6150610677371, 722.9701505298166, 688.1216026066542, 675.476985776685, 610.821844222983, 602.4184472407138, 526.4656509973308, 452.22806365101286, 449.06698435132296, 430.781959813507, 404.76387323586357, 389.83384931668456, 389.7608591539906, 376.34478184829067, 362.24770272908205, 5555.50391139634, 5485.782979146539, 4050.0227160182635, 3669.624819459279, 1837.9131619291845, 1518.2897430079738, 1182.1524593443849, 1013.73764544296, 877.1430764506911, 831.211323792107, 790.763038074448, 654.5229916675464, 625.8905129487478, 565.6507562669741, 537.215464899101, 534.3051661902742, 490.69134393104844, 485.46668538821314, 472.79878024557524, 438.6295064646607, 430.35990434545664, 420.2985694978659, 414.5327975352594, 389.48772917204775, 382.63944242108045, 376.4342605614056, 363.6347916035839, 362.1896340731733, 359.33565815324994, 351.7968125456972, 2792.1577953825863, 1792.6494768166242, 1692.3778302620847, 1578.937983946829, 1516.2347145033393, 1489.586210660126, 1394.9135519252343, 939.9697653946699, 861.4049534311044, 833.7381226590422, 771.3918212217853, 740.6831276995657, 658.6278161413198, 645.9964064296644, 644.3359253834735, 634.8817565575156, 632.7308708389373, 620.0709162800982, 549.8797667211551, 529.2529138300611, 522.435155485532, 513.1750811259941, 505.9314063759689, 477.14802081857266, 464.26889010773664, 461.6590830041059, 454.14512423230997, 450.5620113007193, 434.80916483016733, 432.85093059400623, 1895.7213619691329, 1825.0593745154229, 1454.9606477087736, 1257.7968135776541, 992.3122965296319, 967.4827183090424, 913.5487570762127, 850.1765467060563, 815.1388270339163, 749.2193014796942, 724.0445991182456, 696.3849262696568, 674.5018897282035, 608.5885938516142, 550.5262252515054, 544.5904446411496, 528.3237979298764, 519.5868667322153, 485.2466792725641, 473.58946688301916, 466.33817003899753, 465.33562322548585, 458.4278212220192, 381.23130925654226, 376.56899455583067, 371.9900377339061, 334.29214987135157, 317.6900829401474, 315.6702537294925, 313.78040913867653, 3469.65338384146, 1915.160496734689, 1819.0728265081477, 1785.63858772536, 1622.129267250296, 1613.7164095324538, 1180.1593969501596, 1093.3496464461496, 919.7352416688768, 896.5727802631087, 855.8369400416393, 844.2266144941245, 776.0779174354268, 715.3403907764804, 639.798869748722, 556.5968336495521, 488.96531135297676, 469.5948162582531, 462.51754163119864, 458.4476917563085, 418.7053385590164, 418.5309548040608, 404.3400369941635, 381.6335029228078, 377.6002995799286, 357.2832491179272, 355.0732223249378, 337.879373711808, 336.6326271888219, 320.3512586910178, 2488.348090092149, 2236.9953588479466, 2141.4658906221684, 1259.0513178010726, 1206.469240594919, 1119.3188763882506, 1105.1107908672425, 910.7618905285468, 846.2036311466886, 791.9120361294362, 774.787821429248, 771.1551529705318, 769.5371140689774, 750.4583455134181, 668.4246561353743, 647.1255442559166, 550.8607403378451, 541.41747718293, 513.4591558075888, 481.23491346238643, 478.0455763757462, 434.1954569129304, 413.1241775813231, 399.7855057961496, 388.2936612101823, 383.8150176417087, 379.9147392386536, 355.95265809759854, 336.95933812545695, 332.71059789606994, 1084.2798070042227, 813.3358615973375, 726.9332394568793, 709.1696689033668, 677.99925953046, 671.2513109000322, 599.5194984242813, 584.3304525880491, 581.3235453006934, 566.2120475650341, 564.6448807991451, 546.8380674747659, 536.884466337644, 532.6005882905602, 525.3693858971895, 509.6124062999498, 500.29625235508246, 494.27101771666617, 464.35555147072876, 462.4734978890085, 409.3548094015119, 395.188965162364, 375.61233536457365, 357.70059738374385, 335.3351699737836, 315.6212285799843, 289.3556914297344, 278.74769355916743, 275.3450110996203, 266.919306153592, 3508.1006483894607, 2127.62619777903, 1314.0145544350785, 1251.9546741624085, 1099.7405161836602, 1059.9709595908205, 1051.8161170754022, 1037.820020147724, 907.7606926112364, 683.4303237860771, 610.6348741855322, 593.3306065349489, 550.1062317840295, 529.712683730201, 514.4225269470883, 506.38035047414195, 483.917309664736, 477.8521498672262, 407.45978135062074, 405.28354551796633, 395.9524971884712, 391.42320122780205, 371.45269124979296, 360.22657501059615, 359.63577002080456, 355.36823022059, 343.2061125157324, 335.9900816320383, 332.4406905776017, 323.97180119629166, 1147.3645886539232, 1059.2770086660066, 959.5014965884818, 766.6866396202016, 743.0151628128909, 731.7656664811228, 718.0293078003203, 644.3777171231553, 629.839741455711, 615.3488948872599, 574.5653743381826, 558.2065093424258, 509.872282125052, 490.6618532579428, 478.3943937261429, 461.22833733418577, 442.21487093813863, 423.6324499842289, 394.99218943277623, 390.099124751802, 373.5883148652045, 370.74553491194416, 367.4897841172355, 354.4425407028972, 354.3593890936517, 352.5736354377071, 329.81786097629515, 323.5525624757053, 323.1001273484064, 321.8372279708104, 1879.7571016247637, 1247.326183468631, 964.1240004459639, 753.1647922252525, 730.9772589192524, 684.6664086058497, 630.7777423624509, 614.184406636825, 586.8570424612146, 583.5148618179916, 569.3620923087043, 566.3867272315929, 563.5875468640246, 505.6945502124493, 473.56756817440873, 430.489407533979, 418.3629287106278, 407.43506377490775, 404.6403379829352, 397.5231751273942, 394.07591645796924, 377.96175984549103, 373.6521452985907, 346.4357291973972, 332.94338174383694, 313.76789090840464, 309.08935840223774, 300.13283050959063, 296.80035001696393, 292.902700449573, 2132.692847342209, 1805.4448294458969, 1473.5697364500593, 1181.841271916862, 928.575387759211, 883.7521796449302, 823.8282965054901, 680.778677187569, 680.5969619819904, 576.752454099854, 576.1313394674308, 557.5059403317695, 499.315349281264, 468.79467625907773, 452.38611329995274, 415.78196358793303, 412.7336370432238, 397.144690804058, 367.1279220123352, 365.43129306913903, 362.7795612633564, 334.67281208946775, 333.6101764065379, 324.1712960630187, 316.38073119755006, 287.3315344601116, 284.5738145248974, 278.39720972274165, 271.4163234453417, 267.546891321963, 1333.978988931073, 655.1608270575936, 592.7624158691508, 592.6820629189119, 562.3511749549533, 484.0160953024739, 479.8782389221559, 477.4490937274577, 427.40662265803337, 419.37086460739704, 398.5224083553562, 393.8224374977912, 390.3696826236098, 368.4418753946018, 348.23164809439163, 326.9735200189256, 309.2273786244882, 302.0087559392683, 297.6555743104269, 294.70288832868937, 293.2710493322015, 288.7270294465429, 285.79598106111297, 279.83055808961365, 264.36263297735803, 262.24758019918517, 257.69543953664066, 250.87637332118103, 239.7050159129421, 223.32286228706474, 1115.879647995055, 957.8397791370237, 833.8527513411254, 727.6445600971239, 627.3731802725082, 619.1872120355023, 615.7153704650193, 607.7383098003121, 483.973268097516, 450.26674626625544, 450.0846932566729, 427.50237758412476, 397.0163107154791, 391.39101222360114, 369.5256436234645, 347.4018434522538, 340.98161502792095, 339.6582779789556, 334.8791074689706, 320.275561387848, 299.2741773100078, 288.76077294886693, 263.295829225068, 249.89702416626608, 237.73980668239471, 231.92908964158082, 227.41332054057514, 219.7857528277887, 208.0004536048064, 207.90212056109553], \"Category\": [\"Default\", \"Default\", \"Default\", \"Default\", \"Default\", \"Default\", \"Default\", \"Default\", \"Default\", \"Default\", \"Default\", \"Default\", \"Default\", \"Default\", \"Default\", \"Default\", \"Default\", \"Default\", \"Default\", \"Default\", \"Default\", \"Default\", \"Default\", \"Default\", \"Default\", \"Default\", \"Default\", \"Default\", \"Default\", \"Default\", \"Topic1\", \"Topic1\", \"Topic1\", \"Topic1\", \"Topic1\", \"Topic1\", \"Topic1\", \"Topic1\", \"Topic1\", \"Topic1\", \"Topic1\", \"Topic1\", \"Topic1\", \"Topic1\", \"Topic1\", \"Topic1\", \"Topic1\", \"Topic1\", \"Topic1\", \"Topic1\", \"Topic1\", \"Topic1\", \"Topic1\", \"Topic1\", \"Topic1\", \"Topic1\", \"Topic1\", \"Topic1\", \"Topic1\", \"Topic1\", \"Topic1\", \"Topic1\", \"Topic1\", \"Topic1\", \"Topic1\", \"Topic1\", \"Topic1\", \"Topic1\", \"Topic1\", \"Topic1\", \"Topic1\", \"Topic2\", \"Topic2\", \"Topic2\", \"Topic2\", \"Topic2\", \"Topic2\", \"Topic2\", \"Topic2\", \"Topic2\", \"Topic2\", \"Topic2\", \"Topic2\", \"Topic2\", \"Topic2\", \"Topic2\", \"Topic2\", \"Topic2\", \"Topic2\", \"Topic2\", \"Topic2\", \"Topic2\", \"Topic2\", \"Topic2\", \"Topic2\", \"Topic2\", \"Topic2\", \"Topic2\", \"Topic2\", \"Topic2\", \"Topic2\", \"Topic2\", \"Topic2\", \"Topic2\", \"Topic2\", \"Topic2\", \"Topic2\", \"Topic2\", \"Topic2\", \"Topic2\", \"Topic2\", \"Topic2\", \"Topic2\", \"Topic2\", \"Topic2\", \"Topic2\", \"Topic3\", \"Topic3\", \"Topic3\", \"Topic3\", \"Topic3\", \"Topic3\", \"Topic3\", \"Topic3\", \"Topic3\", \"Topic3\", \"Topic3\", \"Topic3\", \"Topic3\", \"Topic3\", \"Topic3\", \"Topic3\", \"Topic3\", \"Topic3\", \"Topic3\", \"Topic3\", \"Topic3\", \"Topic3\", \"Topic3\", \"Topic3\", \"Topic3\", \"Topic3\", \"Topic3\", \"Topic3\", \"Topic3\", \"Topic3\", \"Topic3\", \"Topic3\", \"Topic3\", \"Topic3\", \"Topic3\", \"Topic4\", \"Topic4\", \"Topic4\", \"Topic4\", \"Topic4\", \"Topic4\", \"Topic4\", \"Topic4\", \"Topic4\", \"Topic4\", \"Topic4\", \"Topic4\", \"Topic4\", \"Topic4\", \"Topic4\", \"Topic4\", \"Topic4\", \"Topic4\", \"Topic4\", \"Topic4\", \"Topic4\", \"Topic4\", \"Topic4\", \"Topic4\", \"Topic4\", \"Topic4\", \"Topic4\", \"Topic4\", \"Topic4\", \"Topic4\", \"Topic4\", \"Topic4\", \"Topic4\", \"Topic4\", \"Topic4\", \"Topic4\", \"Topic4\", \"Topic4\", \"Topic5\", \"Topic5\", \"Topic5\", \"Topic5\", \"Topic5\", \"Topic5\", \"Topic5\", \"Topic5\", \"Topic5\", \"Topic5\", \"Topic5\", \"Topic5\", \"Topic5\", \"Topic5\", \"Topic5\", \"Topic5\", \"Topic5\", \"Topic5\", \"Topic5\", \"Topic5\", \"Topic5\", \"Topic5\", \"Topic5\", \"Topic5\", \"Topic5\", \"Topic5\", \"Topic5\", \"Topic5\", \"Topic5\", \"Topic5\", \"Topic5\", \"Topic6\", \"Topic6\", \"Topic6\", \"Topic6\", \"Topic6\", \"Topic6\", \"Topic6\", \"Topic6\", \"Topic6\", \"Topic6\", \"Topic6\", \"Topic6\", \"Topic6\", \"Topic6\", \"Topic6\", \"Topic6\", \"Topic6\", \"Topic6\", \"Topic6\", \"Topic6\", \"Topic6\", \"Topic6\", \"Topic6\", \"Topic6\", \"Topic6\", \"Topic6\", \"Topic6\", \"Topic6\", \"Topic6\", \"Topic6\", \"Topic7\", \"Topic7\", \"Topic7\", \"Topic7\", \"Topic7\", \"Topic7\", \"Topic7\", \"Topic7\", \"Topic7\", \"Topic7\", \"Topic7\", \"Topic7\", \"Topic7\", \"Topic7\", \"Topic7\", \"Topic7\", \"Topic7\", \"Topic7\", \"Topic7\", \"Topic7\", \"Topic7\", \"Topic7\", \"Topic7\", \"Topic7\", \"Topic7\", \"Topic7\", \"Topic7\", \"Topic7\", \"Topic7\", \"Topic7\", \"Topic8\", \"Topic8\", \"Topic8\", \"Topic8\", \"Topic8\", \"Topic8\", \"Topic8\", \"Topic8\", \"Topic8\", \"Topic8\", \"Topic8\", \"Topic8\", \"Topic8\", \"Topic8\", \"Topic8\", \"Topic8\", \"Topic8\", \"Topic8\", \"Topic8\", \"Topic8\", \"Topic8\", \"Topic8\", \"Topic8\", \"Topic8\", \"Topic8\", \"Topic8\", \"Topic8\", \"Topic8\", \"Topic8\", \"Topic8\", \"Topic9\", \"Topic9\", \"Topic9\", \"Topic9\", \"Topic9\", \"Topic9\", \"Topic9\", \"Topic9\", \"Topic9\", \"Topic9\", \"Topic9\", \"Topic9\", \"Topic9\", \"Topic9\", \"Topic9\", \"Topic9\", \"Topic9\", \"Topic9\", \"Topic9\", \"Topic9\", \"Topic9\", \"Topic9\", \"Topic9\", \"Topic9\", \"Topic9\", \"Topic9\", \"Topic9\", \"Topic9\", \"Topic9\", \"Topic9\", \"Topic10\", \"Topic10\", \"Topic10\", \"Topic10\", \"Topic10\", \"Topic10\", \"Topic10\", \"Topic10\", \"Topic10\", \"Topic10\", \"Topic10\", \"Topic10\", \"Topic10\", \"Topic10\", \"Topic10\", \"Topic10\", \"Topic10\", \"Topic10\", \"Topic10\", \"Topic10\", \"Topic10\", \"Topic10\", \"Topic10\", \"Topic10\", \"Topic10\", \"Topic10\", \"Topic10\", \"Topic10\", \"Topic10\", \"Topic10\", \"Topic11\", \"Topic11\", \"Topic11\", \"Topic11\", \"Topic11\", \"Topic11\", \"Topic11\", \"Topic11\", \"Topic11\", \"Topic11\", \"Topic11\", \"Topic11\", \"Topic11\", \"Topic11\", \"Topic11\", \"Topic11\", \"Topic11\", \"Topic11\", \"Topic11\", \"Topic11\", \"Topic11\", \"Topic11\", \"Topic11\", \"Topic11\", \"Topic11\", \"Topic11\", \"Topic11\", \"Topic11\", \"Topic11\", \"Topic11\", \"Topic12\", \"Topic12\", \"Topic12\", \"Topic12\", \"Topic12\", \"Topic12\", \"Topic12\", \"Topic12\", \"Topic12\", \"Topic12\", \"Topic12\", \"Topic12\", \"Topic12\", \"Topic12\", \"Topic12\", \"Topic12\", \"Topic12\", \"Topic12\", \"Topic12\", \"Topic12\", \"Topic12\", \"Topic12\", \"Topic12\", \"Topic12\", \"Topic12\", \"Topic12\", \"Topic12\", \"Topic12\", \"Topic12\", \"Topic12\", \"Topic13\", \"Topic13\", \"Topic13\", \"Topic13\", \"Topic13\", \"Topic13\", \"Topic13\", \"Topic13\", \"Topic13\", \"Topic13\", \"Topic13\", \"Topic13\", \"Topic13\", \"Topic13\", \"Topic13\", \"Topic13\", \"Topic13\", \"Topic13\", \"Topic13\", \"Topic13\", \"Topic13\", \"Topic13\", \"Topic13\", \"Topic13\", \"Topic13\", \"Topic13\", \"Topic13\", \"Topic13\", \"Topic13\", \"Topic13\", \"Topic14\", \"Topic14\", \"Topic14\", \"Topic14\", \"Topic14\", \"Topic14\", \"Topic14\", \"Topic14\", \"Topic14\", \"Topic14\", \"Topic14\", \"Topic14\", \"Topic14\", \"Topic14\", \"Topic14\", \"Topic14\", \"Topic14\", \"Topic14\", \"Topic14\", \"Topic14\", \"Topic14\", \"Topic14\", \"Topic14\", \"Topic14\", \"Topic14\", \"Topic14\", \"Topic14\", \"Topic14\", \"Topic14\", \"Topic14\", \"Topic15\", \"Topic15\", \"Topic15\", \"Topic15\", \"Topic15\", \"Topic15\", \"Topic15\", \"Topic15\", \"Topic15\", \"Topic15\", \"Topic15\", \"Topic15\", \"Topic15\", \"Topic15\", \"Topic15\", \"Topic15\", \"Topic15\", \"Topic15\", \"Topic15\", \"Topic15\", \"Topic15\", \"Topic15\", \"Topic15\", \"Topic15\", \"Topic15\", \"Topic15\", \"Topic15\", \"Topic15\", \"Topic15\", \"Topic15\", \"Topic16\", \"Topic16\", \"Topic16\", \"Topic16\", \"Topic16\", \"Topic16\", \"Topic16\", \"Topic16\", \"Topic16\", \"Topic16\", \"Topic16\", \"Topic16\", \"Topic16\", \"Topic16\", \"Topic16\", \"Topic16\", \"Topic16\", \"Topic16\", \"Topic16\", \"Topic16\", \"Topic16\", \"Topic16\", \"Topic16\", \"Topic16\", \"Topic16\", \"Topic16\", \"Topic16\", \"Topic16\", \"Topic16\", \"Topic16\", \"Topic17\", \"Topic17\", \"Topic17\", \"Topic17\", \"Topic17\", \"Topic17\", \"Topic17\", \"Topic17\", \"Topic17\", \"Topic17\", \"Topic17\", \"Topic17\", \"Topic17\", \"Topic17\", \"Topic17\", \"Topic17\", \"Topic17\", \"Topic17\", \"Topic17\", \"Topic17\", \"Topic17\", \"Topic17\", \"Topic17\", \"Topic17\", \"Topic17\", \"Topic17\", \"Topic17\", \"Topic17\", \"Topic17\", \"Topic17\", \"Topic18\", \"Topic18\", \"Topic18\", \"Topic18\", \"Topic18\", \"Topic18\", \"Topic18\", \"Topic18\", \"Topic18\", \"Topic18\", \"Topic18\", \"Topic18\", \"Topic18\", \"Topic18\", \"Topic18\", \"Topic18\", \"Topic18\", \"Topic18\", \"Topic18\", \"Topic18\", \"Topic18\", \"Topic18\", \"Topic18\", \"Topic18\", \"Topic18\", \"Topic18\", \"Topic18\", \"Topic18\", \"Topic18\", \"Topic18\", \"Topic19\", \"Topic19\", \"Topic19\", \"Topic19\", \"Topic19\", \"Topic19\", \"Topic19\", \"Topic19\", \"Topic19\", \"Topic19\", \"Topic19\", \"Topic19\", \"Topic19\", \"Topic19\", \"Topic19\", \"Topic19\", \"Topic19\", \"Topic19\", \"Topic19\", \"Topic19\", \"Topic19\", \"Topic19\", \"Topic19\", \"Topic19\", \"Topic19\", \"Topic19\", \"Topic19\", \"Topic19\", \"Topic19\", \"Topic19\", \"Topic20\", \"Topic20\", \"Topic20\", \"Topic20\", \"Topic20\", \"Topic20\", \"Topic20\", \"Topic20\", \"Topic20\", \"Topic20\", \"Topic20\", \"Topic20\", \"Topic20\", \"Topic20\", \"Topic20\", \"Topic20\", \"Topic20\", \"Topic20\", \"Topic20\", \"Topic20\", \"Topic20\", \"Topic20\", \"Topic20\", \"Topic20\", \"Topic20\", \"Topic20\", \"Topic20\", \"Topic20\", \"Topic20\", \"Topic20\"], \"logprob\": [30.0, 29.0, 28.0, 27.0, 26.0, 25.0, 24.0, 23.0, 22.0, 21.0, 20.0, 19.0, 18.0, 17.0, 16.0, 15.0, 14.0, 13.0, 12.0, 11.0, 10.0, 9.0, 8.0, 7.0, 6.0, 5.0, 4.0, 3.0, 2.0, 1.0, -2.5341, -3.1001, -3.2141, -3.3802, -3.4681, -3.7017, -3.7408, -3.89, -4.0356, -4.0642, -4.1688, -4.2597, -4.2803, -4.2883, -4.3087, -4.5257, -4.6619, -4.7109, -4.8343, -4.8391, -4.9184, -4.9958, -5.0062, -5.014, -5.0391, -5.0715, -5.0924, -5.0933, -5.1002, -5.1334, -4.7957, -4.2905, -3.3783, -3.6175, -4.8489, -4.4023, -4.7549, -4.9702, -4.7293, -4.9064, -4.8279, -3.3912, -3.5915, -3.6779, -3.8377, -4.0747, -4.4289, -4.4412, -4.479, -4.5059, -4.5441, -4.5753, -4.5949, -4.6561, -4.8074, -4.816, -4.9716, -5.0718, -5.1033, -5.1658, -5.1991, -5.2011, -5.2189, -5.2726, -5.2965, -5.3077, -5.314, -5.3219, -5.327, -5.3365, -5.3696, -2.9781, -3.5404, -4.2806, -4.1694, -3.9266, -4.2419, -2.9834, -3.304, -3.8335, -4.6586, -3.9331, -4.6515, -4.5993, -4.2849, -4.2047, -2.9326, -2.9532, -3.1214, -3.5164, -3.5779, -3.907, -3.9257, -3.9598, -4.0563, -4.1529, -4.2045, -4.2549, -4.2684, -4.3, -4.3927, -4.3961, -4.5453, -4.5942, -4.6176, -4.6525, -4.6849, -4.7123, -4.7277, -4.7435, -4.794, -4.8495, -4.8508, -4.955, -4.9943, -5.1273, -2.946, -4.6467, -3.7124, -4.4675, -4.8344, -2.4197, -3.9936, -4.0785, -4.1254, -4.1305, -4.1943, -4.1952, -4.2853, -4.3662, -4.369, -4.4234, -4.4404, -4.4763, -4.4798, -4.6202, -4.631, -4.6382, -4.6699, -4.739, -4.8569, -4.8897, -4.9009, -4.9558, -5.0318, -5.0324, -5.0487, -5.0506, -5.079, -5.0793, -5.1901, -4.701, -4.2339, -3.0134, -4.8165, -4.3008, -4.2283, -4.7738, -4.8135, -3.6418, -3.8772, -4.0911, -4.2512, -4.4912, -4.5411, -4.5689, -4.5819, -4.6141, -4.6429, -4.6809, -4.6941, -4.7598, -4.7749, -4.8112, -4.8445, -4.8529, -4.8886, -4.9018, -4.9261, -4.9329, -4.9649, -4.9657, -4.9895, -4.9898, -4.9978, -5.0093, -5.0168, -5.0188, -5.0232, -4.6048, -2.8222, -3.2456, -3.2504, -3.3184, -3.448, -3.5195, -3.7426, -3.8575, -4.0151, -4.0499, -4.1736, -4.2215, -4.2554, -4.3983, -4.4148, -4.4472, -4.4501, -4.5022, -4.5493, -4.5828, -4.6383, -4.6395, -4.6941, -4.7042, -4.7611, -4.7981, -4.8336, -4.8612, -4.8736, -4.916, -2.175, -2.6349, -2.7031, -2.7903, -3.1731, -3.3443, -3.4715, -3.9106, -3.9277, -4.1776, -4.2013, -4.2604, -4.3467, -4.3722, -4.5326, -4.5815, -4.6306, -4.6592, -4.7111, -4.8038, -4.8369, -4.8861, -4.9307, -4.9787, -5.029, -5.0772, -5.0863, -5.0955, -5.1076, -5.1134, -2.4446, -2.9743, -3.0256, -3.0759, -3.4042, -3.4403, -3.5537, -3.7104, -3.807, -3.9443, -4.0789, -4.2074, -4.4307, -4.4389, -4.4491, -4.4795, -4.49, -4.5395, -4.558, -4.6588, -4.6727, -4.8077, -4.96, -4.967, -5.0087, -5.0711, -5.1088, -5.109, -5.1441, -5.1824, -2.4099, -2.4225, -2.726, -2.8247, -3.5164, -3.7075, -3.958, -4.1118, -4.2567, -4.3105, -4.3605, -4.5498, -4.5946, -4.696, -4.7477, -4.7531, -4.8384, -4.8491, -4.8756, -4.9508, -4.9699, -4.9936, -5.0074, -5.0699, -5.0877, -5.1041, -5.1388, -5.1428, -5.1507, -5.172, -3.005, -3.4483, -3.5059, -3.5753, -3.6158, -3.6336, -3.6993, -4.0944, -4.1817, -4.2144, -4.2922, -4.3329, -4.4505, -4.4699, -4.4725, -4.4873, -4.4907, -4.5109, -4.6312, -4.6696, -4.6825, -4.7005, -4.7147, -4.7734, -4.8008, -4.8065, -4.8229, -4.8308, -4.8665, -4.871, -3.3016, -3.3396, -3.5664, -3.7121, -3.9494, -3.9748, -4.0322, -4.1041, -4.1463, -4.2307, -4.2649, -4.3039, -4.3359, -4.4389, -4.5393, -4.5502, -4.5806, -4.5973, -4.6658, -4.6902, -4.7056, -4.7078, -4.7228, -4.9076, -4.9199, -4.9322, -5.0393, -5.0904, -5.0968, -5.1028, -2.6632, -3.2576, -3.3091, -3.3277, -3.4238, -3.429, -3.7421, -3.8186, -3.9916, -4.0172, -4.0637, -4.0774, -4.1617, -4.2433, -4.355, -4.4946, -4.6244, -4.6649, -4.6801, -4.6889, -4.7798, -4.7802, -4.8148, -4.8728, -4.8834, -4.9389, -4.9451, -4.9949, -4.9986, -5.0483, -2.9779, -3.0844, -3.1281, -3.6595, -3.7022, -3.7773, -3.7901, -3.9837, -4.0573, -4.1237, -4.1455, -4.1502, -4.1523, -4.1775, -4.2934, -4.3258, -4.4872, -4.5045, -4.5576, -4.6225, -4.6292, -4.7256, -4.7755, -4.8084, -4.8376, -4.8492, -4.8595, -4.9248, -4.9798, -4.9925, -3.8009, -4.0887, -4.2011, -4.2259, -4.2709, -4.2809, -4.3941, -4.4198, -4.425, -4.4514, -4.4542, -4.4863, -4.5047, -4.5127, -4.5264, -4.5569, -4.5754, -4.5875, -4.6501, -4.6541, -4.7764, -4.8117, -4.8627, -4.9117, -4.9764, -5.0372, -5.1243, -5.1618, -5.1741, -5.2053, -2.583, -3.0832, -3.5654, -3.6138, -3.7436, -3.7804, -3.7882, -3.8016, -3.9356, -4.2198, -4.3326, -4.3614, -4.4372, -4.475, -4.5044, -4.5201, -4.5656, -4.5782, -4.738, -4.7433, -4.7667, -4.7782, -4.8307, -4.8615, -4.8631, -4.8751, -4.91, -4.9313, -4.942, -4.9679, -3.6777, -3.7576, -3.8566, -4.0812, -4.1126, -4.1279, -4.1469, -4.2553, -4.2781, -4.3014, -4.3701, -4.3991, -4.4898, -4.5283, -4.5536, -4.5903, -4.6324, -4.6755, -4.7456, -4.7581, -4.8015, -4.8091, -4.818, -4.8542, -4.8545, -4.8595, -4.9264, -4.9457, -4.9471, -4.951, -3.1694, -3.5798, -3.8375, -4.0848, -4.1147, -4.1802, -4.2623, -4.289, -4.3346, -4.3404, -4.3649, -4.3702, -4.3752, -4.4837, -4.5495, -4.6451, -4.6737, -4.7003, -4.7072, -4.7249, -4.7337, -4.7755, -4.787, -4.8629, -4.9027, -4.9622, -4.9773, -5.0068, -5.018, -5.0312, -2.9311, -3.0978, -3.301, -3.5218, -3.7632, -3.8127, -3.883, -4.074, -4.0742, -4.2401, -4.2411, -4.2741, -4.3845, -4.4477, -4.4834, -4.568, -4.5753, -4.6139, -4.6927, -4.6974, -4.7047, -4.7855, -4.7887, -4.8175, -4.8419, -4.9385, -4.9482, -4.9702, -4.9957, -5.0101, -3.3565, -4.0683, -4.1686, -4.1687, -4.2213, -4.3716, -4.3802, -4.3853, -4.4963, -4.5153, -4.5664, -4.5783, -4.5871, -4.6451, -4.7017, -4.7648, -4.8208, -4.8445, -4.8591, -4.8691, -4.874, -4.8896, -4.8999, -4.921, -4.9781, -4.9862, -5.0037, -5.0306, -5.0764, -5.1475, -3.5142, -3.667, -3.8058, -3.9422, -4.0907, -4.1039, -4.1095, -4.1226, -4.3507, -4.423, -4.4234, -4.475, -4.5492, -4.5635, -4.6211, -4.683, -4.7017, -4.7056, -4.7198, -4.7646, -4.8326, -4.8685, -4.9611, -5.0135, -5.0636, -5.0885, -5.1082, -5.1425, -5.1978, -5.1983], \"loglift\": [30.0, 29.0, 28.0, 27.0, 26.0, 25.0, 24.0, 23.0, 22.0, 21.0, 20.0, 19.0, 18.0, 17.0, 16.0, 15.0, 14.0, 13.0, 12.0, 11.0, 10.0, 9.0, 8.0, 7.0, 6.0, 5.0, 4.0, 3.0, 2.0, 1.0, 1.428, 1.428, 1.428, 1.428, 1.428, 1.428, 1.428, 1.428, 1.428, 1.428, 1.428, 1.428, 1.428, 1.428, 1.4279, 1.4279, 1.4279, 1.4279, 1.4279, 1.4279, 1.4279, 1.4278, 1.4278, 1.4278, 1.4278, 1.4278, 1.4278, 1.4278, 1.4278, 1.4278, 1.4271, 1.3816, 1.3031, 1.0746, 1.3285, 1.1216, 1.2601, 1.3657, 0.8458, 1.0966, 0.5496, 1.6991, 1.6991, 1.699, 1.699, 1.699, 1.699, 1.699, 1.699, 1.6989, 1.6989, 1.6989, 1.6989, 1.6989, 1.6989, 1.6989, 1.6988, 1.6988, 1.6988, 1.6988, 1.6988, 1.6988, 1.6988, 1.6987, 1.6987, 1.6987, 1.6987, 1.6987, 1.6987, 1.6987, 1.6987, 1.6949, 1.6963, 1.6967, 1.6761, 1.6711, 1.6716, 1.6291, 1.6219, 1.6323, 1.669, 1.5068, 1.6096, 1.5308, 1.229, 0.4874, 1.9914, 1.9914, 1.9914, 1.9914, 1.9914, 1.9913, 1.9913, 1.9913, 1.9913, 1.9913, 1.9913, 1.9913, 1.9913, 1.9913, 1.9913, 1.9913, 1.9912, 1.9912, 1.9912, 1.9912, 1.9912, 1.9912, 1.9912, 1.9912, 1.9912, 1.9911, 1.9911, 1.9911, 1.9911, 1.991, 1.9345, 1.9148, 1.6825, 1.6931, 1.2307, 2.1212, 2.1211, 2.1211, 2.1211, 2.1211, 2.1211, 2.1211, 2.1211, 2.1211, 2.1211, 2.1211, 2.1211, 2.121, 2.121, 2.121, 2.121, 2.121, 2.121, 2.121, 2.1209, 2.1209, 2.1209, 2.1209, 2.1209, 2.1209, 2.1208, 2.1208, 2.1208, 2.1208, 2.1208, 2.1142, 2.0892, 2.0216, 2.0778, 1.6199, 1.1493, 1.2331, 0.7104, 3.4129, 3.4128, 3.4127, 3.4125, 3.4123, 3.4123, 3.4123, 3.4122, 3.4122, 3.4122, 3.4121, 3.4121, 3.412, 3.412, 3.412, 3.4119, 3.4119, 3.4119, 3.4119, 3.4118, 3.4118, 3.4118, 3.4118, 3.4117, 3.4117, 3.4117, 3.4117, 3.4117, 3.4117, 3.4117, 2.1461, 3.5194, 3.5193, 3.5193, 3.5193, 3.5192, 3.5192, 3.5191, 3.519, 3.5189, 3.5189, 3.5188, 3.5188, 3.5187, 3.5186, 3.5186, 3.5186, 3.5186, 3.5185, 3.5185, 3.5184, 3.5184, 3.5183, 3.5183, 3.5183, 3.5182, 3.5181, 3.5181, 3.518, 3.518, 3.518, 3.6258, 3.6258, 3.6258, 3.6257, 3.6256, 3.6256, 3.6255, 3.6253, 3.6253, 3.6251, 3.6251, 3.625, 3.6249, 3.6249, 3.6247, 3.6246, 3.6246, 3.6245, 3.6245, 3.6243, 3.6243, 3.6242, 3.6241, 3.624, 3.6239, 3.6238, 3.6238, 3.6238, 3.6237, 3.6237, 3.748, 3.7479, 3.7479, 3.7479, 3.7477, 3.7477, 3.7477, 3.7476, 3.7475, 3.7474, 3.7473, 3.7472, 3.7469, 3.7469, 3.7469, 3.7469, 3.7468, 3.7468, 3.7468, 3.7466, 3.7466, 3.7463, 3.746, 3.746, 3.7459, 3.7458, 3.7457, 3.7457, 3.7456, 3.7455, 3.7878, 3.7878, 3.7877, 3.7877, 3.7874, 3.7873, 3.7871, 3.787, 3.7868, 3.7868, 3.7867, 3.7865, 3.7864, 3.7862, 3.7861, 3.7861, 3.786, 3.786, 3.7859, 3.7857, 3.7857, 3.7856, 3.7856, 3.7855, 3.7854, 3.7854, 3.7853, 3.7853, 3.7853, 3.7852, 3.8807, 3.8805, 3.8804, 3.8804, 3.8804, 3.8804, 3.8803, 3.88, 3.8799, 3.8799, 3.8798, 3.8797, 3.8795, 3.8795, 3.8795, 3.8795, 3.8795, 3.8795, 3.8793, 3.8792, 3.8792, 3.8791, 3.8791, 3.879, 3.8789, 3.8789, 3.8789, 3.8789, 3.8788, 3.8788, 3.9712, 3.9712, 3.9711, 3.971, 3.9708, 3.9708, 3.9707, 3.9706, 3.9706, 3.9705, 3.9704, 3.9704, 3.9703, 3.9702, 3.97, 3.97, 3.9699, 3.9699, 3.9698, 3.9697, 3.9697, 3.9697, 3.9696, 3.9692, 3.9692, 3.9692, 3.9689, 3.9687, 3.9687, 3.9687, 4.0052, 4.005, 4.005, 4.005, 4.0049, 4.0049, 4.0047, 4.0046, 4.0045, 4.0044, 4.0044, 4.0044, 4.0043, 4.0042, 4.004, 4.0038, 4.0035, 4.0035, 4.0034, 4.0034, 4.0032, 4.0032, 4.0031, 4.003, 4.003, 4.0028, 4.0028, 4.0027, 4.0026, 4.0025, 4.0229, 4.0229, 4.0229, 4.0226, 4.0225, 4.0225, 4.0224, 4.0223, 4.0222, 4.0221, 4.0221, 4.0221, 4.0221, 4.022, 4.0219, 4.0218, 4.0216, 4.0215, 4.0214, 4.0213, 4.0213, 4.0211, 4.021, 4.0209, 4.0208, 4.0208, 4.0208, 4.0206, 4.0204, 4.0204, 4.0307, 4.0304, 4.0302, 4.0302, 4.0301, 4.0301, 4.0299, 4.0299, 4.0299, 4.0299, 4.0298, 4.0298, 4.0298, 4.0297, 4.0297, 4.0297, 4.0296, 4.0296, 4.0295, 4.0295, 4.0292, 4.0291, 4.029, 4.0289, 4.0287, 4.0285, 4.0282, 4.0281, 4.028, 4.0279, 4.0744, 4.0742, 4.074, 4.0739, 4.0738, 4.0738, 4.0738, 4.0738, 4.0736, 4.0733, 4.0731, 4.0731, 4.0729, 4.0729, 4.0728, 4.0728, 4.0727, 4.0727, 4.0723, 4.0723, 4.0722, 4.0722, 4.0721, 4.072, 4.072, 4.072, 4.0719, 4.0718, 4.0718, 4.0717, 4.0973, 4.0972, 4.0972, 4.0969, 4.0969, 4.0968, 4.0968, 4.0967, 4.0966, 4.0966, 4.0965, 4.0964, 4.0963, 4.0962, 4.0961, 4.0961, 4.096, 4.0959, 4.0957, 4.0957, 4.0956, 4.0955, 4.0955, 4.0954, 4.0954, 4.0954, 4.0952, 4.0952, 4.0952, 4.0951, 4.1119, 4.1117, 4.1114, 4.1112, 4.1111, 4.111, 4.1109, 4.1109, 4.1108, 4.1108, 4.1107, 4.1107, 4.1107, 4.1105, 4.1104, 4.1102, 4.1101, 4.1101, 4.11, 4.11, 4.11, 4.1099, 4.1098, 4.1096, 4.1095, 4.1094, 4.1093, 4.1092, 4.1092, 4.1091, 4.224, 4.2239, 4.2238, 4.2236, 4.2234, 4.2233, 4.2232, 4.223, 4.223, 4.2227, 4.2227, 4.2227, 4.2225, 4.2223, 4.2223, 4.2221, 4.2221, 4.222, 4.2218, 4.2218, 4.2217, 4.2215, 4.2215, 4.2214, 4.2213, 4.221, 4.221, 4.2209, 4.2208, 4.2208, 4.2677, 4.267, 4.2668, 4.2668, 4.2667, 4.2665, 4.2664, 4.2664, 4.2662, 4.2662, 4.266, 4.266, 4.266, 4.2658, 4.2657, 4.2655, 4.2653, 4.2653, 4.2652, 4.2652, 4.2652, 4.2651, 4.2651, 4.265, 4.2648, 4.2648, 4.2647, 4.2646, 4.2644, 4.2641, 4.2886, 4.2885, 4.2883, 4.2882, 4.288, 4.2879, 4.2879, 4.2879, 4.2875, 4.2873, 4.2873, 4.2872, 4.2871, 4.287, 4.2869, 4.2867, 4.2867, 4.2866, 4.2866, 4.2865, 4.2863, 4.2861, 4.2858, 4.2856, 4.2854, 4.2853, 4.2852, 4.2851, 4.2848, 4.2848]}, \"token.table\": {\"Topic\": [11, 11, 11, 16, 12, 11, 9, 1, 3, 4, 19, 3, 15, 19, 1, 1, 3, 15, 11, 10, 20, 4, 9, 5, 3, 8, 2, 7, 9, 6, 3, 17, 13, 3, 8, 18, 2, 12, 17, 18, 13, 9, 3, 9, 4, 16, 5, 4, 12, 1, 1, 2, 7, 18, 5, 15, 15, 17, 9, 16, 16, 17, 15, 15, 10, 10, 17, 2, 11, 4, 7, 11, 10, 6, 15, 4, 11, 2, 13, 14, 16, 7, 18, 12, 18, 4, 17, 14, 11, 7, 3, 13, 18, 13, 15, 11, 17, 8, 5, 19, 2, 3, 14, 9, 20, 13, 13, 13, 6, 20, 3, 4, 20, 7, 11, 16, 1, 10, 3, 3, 20, 17, 4, 12, 19, 20, 19, 15, 6, 10, 11, 1, 15, 12, 17, 1, 9, 11, 8, 5, 14, 10, 14, 17, 3, 17, 10, 16, 19, 12, 10, 8, 5, 6, 7, 19, 9, 5, 8, 8, 8, 1, 14, 12, 5, 2, 16, 20, 2, 19, 1, 2, 2, 3, 5, 8, 19, 14, 20, 15, 5, 3, 4, 3, 20, 19, 1, 18, 10, 19, 1, 6, 18, 2, 4, 14, 6, 1, 2, 3, 4, 20, 2, 18, 18, 5, 1, 18, 11, 7, 12, 8, 16, 13, 1, 12, 19, 1, 5, 19, 19, 1, 10, 13, 10, 12, 14, 7, 19, 1, 2, 3, 6, 11, 7, 2, 4, 1, 1, 18, 1, 3, 4, 18, 3, 8, 7, 5, 3, 1, 4, 8, 17, 14, 4, 19, 1, 18, 16, 15, 1, 3, 4, 4, 5, 14, 18, 12, 19, 9, 20, 16, 9, 4, 11, 12, 17, 10, 15, 4, 13, 1, 4, 15, 3, 6, 13, 13, 19, 13, 3, 8, 18, 10, 7, 3, 1, 2, 4, 6, 10, 2, 20, 20, 17, 7, 7, 11, 16, 3, 10, 1, 18, 1, 4, 5, 2, 20, 5, 5, 1, 4, 16, 1, 9, 7, 2, 16, 1, 2, 3, 15, 1, 2, 3, 1, 3, 4, 5, 1, 2, 3, 14, 1, 15, 20, 4, 7, 18, 6, 1, 2, 12, 4, 20, 3, 4, 12, 8, 10, 17, 6, 2, 17, 14, 3, 15, 13, 8, 7, 5, 11, 7, 10, 19, 16, 11, 4, 20, 5, 11, 18, 3, 1, 1, 2, 20, 1, 15, 7, 9, 4, 10, 20, 2, 8, 6, 2, 1, 3, 17, 7, 14, 19, 19, 14, 6, 19, 8, 3, 15, 4, 19, 13, 9, 13, 4, 3, 13, 10, 2, 3, 4, 10, 20, 4, 19, 4, 4, 5, 18, 1, 2, 3, 17, 15, 1, 2, 4, 9, 16, 16, 10, 18, 12, 6, 3, 18, 20, 1, 10, 12, 17, 16, 9, 14, 12, 17, 10, 1, 9, 11, 2, 5, 20, 7, 14, 8, 12, 17, 8, 8, 17, 11, 5, 8, 13, 2, 17, 9, 13, 5, 6, 1, 2, 12, 6, 11, 1, 2, 14, 3, 19, 16, 14, 14, 4, 12, 12, 16, 5, 20, 9, 17, 2, 13, 6, 6, 8, 19, 9, 1, 7, 15, 9, 2, 12, 3, 15, 20, 11, 20, 17, 1, 2, 3, 2, 4, 8, 7, 9, 13, 16, 8, 3, 4, 18, 17, 14, 8, 1, 11, 13, 13, 13, 6, 6, 10, 18, 12, 7, 16, 20, 5, 14, 11, 4, 14, 7, 12, 5, 19, 20, 15, 2, 13, 7, 18, 6, 5, 7, 13, 13, 9, 5, 3, 15, 12, 1, 18, 15, 16, 10, 3, 2, 3, 9, 8, 10, 10, 4, 6, 5, 20, 12, 13, 20, 6, 17, 9, 2, 6, 18, 9, 10, 12, 1, 2, 2, 20, 19, 18, 15, 8, 2, 2, 14, 16, 7, 16, 1, 2, 2, 17, 11, 11, 6, 1, 2, 3, 17, 2, 14, 7, 16, 15, 11, 16, 10, 19, 9, 1, 3, 17, 11, 16, 9, 1, 14, 12, 9, 7, 14, 2, 4, 14, 18, 8, 15, 16, 14, 5, 1, 2, 18, 1, 2, 6, 16, 19, 1, 2, 4, 15, 6, 12, 8, 9, 4, 13, 6, 3, 8, 3, 4, 6, 14, 15, 3], \"Freq\": [0.9985572724117855, 0.9978278108848697, 0.9993993127657805, 0.9990159965019929, 0.9987655856929789, 0.9990441413553642, 0.9969788135162349, 0.9989762792135976, 0.0007383416697809294, 0.9996378440161585, 0.9992661136800531, 0.9997428295038295, 0.9960891621355462, 0.9970319249788736, 0.9999251548826663, 0.9999523452709642, 0.9995883670466275, 0.9992098628550186, 0.9968853957898692, 0.9996377000495503, 0.9964459781135535, 0.9996046139565604, 0.9969103642217547, 0.9978383895474855, 0.999779120150881, 0.9986545271247977, 0.999579280540789, 0.9981281632855568, 0.9985910818692869, 0.9989702663767658, 0.9993502244741063, 0.9987670104535743, 0.9978765352989144, 0.9997976649787786, 0.9964267291240595, 0.9990924933795892, 0.9996560597781817, 0.9983154297448323, 0.9974554043618482, 0.9993803542859352, 0.9985776105155002, 0.9990350610262386, 0.9996896321305645, 0.9997474789427184, 0.999470487958591, 0.9991044064358005, 0.9981439328696905, 0.99981965127697, 0.9989277092260143, 0.9997416345174033, 0.08535273405219977, 0.9143291757906433, 0.999364209400346, 0.9978511433757689, 0.9994345492750577, 0.9982167081021547, 0.9970532414908527, 0.9985396060723404, 0.9990251178388412, 0.9975202647489309, 0.9978079185670642, 0.998936778938655, 0.9968329690850737, 0.9972740836550046, 0.9991858613145084, 0.999606460736592, 0.9990266667132003, 0.9995196848947563, 0.9984890031732384, 0.9998190623578589, 0.9980887114589712, 0.9973385369674489, 0.9993450834827912, 0.9994567038442952, 0.9981044082399707, 0.9996701533946675, 0.9986161148403648, 0.9997462415245423, 0.9974338656073362, 0.9965558648910057, 0.9986511010514713, 0.9988027191551963, 0.9960832772225989, 0.9993611447104822, 0.9963867989632524, 0.9994938016214914, 0.9971665400318341, 0.9978593751753491, 0.9986775367651682, 0.9981545382120917, 0.9998152110058427, 0.9988217152269367, 0.9956358555961238, 0.9966683432169602, 0.9970003525223392, 0.999032854283566, 0.998254672676723, 0.9997255525725384, 0.9979555247996865, 0.9987137918182062, 0.9976764408062323, 0.002310439000274963, 0.9977231161200715, 0.9983105281169288, 0.9968881665518343, 0.9989948601747244, 0.9973819146173386, 0.9988483113176384, 0.9988604490396074, 0.9959940788668786, 0.04226807026524604, 0.9573537282299316, 0.9937852341401304, 0.99688045285504, 0.9974943435539656, 0.9959301140883471, 0.9997814466433167, 0.9991856706013068, 0.9995226966052891, 0.9997206573914167, 0.9973748512541887, 0.997552678490519, 0.9997219699273971, 0.9987333415155801, 0.996491319165965, 0.9975900241156295, 0.9956659570213432, 0.9997056824268832, 0.9983240078703569, 0.9982729132233409, 0.9988705127673718, 0.9997873210566603, 0.996485748733053, 0.9998116861342684, 0.9976076870464257, 0.9998866478102612, 0.9986968187045191, 0.9967701780345809, 0.9990527026552772, 0.9985624226088963, 0.9985261642746454, 0.9979266632033927, 0.9973176690733453, 0.9975516247734636, 0.9996491191179379, 0.9986630789024855, 0.9994059399695456, 0.9973368129519419, 0.9967311400884264, 0.9969774619502125, 0.9995853402753595, 0.9991691956652771, 0.9997317206501619, 0.9992894227214072, 0.9987954756633224, 0.9982281799984792, 0.997737472246207, 0.9990078776767104, 0.9976239973355774, 0.9985402627765309, 0.9997657416485076, 0.9997398557370626, 0.9970807897818054, 0.9990220800219273, 0.998711860332756, 0.9994562682197314, 0.9978385967876887, 0.9974401285588304, 0.9995058009774981, 0.9981698713320936, 0.9999407134138015, 0.999756586541083, 0.9997872793288287, 0.7180419307866471, 0.28170781940191036, 0.9992938534002953, 0.9960308216240494, 0.9980317275147199, 0.9964249146376454, 0.9963640345709253, 0.9977183601683052, 0.03142344054328625, 0.9684133040158217, 0.9997591658961503, 0.9960173002825423, 0.9948455915951074, 0.9998450588498161, 0.9996751302734135, 0.9974785059418051, 0.996659845387161, 0.9998261088822402, 0.9983777075053, 0.9979836004030962, 0.9771746406134197, 0.022657287651528774, 0.9983697676915234, 0.9993061181823056, 0.41544132562768904, 0.18025445038682786, 0.02599976241287579, 0.37834410364834187, 0.9992116999385772, 0.9997054140546611, 0.9947817307840481, 0.9986953603846759, 0.9987819953679936, 0.9997749968206426, 0.9992881684394914, 0.9971304728521673, 0.9979168179625751, 0.9985470554077953, 0.9998338662991804, 0.9984252321558377, 0.9980351819043931, 0.9999425653951367, 0.9994102344378333, 0.9974819487876265, 0.9999260023931783, 0.998734045183965, 0.9976149255520516, 0.9970226334570785, 0.9998310857634084, 0.9986111483777756, 0.9971581852400825, 0.9972529500159723, 0.999017592917401, 0.9953147925895779, 0.9971052947816843, 0.9964631356709491, 0.002821485079005831, 0.9957882964252385, 0.0013323679539749757, 0.9988381161694033, 0.9971297636397833, 0.9997355642287138, 0.9703484264560484, 0.02951630194543113, 0.9999514343395272, 0.999957944091785, 0.9991997376921563, 0.9546037103297433, 0.005533934552636193, 0.03969533823333269, 0.9971176983337221, 0.9998294297101763, 0.9993519423841257, 0.9999163349268161, 0.9990104292867796, 0.9997818082198808, 0.9052478191936886, 0.09454653762428236, 0.9998583355507804, 0.9995972343319733, 0.9987161964727648, 0.9997631275159958, 0.9988491925745941, 0.9998191861541372, 0.9979896422261875, 0.99879445257892, 0.9964173608845959, 0.9396155435278224, 0.06035366007701807, 0.999854235140536, 0.9997480163467838, 0.9994014839081022, 0.9988196709041749, 0.9996133630896683, 0.9992005942193292, 0.9977975406241066, 0.9998572712136963, 0.997186675949846, 0.998507078519947, 0.9967154386507567, 0.9997934588167255, 0.9974308339947158, 0.998126219637863, 0.99841751322637, 0.9972669068835472, 0.9979890578944326, 0.9995434603422371, 0.9989831778359723, 0.006675531838315051, 0.9929853609493638, 0.9996862551848488, 0.999684008938641, 0.9988586285389788, 0.9973236381975905, 0.997864216227065, 0.9986891368103687, 0.9984374629106493, 0.9998168436259978, 0.9976454120101886, 0.9983048522107394, 0.9988448946106134, 0.9980514203320663, 0.9995770530270686, 0.5769594414356678, 0.01160165930187731, 0.41141268755118765, 0.9987119894385916, 0.9980341255294554, 0.9999403715776539, 0.9988381474633661, 0.9950784285915888, 0.9986839128882824, 0.999422401536202, 0.999121516111518, 0.9983725706514953, 0.9986337253077747, 0.9995964375213664, 0.9989683015024821, 0.9998749880220866, 0.9991488794457827, 0.8454610527760528, 0.15445634699527036, 0.9996250922897754, 0.99977314127264, 0.9991141827583541, 0.9984802029680108, 0.9990194516129918, 6.86741747364458e-05, 0.9998959841626508, 0.9978619417050822, 0.9997255969652995, 0.9983288643297343, 0.99908007026007, 0.9997202377559536, 0.9970852632379695, 0.026961216623539702, 0.9729070179579828, 0.9999384929641706, 0.9992374530946599, 0.13611884226176163, 0.8451482628934842, 0.018508124411364377, 0.07192716559364036, 0.022850101119732385, 0.9051679219425023, 0.9988890687210106, 0.5586358809421536, 0.349147425588846, 0.0921401504873469, 0.998350650126964, 0.9999907539788981, 0.9965949902209184, 0.995964778314579, 0.9997255870985535, 0.9997507341135705, 0.9969277138983254, 0.9986207143999731, 0.074324257208235, 0.9256473173693627, 0.9988810335076733, 0.9998955755162637, 0.9956608400209634, 0.7420512069140137, 0.25775785261202067, 0.9984102248313986, 0.9978610135621979, 0.9985723599331846, 0.9967422335558548, 0.9995329469695278, 0.9997376202207123, 0.9964755874874861, 0.996690378687641, 0.9999306746051609, 0.9992240876878067, 0.9975922512496178, 0.9965556642052326, 0.9995007609272634, 0.9981784296974214, 0.9992559105677142, 0.9989479946126475, 0.9981957013498265, 0.9952427389482962, 0.9972527587424608, 0.9986029041972394, 0.9994568510312466, 0.9991232571925752, 0.9984828298291704, 0.9980112632864191, 0.9988561962739699, 0.999928062310696, 0.9998645186621327, 0.37501804501151403, 0.6249392276245652, 0.99736538678333, 0.9999286289736645, 0.9975944155037925, 0.9998001225152936, 0.9992723507445186, 0.9994608298377923, 0.9987526438389761, 0.998824854292124, 0.9998202115973852, 0.999123290748461, 0.9986126398847268, 0.9999102344100073, 0.055355038171536065, 0.9446038308191564, 0.9973034060879032, 0.9998389607416778, 0.998357552321972, 0.9970588186890584, 0.9979006993520765, 0.9984674302602304, 0.9979253321214504, 0.9965067522717292, 0.9991890552949713, 0.9999096034631152, 0.999162011951577, 0.9998970761739373, 0.9940764583011465, 0.9971529558112446, 0.9977350205650493, 0.99786863616969, 0.999676137819937, 0.999670839627931, 0.999555046529708, 0.9975939943822817, 0.01916542558523277, 0.9261562417944916, 0.05438836990403894, 0.9976326746677802, 0.9979890044312946, 0.9997620222551713, 0.9972148626507706, 0.9998154201376492, 0.9996813048337397, 0.9993224977588134, 0.9973656942788613, 0.008704722400961838, 0.9323642917437007, 0.058904413874305325, 0.9958557126866694, 0.9982321835762672, 0.7360002306064142, 0.01991173794309835, 0.24389585001269778, 0.9985772065076489, 0.9989536725809989, 0.9979890926747877, 0.9990777058717574, 0.9969359950290214, 0.9973973737960161, 0.9988440251160244, 0.9998295211801047, 0.9982224927232016, 0.9980619404217895, 0.9999296563200987, 0.998400074390078, 0.9957819466777214, 0.9988631368730243, 0.9988106756410148, 0.9982543155433931, 0.9988723476771068, 0.9995560499179275, 0.9986265420258978, 0.9991146828494682, 0.9999109679052405, 0.998714703544744, 0.9975128812508762, 0.9998413154597857, 0.9990785018937439, 0.9978112225455482, 0.9997928195443037, 0.995115178974012, 0.9989639383261856, 0.996408314352561, 0.9972697736323504, 0.998112792948252, 0.9986278730868708, 0.9962255694997871, 0.9989158005856333, 0.9988355543732257, 0.9981847897858919, 0.9985020485617166, 0.9995374166992183, 0.9991176543192276, 0.9998297320598101, 0.9972788385615562, 0.9992188478663869, 0.9994547135374607, 0.717898020509724, 0.2819731543921578, 0.9996423757137924, 0.9996428578740998, 0.998755320959947, 0.0027541152658869064, 0.9971962848960017, 0.9988579002111339, 0.9997667487368114, 0.9975972754834885, 0.996595088471692, 0.997393479837332, 0.9981358533239147, 0.9998590925112297, 0.9983400227758936, 0.9968421877079098, 0.9961638124020683, 0.9986282893870677, 0.9985775178731572, 0.9985427005655063, 0.9988015053974311, 0.9998395315498116, 0.9982607018593112, 0.9990944585860415, 0.9980028383903932, 0.9972844152105506, 0.9973013122083529, 0.9992009575305919, 0.9997960085498998, 0.9990977890160508, 0.9961498240297375, 0.9995031528430723, 0.9998828275190322, 0.9966858661731219, 0.999825314484734, 0.9992278971099261, 0.9957424415248232, 0.9961346688163367, 0.9989773358188794, 0.9988341743951566, 0.00217343917697315, 0.9724164463157599, 0.02538972129464089, 0.9996217315590338, 0.9997152737813999, 0.9991581598840322, 0.9986666556559313, 0.9999092951054707, 0.9991634580492771, 0.9974880783485844, 0.9995086990377829, 0.9996672637318373, 0.9998738911930121, 0.9981709898267781, 0.9984534696293873, 0.9974285004155458, 0.9972160557966995, 0.9996583487464042, 0.9978767282581308, 0.999458238942728, 0.9993154732799678, 0.9978128102686922, 0.9994637431947735, 0.9984637398107008, 0.9990467816178824, 0.9953658603375591, 0.9993940472682745, 0.9995615815456887, 0.998566482190715, 0.9964104247769303, 0.9980575204578439, 0.9969914009064612, 0.9996194789046511, 0.9998070213514351, 0.9983525946584423, 0.9984551165098886, 0.9987313846252797, 0.9976916139764817, 0.9979116540362284, 0.9951901373892807, 0.9956663229910317, 0.9998774062761059, 0.9993020296758172, 0.9987885458247014, 0.9980363167390327, 0.9982577493687312, 0.9990683648178875, 0.9971372861651854, 0.9991649920966615, 0.9996110629437286, 0.996282979095049, 0.9977651754584599, 0.9998839064224513, 0.9990839752900444, 0.9993038364616834, 0.9997486257656392, 0.9949812366146444, 0.9986545843584822, 0.9983730052957733, 0.9977101750080776, 0.9998898367186531, 0.532552411118315, 0.4672839983880064, 0.9985648332923736, 0.9992319200529326, 0.9984575666060259, 0.9983689977338669, 0.9993503041554586, 0.9998513261425334, 0.9993721304003979, 0.9971212083447942, 0.998611070601018, 0.9972467309505495, 0.9980826283029982, 0.9987890138589903, 0.9989574878520757, 0.9988495440697918, 0.9995866843209255, 0.9991852405885727, 0.998994576286098, 0.9961898777245551, 0.998139034556727, 0.9980258081083385, 0.17482063368842587, 0.8250825177794965, 0.9997739171785821, 0.9987851517858819, 0.9969649251689964, 0.9991228847389328, 0.997907140294634, 0.998658104308863, 0.9998342515379222, 0.9997924299340848, 0.9960184016072994, 0.9982892144648137, 0.9991620634911444, 0.9986672170536331, 0.7022785478270057, 0.2976954849820654, 0.9999012651392426, 0.9969180876509932, 0.9993665005595079, 0.9995010574350247, 0.9986299364967854, 0.8825119909287585, 0.003714176277022758, 0.1137565266122183, 0.9964778098340094, 0.9995074481912988, 0.9989761621127052, 0.9968498632040972, 0.9986667379010252, 0.9972347110156111, 0.9993397431674276, 0.9982922018250224, 0.998159026373475, 0.9960865593981206, 0.9987477675533334, 0.26574849967687225, 0.7341755971346186, 0.9980715781383793, 0.9994195396981513, 0.9973985981171628, 0.9968400765691103, 0.9999226059996261, 0.9980413860394193, 0.9981207193310259, 0.9991505290647498, 0.9990024093438684, 0.999133475348764, 0.9995546403820805, 0.9997933156114689, 0.9974090304514964, 0.9981192941098619, 0.9983700517431724, 0.999326644628653, 0.9971824475317619, 0.997723220895846, 0.9984127774130084, 0.9997465094245236, 0.9999340083005303, 0.9979559047789313, 0.9998454260961652, 0.9998338303252571, 0.9992311046107547, 0.9994773363144666, 0.9967089357453434, 0.004502651110877393, 0.9354257682847784, 0.06009307444132521, 0.9977573944099739, 0.9994389695681016, 0.9987513736167809, 0.9989618108967782, 0.9975572645131239, 0.9998514612932285, 0.9980567269027831, 0.9998117818724486, 0.9999757353308498, 0.9980478820894377, 0.3942433029075643, 0.6056253992051819, 0.9998541145923544, 0.9987982900487133, 0.9989603047379516, 0.999943801935157], \"Term\": [\"ability\", \"achieve\", \"act\", \"action\", \"add\", \"admit\", \"adult\", \"adventure\", \"adventure\", \"adventurous\", \"age\", \"ago\", \"agree\", \"alcohol\", \"also\", \"always\", \"amazing\", \"ambitious\", \"amount\", \"animal\", \"appeal\", \"appreciate\", \"appreciation\", \"approach\", \"art\", \"artistic\", \"ask\", \"ass\", \"attitude\", \"average\", \"awesome\", \"awkward\", \"baby\", \"back\", \"background\", \"backpack\", \"bad\", \"balanced\", \"ball\", \"baseball\", \"basketball\", \"bay\", \"bay_area\", \"bear\", \"beautiful\", \"beauty\", \"bed\", \"believe\", \"bicycle\", \"big\", \"bit\", \"bit\", \"black\", \"boat\", \"body\", \"bore\", \"bother\", \"box\", \"boy\", \"boyfriend\", \"brain\", \"break\", \"breakfast\", \"bright\", \"bring\", \"business\", \"buy\", \"call\", \"calm\", \"care\", \"case\", \"casual\", \"cat\", \"catch\", \"cause\", \"challenge\", \"chance\", \"change\", \"character\", \"charm\", \"charming\", \"chat\", \"cheese\", \"chemistry\", \"cherish\", \"child\", \"childhood\", \"choice\", \"choose\", \"circle\", \"city\", \"class\", \"classic\", \"classical\", \"clothe\", \"cold\", \"collect\", \"college\", \"color\", \"com\", \"come\", \"come\", \"comedy\", \"common\", \"compare\", \"compassionate\", \"competitive\", \"complete\", \"completely\", \"confuse\", \"consider\", \"consider\", \"construction\", \"contact\", \"content\", \"control\", \"cook\", \"cooking\", \"cool\", \"country\", \"craft\", \"crap\", \"creative\", \"crime\", \"cry\", \"cultural\", \"cup\", \"curious\", \"cute\", \"daily\", \"damn\", \"dance\", \"dancer\", \"date\", \"daughter\", \"day\", \"deal\", \"decent\", \"decide\", \"depend\", \"desire\", \"detail\", \"development\", \"die\", \"different\", \"difficult\", \"dinner\", \"direct\", \"dislike\", \"divorce\", \"dog\", \"drama\", \"dream\", \"dress\", \"drop\", \"drug\", \"dry\", \"dude\", \"due\", \"early\", \"earth\", \"easy\", \"eclectic\", \"educate\", \"education\", \"else\", \"email\", \"emotionally\", \"end\", \"english\", \"enjoy\", \"enough\", \"even\", \"ever\", \"ever\", \"everyday\", \"evolve\", \"excellent\", \"excitement\", \"exist\", \"expand\", \"experience\", \"experience\", \"explore\", \"extreme\", \"fabulous\", \"family\", \"fan\", \"fancy\", \"fantasy\", \"favorite\", \"fear\", \"feed\", \"feel\", \"feel\", \"feminist\", \"fill\", \"find\", \"find\", \"find\", \"find\", \"fine\", \"first\", \"fishing\", \"fly\", \"folk\", \"food\", \"football\", \"force\", \"forget\", \"forward\", \"free\", \"freedom\", \"french\", \"friend\", \"friendly\", \"fully\", \"fun\", \"future\", \"gain\", \"gal\", \"game\", \"garden\", \"gay\", \"geeky\", \"general\", \"genre\", \"gentleman\", \"german\", \"get\", \"get\", \"get\", \"giant\", \"gift\", \"girl\", \"give\", \"give\", \"go\", \"good\", \"graduate\", \"great\", \"great\", \"great\", \"green\", \"grow\", \"guess\", \"guy\", \"hair\", \"hang\", \"happy\", \"happy\", \"hard\", \"hate\", \"health\", \"heart\", \"highly\", \"hike\", \"hippie\", \"history\", \"hole\", \"home\", \"home\", \"honest\", \"hope\", \"hot\", \"house\", \"huge\", \"human\", \"humanity\", \"humor\", \"hurt\", \"ideal\", \"identify\", \"important\", \"incredibly\", \"individual\", \"information\", \"inquisitive\", \"integrity\", \"intelligent\", \"intense\", \"interest\", \"interest\", \"interested\", \"interesting\", \"internet\", \"introspective\", \"introvert\", \"irish\", \"jazz\", \"job\", \"join\", \"jump\", \"key\", \"kick\", \"kid\", \"kind\", \"kind\", \"kind\", \"kinda\", \"kitchen\", \"know\", \"knowledge\", \"label\", \"lack\", \"lady\", \"laid_back\", \"land\", \"large\", \"last\", \"later\", \"laugh\", \"laughter\", \"learn\", \"learn\", \"leave\", \"let\", \"level\", \"liberal\", \"lie\", \"life\", \"life\", \"lifestyle\", \"like\", \"limit\", \"line\", \"listen\", \"literature\", \"little\", \"little\", \"live\", \"lol\", \"long\", \"long\", \"long\", \"look\", \"look\", \"look\", \"lose\", \"lot\", \"lot\", \"lot\", \"loud\", \"love\", \"lovely\", \"low\", \"loyal\", \"m\", \"maintain\", \"major\", \"make\", \"make\", \"male\", \"man\", \"management\", \"many\", \"many\", \"marriage\", \"married\", \"master\", \"mature\", \"maybe\", \"mean\", \"medicine\", \"medium\", \"meet\", \"meeting\", \"mellow\", \"memory\", \"message\", \"middle\", \"midwest\", \"mile\", \"minute\", \"mixed\", \"modern\", \"mom\", \"moment\", \"money\", \"morning\", \"mother\", \"motorcycle\", \"move\", \"movie\", \"much\", \"much\", \"multiple\", \"music\", \"musical\", \"name\", \"native\", \"nature\", \"nearly\", \"necessary\", \"need\", \"nerd\", \"nerdy\", \"never\", \"new\", \"new\", \"news\", \"nice\", \"normal\", \"novel\", \"obsess\", \"odd\", \"ok\", \"okc\", \"okcupid\", \"old\", \"online\", \"open\", \"openly\", \"optimist\", \"option\", \"orient\", \"other\", \"outdoors\", \"outgoing\", \"overall\", \"part\", \"part\", \"part\", \"particular\", \"particularly\", \"partner\", \"partnership\", \"passion\", \"passionate\", \"pay\", \"peace\", \"people\", \"people\", \"people\", \"perform\", \"performance\", \"person\", \"person\", \"person\", \"perspective\", \"philosophy\", \"phone\", \"physically\", \"piano\", \"pic\", \"pick\", \"place\", \"planet\", \"planning\", \"play\", \"pleasure\", \"plenty\", \"poetry\", \"politic\", \"polyamorous\", \"pop\", \"possible\", \"power\", \"practice\", \"pretty\", \"pride\", \"private\", \"probably\", \"problem\", \"process\", \"profile\", \"progressive\", \"proud\", \"prove\", \"psychology\", \"purpose\", \"pursue\", \"pursuit\", \"push\", \"quick\", \"quickly\", \"quirky\", \"quite\", \"rain\", \"raise\", \"range\", \"rarely\", \"rather\", \"read\", \"read\", \"ready\", \"real\", \"reality\", \"really\", \"really\", \"recent\", \"recently\", \"red\", \"regret\", \"regularly\", \"relate\", \"relationship\", \"relatively\", \"religion\", \"remain\", \"remember\", \"require\", \"return\", \"ridiculous\", \"right\", \"road_trip\", \"rock\", \"room\", \"root\", \"rough\", \"rule\", \"run\", \"s\", \"sail\", \"sarcastic\", \"say\", \"schedule\", \"school\", \"science\", \"scientist\", \"sea\", \"search\", \"second\", \"see\", \"see\", \"see\", \"seem\", \"self\", \"self_summary\", \"send\", \"sense\", \"sensitive\", \"sensual\", \"serious\", \"sf\", \"share\", \"shark\", \"shit\", \"shoe\", \"shop\", \"show\", \"shower\", \"shy\", \"silly\", \"similar\", \"simple\", \"sing\", \"singe\", \"singing\", \"single\", \"site\", \"skill\", \"skydive\", \"slightly\", \"slowly\", \"small\", \"smart\", \"smell\", \"smoke\", \"snow\", \"society\", \"soft\", \"softball\", \"someday\", \"sometimes\", \"somewhat\", \"somewhere\", \"son\", \"song\", \"soon\", \"sorry\", \"sort\", \"soul\", \"south\", \"space\", \"spend\", \"spiritual\", \"spontaneous\", \"sport\", \"sporting_event\", \"spot\", \"stable\", \"star\", \"start\", \"still\", \"still\", \"store\", \"story\", \"strange\", \"strive\", \"strong\", \"stuff\", \"style\", \"success\", \"successful\", \"suck\", \"summarize\", \"summary\", \"sunny\", \"sunshine\", \"sure\", \"surprise\", \"swimming\", \"system\", \"table\", \"tahoe\", \"take\", \"take\", \"talk\", \"tattoo\", \"tea\", \"team\", \"tech\", \"technology\", \"tell\", \"tend\", \"tendency\", \"terrible\", \"thank\", \"theatre\", \"thing\", \"thing\", \"think\", \"third\", \"though\", \"thought\", \"throw\", \"time\", \"time\", \"time\", \"tired\", \"together\", \"topic\", \"total\", \"touch\", \"tough\", \"town\", \"trade\", \"trail\", \"trait\", \"transplant\", \"travel\", \"travel\", \"tree\", \"true\", \"trustworthy\", \"truth\", \"try\", \"twice\", \"ultimately\", \"understand\", \"update\", \"urban\", \"use\", \"value\", \"various\", \"vegetarian\", \"video\", \"view\", \"voice\", \"volunteer\", \"wake\", \"walk\", \"want\", \"warrior\", \"watch\", \"way\", \"wear\", \"weather\", \"welcome\", \"well\", \"well\", \"well\", \"white\", \"whole\", \"winter\", \"wish\", \"wit\", \"woman\", \"wonder\", \"word\", \"work\", \"working\", \"world\", \"world\", \"write\", \"writer\", \"writing\", \"year\"]}, \"R\": 30, \"lambda.step\": 0.01, \"plot.opts\": {\"xlab\": \"PC1\", \"ylab\": \"PC2\"}, \"topic.order\": [5, 9, 11, 7, 3, 13, 4, 16, 8, 15, 18, 14, 17, 20, 19, 2, 12, 6, 10, 1]};\n",
              "\n",
              "function LDAvis_load_lib(url, callback){\n",
              "  var s = document.createElement('script');\n",
              "  s.src = url;\n",
              "  s.async = true;\n",
              "  s.onreadystatechange = s.onload = callback;\n",
              "  s.onerror = function(){console.warn(\"failed to load library \" + url);};\n",
              "  document.getElementsByTagName(\"head\")[0].appendChild(s);\n",
              "}\n",
              "\n",
              "if(typeof(LDAvis) !== \"undefined\"){\n",
              "   // already loaded: just create the visualization\n",
              "   !function(LDAvis){\n",
              "       new LDAvis(\"#\" + \"ldavis_el611403316375269921227739835\", ldavis_el611403316375269921227739835_data);\n",
              "   }(LDAvis);\n",
              "}else if(typeof define === \"function\" && define.amd){\n",
              "   // require.js is available: use it to load d3/LDAvis\n",
              "   require.config({paths: {d3: \"https://d3js.org/d3.v5\"}});\n",
              "   require([\"d3\"], function(d3){\n",
              "      window.d3 = d3;\n",
              "      LDAvis_load_lib(\"https://cdn.jsdelivr.net/gh/bmabey/pyLDAvis@3.3.1/pyLDAvis/js/ldavis.v3.0.0.js\", function(){\n",
              "        new LDAvis(\"#\" + \"ldavis_el611403316375269921227739835\", ldavis_el611403316375269921227739835_data);\n",
              "      });\n",
              "    });\n",
              "}else{\n",
              "    // require.js not available: dynamically load d3 & LDAvis\n",
              "    LDAvis_load_lib(\"https://d3js.org/d3.v5.js\", function(){\n",
              "         LDAvis_load_lib(\"https://cdn.jsdelivr.net/gh/bmabey/pyLDAvis@3.3.1/pyLDAvis/js/ldavis.v3.0.0.js\", function(){\n",
              "                 new LDAvis(\"#\" + \"ldavis_el611403316375269921227739835\", ldavis_el611403316375269921227739835_data);\n",
              "            })\n",
              "         });\n",
              "}\n",
              "</script>"
            ]
          },
          "metadata": {},
          "execution_count": 19
        }
      ]
    },
    {
      "cell_type": "code",
      "source": [
        "#the score above was terrible using Gensim, .28 coherence score and I don't know the best number of topics. Try using mallet!\n",
        "os.environ['MALLET_HOME'] = '/content/mallet-2.0.8'\n",
        "mallet_path = '/content/mallet-2.0.8/bin/mallet' # you should NOT need to change this "
      ],
      "metadata": {
        "id": "qxPm4Y94SfRT"
      },
      "execution_count": null,
      "outputs": []
    },
    {
      "cell_type": "code",
      "source": [
        "ldamallet = gensim.models.wrappers.LdaMallet(mallet_path, corpus=corpus, num_topics=20, id2word=id2word)"
      ],
      "metadata": {
        "id": "OYXUrkZ7Svkv"
      },
      "execution_count": null,
      "outputs": []
    },
    {
      "cell_type": "code",
      "source": [
        "# Show Topics\n",
        "pprint(ldamallet.show_topics(formatted=False))\n",
        "\n",
        "# Compute Coherence Score\n",
        "coherence_model_ldamallet = CoherenceModel(model=ldamallet, texts=data_lemmatized, dictionary=id2word, coherence='c_v')\n",
        "coherence_ldamallet = coherence_model_ldamallet.get_coherence()\n",
        "print('\\nCoherence Score: ', coherence_ldamallet)"
      ],
      "metadata": {
        "colab": {
          "base_uri": "https://localhost:8080/"
        },
        "id": "V0gilfMeTFxm",
        "outputId": "40df1b75-40ff-441a-9d08-e43d736cd573"
      },
      "execution_count": null,
      "outputs": [
        {
          "output_type": "stream",
          "name": "stdout",
          "text": [
            "[(10,\n",
            "  [('wear', 0.011785200209369275),\n",
            "   ('car', 0.0112372415598011),\n",
            "   ('dog', 0.010901923580214603),\n",
            "   ('cat', 0.009707864433394399),\n",
            "   ('hand', 0.007736848992410364),\n",
            "   ('drive', 0.006910821774404606),\n",
            "   ('animal', 0.0061829364040827004),\n",
            "   ('black', 0.0060929730437058365),\n",
            "   ('hair', 0.005945760272180058),\n",
            "   ('dress', 0.0054632295210677835)]),\n",
            " (14,\n",
            "  [('make', 0.02685256223709622),\n",
            "   ('kid', 0.02464791837526566),\n",
            "   ('day', 0.02294593331393247),\n",
            "   ('give', 0.016481917511045267),\n",
            "   ('feel', 0.014515375186292406),\n",
            "   ('long', 0.013845163452295917),\n",
            "   ('time', 0.013095584539273526),\n",
            "   ('big', 0.01193153258022699),\n",
            "   ('young', 0.011790435373069834),\n",
            "   ('end', 0.011058493610942088)]),\n",
            " (0,\n",
            "  [('work', 0.10805274376459081),\n",
            "   ('school', 0.02663947662240595),\n",
            "   ('job', 0.023723621197161655),\n",
            "   ('study', 0.02005111974384764),\n",
            "   ('start', 0.015123693170808227),\n",
            "   ('high', 0.014348592361566073),\n",
            "   ('business', 0.014080998034565806),\n",
            "   ('company', 0.013029075507737168),\n",
            "   ('student', 0.011672649091563396),\n",
            "   ('degree', 0.010971367407010971)]),\n",
            " (4,\n",
            "  [('sense', 0.04885843926680831),\n",
            "   ('humor', 0.0481112031401923),\n",
            "   ('kind', 0.027089560301055134),\n",
            "   ('funny', 0.025442039684540316),\n",
            "   ('smart', 0.023380388202672044),\n",
            "   ('passionate', 0.022858223198530737),\n",
            "   ('describe', 0.020427455075803954),\n",
            "   ('honest', 0.020364435161511037),\n",
            "   ('intelligent', 0.01898699989196586),\n",
            "   ('loyal', 0.01830278367964277)]),\n",
            " (11,\n",
            "  [('read', 0.05515783085690445),\n",
            "   ('thing', 0.044234361517527805),\n",
            "   ('write', 0.03628829614739098),\n",
            "   ('book', 0.03404101990309214),\n",
            "   ('make', 0.030466238704355164),\n",
            "   ('long', 0.02652165255402471),\n",
            "   ('learn', 0.025450166412228217),\n",
            "   ('lot', 0.025108807995372698),\n",
            "   ('find', 0.019770341642882203),\n",
            "   ('time', 0.018120442628080522)]),\n",
            " (9,\n",
            "  [('time', 0.20015621030046957),\n",
            "   ('friend', 0.13975175736588027),\n",
            "   ('family', 0.07145209707623251),\n",
            "   ('spend', 0.0661635314820217),\n",
            "   ('work', 0.04985555252336097),\n",
            "   ('good', 0.049413270347332665),\n",
            "   ('enjoy', 0.03498734320155834),\n",
            "   ('lot', 0.028936546623128535),\n",
            "   ('close', 0.025605314914319593),\n",
            "   ('free', 0.020288518542915485)]),\n",
            " (12,\n",
            "  [('feel', 0.017782327925657582),\n",
            "   ('life', 0.016608914789730665),\n",
            "   ('world', 0.014458969916522287),\n",
            "   ('deep', 0.013915577256260829),\n",
            "   ('nature', 0.013175303197353914),\n",
            "   ('heart', 0.012190896204126634),\n",
            "   ('create', 0.01082847692550008),\n",
            "   ('open', 0.009395180343361158),\n",
            "   ('spiritual', 0.008206016695542604),\n",
            "   ('mind', 0.00819026618365097)]),\n",
            " (17,\n",
            "  [('profile', 0.029876775915372623),\n",
            "   ('word', 0.02679397179674632),\n",
            "   ('message', 0.01909576951194807),\n",
            "   ('give', 0.017316551134912317),\n",
            "   ('question', 0.015264284393083949),\n",
            "   ('site', 0.014647723569358688),\n",
            "   ('feel', 0.013722882333770798),\n",
            "   ('put', 0.0132560577100931),\n",
            "   ('date', 0.010869086521099592),\n",
            "   ('write', 0.010860278509332088)]),\n",
            " (7,\n",
            "  [('people', 0.24832512827296865),\n",
            "   ('meet', 0.10388456850201741),\n",
            "   ('thing', 0.0975347022082794),\n",
            "   ('make', 0.051186347787468466),\n",
            "   ('person', 0.042804902247966056),\n",
            "   ('good', 0.030001228396753253),\n",
            "   ('interesting', 0.026920787307826776),\n",
            "   ('find', 0.02607035878634401),\n",
            "   ('talk', 0.025588449290837104),\n",
            "   ('feel', 0.01966379725784048)]),\n",
            " (6,\n",
            "  [('enjoy', 0.052804032766225584),\n",
            "   ('hike', 0.04301917364299217),\n",
            "   ('run', 0.034629579620127825),\n",
            "   ('outdoors', 0.030767845890719236),\n",
            "   ('bike', 0.02908452605995139),\n",
            "   ('active', 0.027347195967233773),\n",
            "   ('travel', 0.024187595643172202),\n",
            "   ('ride', 0.01936267890899271),\n",
            "   ('beach', 0.019011612206319202),\n",
            "   ('camping', 0.01868755063462058)])]\n",
            "\n",
            "Coherence Score:  0.45512821453336977\n"
          ]
        }
      ]
    },
    {
      "cell_type": "code",
      "source": [
        "#Coherence Score after mallet shoot to .45, next is make a loop and plot the best coherence score."
      ],
      "metadata": {
        "id": "VoEbX8A12L5S"
      },
      "execution_count": null,
      "outputs": []
    },
    {
      "cell_type": "code",
      "source": [
        "#Make a gridsearch style to find the highest coherence score\n",
        "def compute_coherence_values(dictionary, corpus, texts, limit, start=2, step=3):\n",
        "    \"\"\"\n",
        "    Compute c_v coherence for various number of topics\n",
        "\n",
        "    Parameters:\n",
        "    ----------\n",
        "    dictionary : Gensim dictionary\n",
        "    corpus : Gensim corpus\n",
        "    texts : List of input texts\n",
        "    limit : Max num of topics\n",
        "\n",
        "    Returns:\n",
        "    -------\n",
        "    model_list : List of LDA topic models\n",
        "    coherence_values : Coherence values corresponding to the LDA model with respective number of topics\n",
        "    \"\"\"\n",
        "    coherence_values = []\n",
        "    model_list = []\n",
        "    for num_topics in range(start, limit, step):\n",
        "        model = gensim.models.wrappers.LdaMallet(mallet_path, corpus=corpus, num_topics=num_topics, id2word=id2word)\n",
        "        model_list.append(model)\n",
        "        coherencemodel = CoherenceModel(model=model, texts=texts, dictionary=dictionary, coherence='c_v')\n",
        "        coherence_values.append(coherencemodel.get_coherence())\n",
        "\n",
        "    return model_list, coherence_values"
      ],
      "metadata": {
        "id": "46mE3-5xTO3Q"
      },
      "execution_count": null,
      "outputs": []
    },
    {
      "cell_type": "code",
      "source": [
        "model_list, coherence_values = compute_coherence_values(dictionary=id2word, corpus=corpus, texts=data_lemmatized, start=5, limit=40, step=5)"
      ],
      "metadata": {
        "id": "540V55KtThvk"
      },
      "execution_count": null,
      "outputs": []
    },
    {
      "cell_type": "code",
      "source": [
        "limit=40; start=5; step=5;\n",
        "x = range(start, limit, step)\n",
        "plt.plot(x, coherence_values)\n",
        "plt.xlabel(\"Num Topics\")\n",
        "plt.ylabel(\"Coherence score\")\n",
        "plt.legend((\"coherence_values\"), loc='best')\n",
        "plt.show()"
      ],
      "metadata": {
        "colab": {
          "base_uri": "https://localhost:8080/",
          "height": 279
        },
        "id": "daFaZ6ZJVQ8A",
        "outputId": "d73b2692-be63-41c1-a6d1-493d48b51b07"
      },
      "execution_count": null,
      "outputs": [
        {
          "output_type": "display_data",
          "data": {
            "text/plain": [
              "<Figure size 432x288 with 1 Axes>"
            ],
            "image/png": "[encoded data removed]"
          },
          "metadata": {
            "needs_background": "light"
          }
        }
      ]
    },
    {
      "cell_type": "code",
      "source": [
        "for m, cv in zip(x, coherence_values):\n",
        "    print(\"Num Topics =\", m, \" has Coherence Value of\", round(cv, 4))"
      ],
      "metadata": {
        "colab": {
          "base_uri": "https://localhost:8080/"
        },
        "id": "ApRyhXWIVXoS",
        "outputId": "358a7d9c-27b9-4cfa-89cc-096b44df3682"
      },
      "execution_count": null,
      "outputs": [
        {
          "output_type": "stream",
          "name": "stdout",
          "text": [
            "Num Topics = 5  has Coherence Value of 0.422\n",
            "Num Topics = 10  has Coherence Value of 0.44\n",
            "Num Topics = 15  has Coherence Value of 0.4469\n",
            "Num Topics = 20  has Coherence Value of 0.4489\n",
            "Num Topics = 25  has Coherence Value of 0.4604\n",
            "Num Topics = 30  has Coherence Value of 0.4609\n",
            "Num Topics = 35  has Coherence Value of 0.4609\n"
          ]
        }
      ]
    },
    {
      "cell_type": "code",
      "source": [
        "# Select the model and print the topics\n",
        "optimal_model = model_list[4]\n",
        "model_topics = optimal_model.show_topics(formatted=False)\n",
        "pprint(optimal_model.print_topics(num_words=10))"
      ],
      "metadata": {
        "colab": {
          "base_uri": "https://localhost:8080/"
        },
        "id": "X2zmRMHWVo3l",
        "outputId": "3bd7339a-e6f0-4c57-d695-2445f659e784"
      },
      "execution_count": null,
      "outputs": [
        {
          "output_type": "stream",
          "name": "stdout",
          "text": [
            "[(12,\n",
            "  '0.031*\"life\" + 0.019*\"world\" + 0.016*\"nature\" + 0.016*\"deep\" + '\n",
            "  '0.013*\"experience\" + 0.012*\"feel\" + 0.012*\"heart\" + 0.011*\"create\" + '\n",
            "  '0.010*\"spiritual\" + 0.009*\"beauty\"'),\n",
            " (6,\n",
            "  '0.288*\"people\" + 0.119*\"meet\" + 0.087*\"thing\" + 0.043*\"make\" + '\n",
            "  '0.038*\"person\" + 0.036*\"lot\" + 0.033*\"talk\" + 0.033*\"interesting\" + '\n",
            "  '0.019*\"friend\" + 0.017*\"find\"'),\n",
            " (3,\n",
            "  '0.109*\"year\" + 0.062*\"move\" + 0.056*\"back\" + 0.054*\"school\" + 0.049*\"bear\" '\n",
            "  '+ 0.040*\"raise\" + 0.038*\"college\" + 0.035*\"grow\" + 0.021*\"recently\" + '\n",
            "  '0.021*\"ago\"'),\n",
            " (10,\n",
            "  '0.062*\"relationship\" + 0.053*\"woman\" + 0.047*\"man\" + 0.026*\"open\" + '\n",
            "  '0.023*\"date\" + 0.020*\"partner\" + 0.018*\"interested\" + 0.012*\"sex\" + '\n",
            "  '0.011*\"friendship\" + 0.010*\"important\"'),\n",
            " (15,\n",
            "  '0.038*\"profile\" + 0.034*\"write\" + 0.024*\"message\" + 0.020*\"read\" + '\n",
            "  '0.020*\"question\" + 0.018*\"site\" + 0.018*\"word\" + 0.018*\"date\" + '\n",
            "  '0.016*\"give\" + 0.014*\"picture\"'),\n",
            " (21,\n",
            "  '0.058*\"read\" + 0.055*\"thing\" + 0.042*\"book\" + 0.029*\"lot\" + 0.027*\"movie\" + '\n",
            "  '0.021*\"stuff\" + 0.019*\"nerd\" + 0.018*\"make\" + 0.016*\"dog\" + 0.016*\"cat\"'),\n",
            " (11,\n",
            "  '0.126*\"friend\" + 0.115*\"life\" + 0.086*\"family\" + 0.073*\"enjoy\" + '\n",
            "  '0.047*\"great\" + 0.041*\"share\" + 0.031*\"important\" + 0.028*\"close\" + '\n",
            "  '0.022*\"find\" + 0.016*\"good\"'),\n",
            " (17,\n",
            "  '0.051*\"make\" + 0.023*\"bad\" + 0.023*\"hate\" + 0.017*\"talk\" + 0.013*\"thing\" + '\n",
            "  '0.011*\"people\" + 0.010*\"awesome\" + 0.010*\"weird\" + 0.009*\"sound\" + '\n",
            "  '0.009*\"stuff\"'),\n",
            " (4,\n",
            "  '0.162*\"life\" + 0.100*\"thing\" + 0.077*\"make\" + 0.037*\"happy\" + '\n",
            "  '0.034*\"person\" + 0.034*\"find\" + 0.025*\"feel\" + 0.021*\"big\" + 0.020*\"learn\" '\n",
            "  '+ 0.019*\"simple\"'),\n",
            " (2,\n",
            "  '0.104*\"guy\" + 0.065*\"pretty\" + 0.058*\"fun\" + 0.056*\"girl\" + 0.049*\"nice\" + '\n",
            "  '0.038*\"friend\" + 0.036*\"easy\" + 0.026*\"type\" + 0.023*\"hang\" + '\n",
            "  '0.021*\"person\"'),\n",
            " (22,\n",
            "  '0.025*\"give\" + 0.017*\"mind\" + 0.017*\"feel\" + 0.014*\"understand\" + '\n",
            "  '0.013*\"find\" + 0.012*\"change\" + 0.012*\"true\" + 0.010*\"matter\" + '\n",
            "  '0.009*\"hold\" + 0.008*\"end\"'),\n",
            " (0,\n",
            "  '0.060*\"enjoy\" + 0.052*\"hike\" + 0.037*\"outdoors\" + 0.036*\"run\" + '\n",
            "  '0.035*\"bike\" + 0.027*\"beach\" + 0.025*\"active\" + 0.023*\"camping\" + '\n",
            "  '0.022*\"ride\" + 0.017*\"hiking\"'),\n",
            " (7,\n",
            "  '0.282*\"time\" + 0.090*\"spend\" + 0.058*\"lot\" + 0.046*\"work\" + 0.044*\"day\" + '\n",
            "  '0.038*\"friend\" + 0.032*\"good\" + 0.029*\"long\" + 0.026*\"free\" + 0.023*\"find\"'),\n",
            " (23,\n",
            "  '0.071*\"food\" + 0.067*\"good\" + 0.049*\"eat\" + 0.042*\"cook\" + 0.039*\"drink\" + '\n",
            "  '0.032*\"wine\" + 0.022*\"coffee\" + 0.020*\"beer\" + 0.018*\"day\" + '\n",
            "  '0.017*\"restaurant\"'),\n",
            " (14,\n",
            "  '0.118*\"play\" + 0.062*\"watch\" + 0.058*\"enjoy\" + 0.054*\"movie\" + '\n",
            "  '0.049*\"sport\" + 0.040*\"game\" + 0.037*\"music\" + 0.035*\"love\" + 0.025*\"fan\" + '\n",
            "  '0.018*\"hang\"'),\n",
            " (19,\n",
            "  '0.033*\"passionate\" + 0.033*\"kind\" + 0.032*\"honest\" + 0.027*\"intelligent\" + '\n",
            "  '0.026*\"care\" + 0.024*\"funny\" + 0.023*\"loyal\" + 0.022*\"smart\" + '\n",
            "  '0.021*\"adventurous\" + 0.020*\"independent\"'),\n",
            " (24,\n",
            "  '0.062*\"music\" + 0.060*\"art\" + 0.016*\"creative\" + 0.016*\"film\" + '\n",
            "  '0.015*\"artist\" + 0.013*\"design\" + 0.011*\"photography\" + 0.010*\"write\" + '\n",
            "  '0.009*\"science\" + 0.009*\"dance\"'),\n",
            " (18,\n",
            "  '0.034*\"bit\" + 0.030*\"tend\" + 0.019*\"people\" + 0.017*\"thing\" + 0.017*\"side\" '\n",
            "  '+ 0.017*\"social\" + 0.014*\"type\" + 0.014*\"generally\" + 0.012*\"find\" + '\n",
            "  '0.011*\"interest\"'),\n",
            " (9,\n",
            "  '0.132*\"travel\" + 0.064*\"love\" + 0.062*\"place\" + 0.057*\"world\" + '\n",
            "  '0.056*\"live\" + 0.033*\"learn\" + 0.031*\"adventure\" + 0.031*\"country\" + '\n",
            "  '0.031*\"experience\" + 0.027*\"explore\"'),\n",
            " (13,\n",
            "  '0.135*\"live\" + 0.093*\"city\" + 0.088*\"year\" + 0.056*\"move\" + 0.036*\"explore\" '\n",
            "  '+ 0.034*\"grow\" + 0.031*\"sf\" + 0.029*\"bay_area\" + 0.024*\"place\" + '\n",
            "  '0.021*\"originally\"')]\n"
          ]
        }
      ]
    },
    {
      "cell_type": "code",
      "source": [
        "def format_topics_sentences(ldamodel=lda_model, corpus=corpus, texts=data):\n",
        "    # Init output\n",
        "    sent_topics_df = pd.DataFrame()\n",
        "\n",
        "    # Get main topic in each document\n",
        "    for i, row in enumerate(ldamodel[corpus]):\n",
        "        row = sorted(row, key=lambda x: (x[1]), reverse=True)\n",
        "        # Get the Dominant topic, Perc Contribution and Keywords for each document\n",
        "        for j, (topic_num, prop_topic) in enumerate(row):\n",
        "            if j == 0:  # => dominant topic\n",
        "                wp = ldamodel.show_topic(topic_num)\n",
        "                topic_keywords = \", \".join([word for word, prop in wp])\n",
        "                sent_topics_df = sent_topics_df.append(pd.Series([int(topic_num), round(prop_topic,4), topic_keywords]), ignore_index=True)\n",
        "            else:\n",
        "                break\n",
        "    sent_topics_df.columns = ['Dominant_Topic', 'Perc_Contribution', 'Topic_Keywords']\n",
        "\n",
        "    # Add original text to the end of the output\n",
        "    contents = pd.Series(texts)\n",
        "    sent_topics_df = pd.concat([sent_topics_df, contents], axis=1)\n",
        "    return(sent_topics_df)\n",
        "\n",
        "\n",
        "df_topic_sents_keywords = format_topics_sentences(ldamodel=optimal_model, corpus=corpus, texts=data)\n",
        "\n",
        "# Format\n",
        "df_dominant_topic = df_topic_sents_keywords.reset_index()\n",
        "df_dominant_topic.columns = ['Document_No', 'Dominant_Topic', 'Topic_Perc_Contrib', 'Keywords', 'Text']\n",
        "\n",
        "# Show\n",
        "df_dominant_topic.head(10)"
      ],
      "metadata": {
        "id": "aAo5RBWLVyT3"
      },
      "execution_count": null,
      "outputs": []
    },
    {
      "cell_type": "code",
      "source": [
        "df_dominant_topic.head(10)"
      ],
      "metadata": {
        "colab": {
          "base_uri": "https://localhost:8080/",
          "height": 563
        },
        "id": "tptu0yeJYALv",
        "outputId": "6427eced-c2aa-4b77-b137-254ecd42eebd"
      },
      "execution_count": null,
      "outputs": [
        {
          "output_type": "execute_result",
          "data": {
            "text/plain": [
              "   Document_No  Dominant_Topic  Topic_Perc_Contrib  \\\n",
              "0            0             7.0              0.3071   \n",
              "1            1             6.0              0.1748   \n",
              "2            2             3.0              0.2105   \n",
              "3            3             7.0              0.1378   \n",
              "4            4             7.0              0.1830   \n",
              "5            5             3.0              0.1729   \n",
              "6            6             0.0              0.1449   \n",
              "7            7             3.0              0.2785   \n",
              "8            8             6.0              0.2124   \n",
              "9            9             4.0              0.1851   \n",
              "\n",
              "                                            Keywords  \\\n",
              "0  people, good, friend, meet, time, person, guy,...   \n",
              "1  relationship, woman, give, date, long, profile...   \n",
              "2  music, play, movie, watch, food, eat, hike, co...   \n",
              "3  people, good, friend, meet, time, person, guy,...   \n",
              "4  people, good, friend, meet, time, person, guy,...   \n",
              "5  music, play, movie, watch, food, eat, hike, co...   \n",
              "6  life, world, share, feel, experience, importan...   \n",
              "7  music, play, movie, watch, food, eat, hike, co...   \n",
              "8  relationship, woman, give, date, long, profile...   \n",
              "9  bit, make, stuff, girl, thing, read, bad, feel...   \n",
              "\n",
              "                                                Text  \n",
              "0  around new people i'm pretty shy and quiet, bu...  \n",
              "1  (movie preview voice) passion. desire. intrigu...  \n",
              "2  21 year old student, born and raised in the ba...  \n",
              "3                     i'm simple only that i can say  \n",
              "4  down to earth. independent. friendly. dorky. f...  \n",
              "5  fun, quirky, and armed with a nice repertoire ...  \n",
              "6  -sf native -in advertising -dedicated -optimis...  \n",
              "7  enjoying my new \"sf life\"... i stay active and...  \n",
              "8  looking for ms. right -- ms. right now, that i...  \n",
              "9  i'm an artist till the day i die. i live and b...  "
            ],
            "text/html": [
              "\n",
              "  <div id=\"df-501121c2-3ba5-4283-9523-adaabcb38b0c\">\n",
              "    <div class=\"colab-df-container\">\n",
              "      <div>\n",
              "<style scoped>\n",
              "    .dataframe tbody tr th:only-of-type {\n",
              "        vertical-align: middle;\n",
              "    }\n",
              "\n",
              "    .dataframe tbody tr th {\n",
              "        vertical-align: top;\n",
              "    }\n",
              "\n",
              "    .dataframe thead th {\n",
              "        text-align: right;\n",
              "    }\n",
              "</style>\n",
              "<table border=\"1\" class=\"dataframe\">\n",
              "  <thead>\n",
              "    <tr style=\"text-align: right;\">\n",
              "      <th></th>\n",
              "      <th>Document_No</th>\n",
              "      <th>Dominant_Topic</th>\n",
              "      <th>Topic_Perc_Contrib</th>\n",
              "      <th>Keywords</th>\n",
              "      <th>Text</th>\n",
              "    </tr>\n",
              "  </thead>\n",
              "  <tbody>\n",
              "    <tr>\n",
              "      <th>0</th>\n",
              "      <td>0</td>\n",
              "      <td>7.0</td>\n",
              "      <td>0.3071</td>\n",
              "      <td>people, good, friend, meet, time, person, guy,...</td>\n",
              "      <td>around new people i'm pretty shy and quiet, bu...</td>\n",
              "    </tr>\n",
              "    <tr>\n",
              "      <th>1</th>\n",
              "      <td>1</td>\n",
              "      <td>6.0</td>\n",
              "      <td>0.1748</td>\n",
              "      <td>relationship, woman, give, date, long, profile...</td>\n",
              "      <td>(movie preview voice) passion. desire. intrigu...</td>\n",
              "    </tr>\n",
              "    <tr>\n",
              "      <th>2</th>\n",
              "      <td>2</td>\n",
              "      <td>3.0</td>\n",
              "      <td>0.2105</td>\n",
              "      <td>music, play, movie, watch, food, eat, hike, co...</td>\n",
              "      <td>21 year old student, born and raised in the ba...</td>\n",
              "    </tr>\n",
              "    <tr>\n",
              "      <th>3</th>\n",
              "      <td>3</td>\n",
              "      <td>7.0</td>\n",
              "      <td>0.1378</td>\n",
              "      <td>people, good, friend, meet, time, person, guy,...</td>\n",
              "      <td>i'm simple only that i can say</td>\n",
              "    </tr>\n",
              "    <tr>\n",
              "      <th>4</th>\n",
              "      <td>4</td>\n",
              "      <td>7.0</td>\n",
              "      <td>0.1830</td>\n",
              "      <td>people, good, friend, meet, time, person, guy,...</td>\n",
              "      <td>down to earth. independent. friendly. dorky. f...</td>\n",
              "    </tr>\n",
              "    <tr>\n",
              "      <th>5</th>\n",
              "      <td>5</td>\n",
              "      <td>3.0</td>\n",
              "      <td>0.1729</td>\n",
              "      <td>music, play, movie, watch, food, eat, hike, co...</td>\n",
              "      <td>fun, quirky, and armed with a nice repertoire ...</td>\n",
              "    </tr>\n",
              "    <tr>\n",
              "      <th>6</th>\n",
              "      <td>6</td>\n",
              "      <td>0.0</td>\n",
              "      <td>0.1449</td>\n",
              "      <td>life, world, share, feel, experience, importan...</td>\n",
              "      <td>-sf native -in advertising -dedicated -optimis...</td>\n",
              "    </tr>\n",
              "    <tr>\n",
              "      <th>7</th>\n",
              "      <td>7</td>\n",
              "      <td>3.0</td>\n",
              "      <td>0.2785</td>\n",
              "      <td>music, play, movie, watch, food, eat, hike, co...</td>\n",
              "      <td>enjoying my new \"sf life\"... i stay active and...</td>\n",
              "    </tr>\n",
              "    <tr>\n",
              "      <th>8</th>\n",
              "      <td>8</td>\n",
              "      <td>6.0</td>\n",
              "      <td>0.2124</td>\n",
              "      <td>relationship, woman, give, date, long, profile...</td>\n",
              "      <td>looking for ms. right -- ms. right now, that i...</td>\n",
              "    </tr>\n",
              "    <tr>\n",
              "      <th>9</th>\n",
              "      <td>9</td>\n",
              "      <td>4.0</td>\n",
              "      <td>0.1851</td>\n",
              "      <td>bit, make, stuff, girl, thing, read, bad, feel...</td>\n",
              "      <td>i'm an artist till the day i die. i live and b...</td>\n",
              "    </tr>\n",
              "  </tbody>\n",
              "</table>\n",
              "</div>\n",
              "      <button class=\"colab-df-convert\" onclick=\"convertToInteractive('df-501121c2-3ba5-4283-9523-adaabcb38b0c')\"\n",
              "              title=\"Convert this dataframe to an interactive table.\"\n",
              "              style=\"display:none;\">\n",
              "        \n",
              "  <svg xmlns=\"http://www.w3.org/2000/svg\" height=\"24px\"viewBox=\"0 0 24 24\"\n",
              "       width=\"24px\">\n",
              "    <path d=\"M0 0h24v24H0V0z\" fill=\"none\"/>\n",
              "    <path d=\"M18.56 5.44l.94 2.06.94-2.06 2.06-.94-2.06-.94-.94-2.06-.94 2.06-2.06.94zm-11 1L8.5 8.5l.94-2.06 2.06-.94-2.06-.94L8.5 2.5l-.94 2.06-2.06.94zm10 10l.94 2.06.94-2.06 2.06-.94-2.06-.94-.94-2.06-.94 2.06-2.06.94z\"/><path d=\"M17.41 7.96l-1.37-1.37c-.4-.4-.92-.59-1.43-.59-.52 0-1.04.2-1.43.59L10.3 9.45l-7.72 7.72c-.78.78-.78 2.05 0 2.83L4 21.41c.39.39.9.59 1.41.59.51 0 1.02-.2 1.41-.59l7.78-7.78 2.81-2.81c.8-.78.8-2.07 0-2.86zM5.41 20L4 18.59l7.72-7.72 1.47 1.35L5.41 20z\"/>\n",
              "  </svg>\n",
              "      </button>\n",
              "      \n",
              "  <style>\n",
              "    .colab-df-container {\n",
              "      display:flex;\n",
              "      flex-wrap:wrap;\n",
              "      gap: 12px;\n",
              "    }\n",
              "\n",
              "    .colab-df-convert {\n",
              "      background-color: #E8F0FE;\n",
              "      border: none;\n",
              "      border-radius: 50%;\n",
              "      cursor: pointer;\n",
              "      display: none;\n",
              "      fill: #1967D2;\n",
              "      height: 32px;\n",
              "      padding: 0 0 0 0;\n",
              "      width: 32px;\n",
              "    }\n",
              "\n",
              "    .colab-df-convert:hover {\n",
              "      background-color: #E2EBFA;\n",
              "      box-shadow: 0px 1px 2px rgba(60, 64, 67, 0.3), 0px 1px 3px 1px rgba(60, 64, 67, 0.15);\n",
              "      fill: #174EA6;\n",
              "    }\n",
              "\n",
              "    [theme=dark] .colab-df-convert {\n",
              "      background-color: #3B4455;\n",
              "      fill: #D2E3FC;\n",
              "    }\n",
              "\n",
              "    [theme=dark] .colab-df-convert:hover {\n",
              "      background-color: #434B5C;\n",
              "      box-shadow: 0px 1px 3px 1px rgba(0, 0, 0, 0.15);\n",
              "      filter: drop-shadow(0px 1px 2px rgba(0, 0, 0, 0.3));\n",
              "      fill: #FFFFFF;\n",
              "    }\n",
              "  </style>\n",
              "\n",
              "      <script>\n",
              "        const buttonEl =\n",
              "          document.querySelector('#df-501121c2-3ba5-4283-9523-adaabcb38b0c button.colab-df-convert');\n",
              "        buttonEl.style.display =\n",
              "          google.colab.kernel.accessAllowed ? 'block' : 'none';\n",
              "\n",
              "        async function convertToInteractive(key) {\n",
              "          const element = document.querySelector('#df-501121c2-3ba5-4283-9523-adaabcb38b0c');\n",
              "          const dataTable =\n",
              "            await google.colab.kernel.invokeFunction('convertToInteractive',\n",
              "                                                     [key], {});\n",
              "          if (!dataTable) return;\n",
              "\n",
              "          const docLinkHtml = 'Like what you see? Visit the ' +\n",
              "            '<a target=\"_blank\" href=https://colab.research.google.com/notebooks/data_table.ipynb>data table notebook</a>'\n",
              "            + ' to learn more about interactive tables.';\n",
              "          element.innerHTML = '';\n",
              "          dataTable['output_type'] = 'display_data';\n",
              "          await google.colab.output.renderOutput(dataTable, element);\n",
              "          const docLink = document.createElement('div');\n",
              "          docLink.innerHTML = docLinkHtml;\n",
              "          element.appendChild(docLink);\n",
              "        }\n",
              "      </script>\n",
              "    </div>\n",
              "  </div>\n",
              "  "
            ]
          },
          "metadata": {},
          "execution_count": 32
        }
      ]
    },
    {
      "cell_type": "code",
      "source": [
        "df_dominant_topic.to_csv(\"okcupid60k_25topics.csv\")"
      ],
      "metadata": {
        "id": "Tiw0oYKRPWG0"
      },
      "execution_count": null,
      "outputs": []
    },
    {
      "cell_type": "code",
      "source": [
        "# Group top 5 sentences under each topic\n",
        "sent_topics_sorteddf_mallet = pd.DataFrame()\n",
        "\n",
        "sent_topics_outdf_grpd = df_topic_sents_keywords.groupby('Dominant_Topic')\n",
        "\n",
        "for i, grp in sent_topics_outdf_grpd:\n",
        "    sent_topics_sorteddf_mallet = pd.concat([sent_topics_sorteddf_mallet, \n",
        "                                             grp.sort_values(['Perc_Contribution'], ascending=[0]).head(1)], \n",
        "                                            axis=0)\n",
        "\n",
        "# Reset Index    \n",
        "sent_topics_sorteddf_mallet.reset_index(drop=True, inplace=True)\n",
        "\n",
        "# Format\n",
        "sent_topics_sorteddf_mallet.columns = ['Topic_Num', \"Topic_Perc_Contrib\", \"Keywords\", \"Text\"]\n",
        "\n",
        "# Show\n",
        "sent_topics_sorteddf_mallet.head()"
      ],
      "metadata": {
        "colab": {
          "base_uri": "https://localhost:8080/",
          "height": 206
        },
        "id": "x9rlbm95Wa7j",
        "outputId": "b9f3ecb5-1f18-4193-dd2e-1a7f115074c1"
      },
      "execution_count": null,
      "outputs": [
        {
          "output_type": "execute_result",
          "data": {
            "text/plain": [
              "   Topic_Num  Topic_Perc_Contrib  \\\n",
              "0        0.0              0.2778   \n",
              "1        1.0              0.6496   \n",
              "2        2.0              0.2596   \n",
              "3        3.0              0.2664   \n",
              "4        4.0              0.2510   \n",
              "\n",
              "                                            Keywords  \\\n",
              "0  enjoy, hike, outdoors, run, bike, beach, activ...   \n",
              "1  work, hard, job, company, start, career, busin...   \n",
              "2  guy, pretty, fun, girl, nice, friend, easy, ty...   \n",
              "3  year, move, back, school, bear, raise, college...   \n",
              "4  life, thing, make, happy, person, find, feel, ...   \n",
              "\n",
              "                                                Text  \n",
              "0  i'm a carpenter/handyman. i love outdoor activ...  \n",
              "1  lon sterling james it / business / computer co...  \n",
              "2  my name is tonesha but i go by nesha f. baby, ...  \n",
              "3  i recently moved to the bay area ,from eastcoa...  \n",
              "4  i'm a california-raised girl, of iranian desce...  "
            ],
            "text/html": [
              "\n",
              "  <div id=\"df-1e27bee7-54aa-4927-89b0-06076b01152f\">\n",
              "    <div class=\"colab-df-container\">\n",
              "      <div>\n",
              "<style scoped>\n",
              "    .dataframe tbody tr th:only-of-type {\n",
              "        vertical-align: middle;\n",
              "    }\n",
              "\n",
              "    .dataframe tbody tr th {\n",
              "        vertical-align: top;\n",
              "    }\n",
              "\n",
              "    .dataframe thead th {\n",
              "        text-align: right;\n",
              "    }\n",
              "</style>\n",
              "<table border=\"1\" class=\"dataframe\">\n",
              "  <thead>\n",
              "    <tr style=\"text-align: right;\">\n",
              "      <th></th>\n",
              "      <th>Topic_Num</th>\n",
              "      <th>Topic_Perc_Contrib</th>\n",
              "      <th>Keywords</th>\n",
              "      <th>Text</th>\n",
              "    </tr>\n",
              "  </thead>\n",
              "  <tbody>\n",
              "    <tr>\n",
              "      <th>0</th>\n",
              "      <td>0.0</td>\n",
              "      <td>0.2778</td>\n",
              "      <td>enjoy, hike, outdoors, run, bike, beach, activ...</td>\n",
              "      <td>i'm a carpenter/handyman. i love outdoor activ...</td>\n",
              "    </tr>\n",
              "    <tr>\n",
              "      <th>1</th>\n",
              "      <td>1.0</td>\n",
              "      <td>0.6496</td>\n",
              "      <td>work, hard, job, company, start, career, busin...</td>\n",
              "      <td>lon sterling james it / business / computer co...</td>\n",
              "    </tr>\n",
              "    <tr>\n",
              "      <th>2</th>\n",
              "      <td>2.0</td>\n",
              "      <td>0.2596</td>\n",
              "      <td>guy, pretty, fun, girl, nice, friend, easy, ty...</td>\n",
              "      <td>my name is tonesha but i go by nesha f. baby, ...</td>\n",
              "    </tr>\n",
              "    <tr>\n",
              "      <th>3</th>\n",
              "      <td>3.0</td>\n",
              "      <td>0.2664</td>\n",
              "      <td>year, move, back, school, bear, raise, college...</td>\n",
              "      <td>i recently moved to the bay area ,from eastcoa...</td>\n",
              "    </tr>\n",
              "    <tr>\n",
              "      <th>4</th>\n",
              "      <td>4.0</td>\n",
              "      <td>0.2510</td>\n",
              "      <td>life, thing, make, happy, person, find, feel, ...</td>\n",
              "      <td>i'm a california-raised girl, of iranian desce...</td>\n",
              "    </tr>\n",
              "  </tbody>\n",
              "</table>\n",
              "</div>\n",
              "      <button class=\"colab-df-convert\" onclick=\"convertToInteractive('df-1e27bee7-54aa-4927-89b0-06076b01152f')\"\n",
              "              title=\"Convert this dataframe to an interactive table.\"\n",
              "              style=\"display:none;\">\n",
              "        \n",
              "  <svg xmlns=\"http://www.w3.org/2000/svg\" height=\"24px\"viewBox=\"0 0 24 24\"\n",
              "       width=\"24px\">\n",
              "    <path d=\"M0 0h24v24H0V0z\" fill=\"none\"/>\n",
              "    <path d=\"M18.56 5.44l.94 2.06.94-2.06 2.06-.94-2.06-.94-.94-2.06-.94 2.06-2.06.94zm-11 1L8.5 8.5l.94-2.06 2.06-.94-2.06-.94L8.5 2.5l-.94 2.06-2.06.94zm10 10l.94 2.06.94-2.06 2.06-.94-2.06-.94-.94-2.06-.94 2.06-2.06.94z\"/><path d=\"M17.41 7.96l-1.37-1.37c-.4-.4-.92-.59-1.43-.59-.52 0-1.04.2-1.43.59L10.3 9.45l-7.72 7.72c-.78.78-.78 2.05 0 2.83L4 21.41c.39.39.9.59 1.41.59.51 0 1.02-.2 1.41-.59l7.78-7.78 2.81-2.81c.8-.78.8-2.07 0-2.86zM5.41 20L4 18.59l7.72-7.72 1.47 1.35L5.41 20z\"/>\n",
              "  </svg>\n",
              "      </button>\n",
              "      \n",
              "  <style>\n",
              "    .colab-df-container {\n",
              "      display:flex;\n",
              "      flex-wrap:wrap;\n",
              "      gap: 12px;\n",
              "    }\n",
              "\n",
              "    .colab-df-convert {\n",
              "      background-color: #E8F0FE;\n",
              "      border: none;\n",
              "      border-radius: 50%;\n",
              "      cursor: pointer;\n",
              "      display: none;\n",
              "      fill: #1967D2;\n",
              "      height: 32px;\n",
              "      padding: 0 0 0 0;\n",
              "      width: 32px;\n",
              "    }\n",
              "\n",
              "    .colab-df-convert:hover {\n",
              "      background-color: #E2EBFA;\n",
              "      box-shadow: 0px 1px 2px rgba(60, 64, 67, 0.3), 0px 1px 3px 1px rgba(60, 64, 67, 0.15);\n",
              "      fill: #174EA6;\n",
              "    }\n",
              "\n",
              "    [theme=dark] .colab-df-convert {\n",
              "      background-color: #3B4455;\n",
              "      fill: #D2E3FC;\n",
              "    }\n",
              "\n",
              "    [theme=dark] .colab-df-convert:hover {\n",
              "      background-color: #434B5C;\n",
              "      box-shadow: 0px 1px 3px 1px rgba(0, 0, 0, 0.15);\n",
              "      filter: drop-shadow(0px 1px 2px rgba(0, 0, 0, 0.3));\n",
              "      fill: #FFFFFF;\n",
              "    }\n",
              "  </style>\n",
              "\n",
              "      <script>\n",
              "        const buttonEl =\n",
              "          document.querySelector('#df-1e27bee7-54aa-4927-89b0-06076b01152f button.colab-df-convert');\n",
              "        buttonEl.style.display =\n",
              "          google.colab.kernel.accessAllowed ? 'block' : 'none';\n",
              "\n",
              "        async function convertToInteractive(key) {\n",
              "          const element = document.querySelector('#df-1e27bee7-54aa-4927-89b0-06076b01152f');\n",
              "          const dataTable =\n",
              "            await google.colab.kernel.invokeFunction('convertToInteractive',\n",
              "                                                     [key], {});\n",
              "          if (!dataTable) return;\n",
              "\n",
              "          const docLinkHtml = 'Like what you see? Visit the ' +\n",
              "            '<a target=\"_blank\" href=https://colab.research.google.com/notebooks/data_table.ipynb>data table notebook</a>'\n",
              "            + ' to learn more about interactive tables.';\n",
              "          element.innerHTML = '';\n",
              "          dataTable['output_type'] = 'display_data';\n",
              "          await google.colab.output.renderOutput(dataTable, element);\n",
              "          const docLink = document.createElement('div');\n",
              "          docLink.innerHTML = docLinkHtml;\n",
              "          element.appendChild(docLink);\n",
              "        }\n",
              "      </script>\n",
              "    </div>\n",
              "  </div>\n",
              "  "
            ]
          },
          "metadata": {},
          "execution_count": 33
        }
      ]
    },
    {
      "cell_type": "code",
      "source": [
        "# Number of Documents for Each Topic\n",
        "topic_counts = df_topic_sents_keywords['Dominant_Topic'].value_counts()\n",
        "\n",
        "# Percentage of Documents for Each Topic\n",
        "topic_contribution = round(topic_counts/topic_counts.sum(), 4)\n",
        "\n",
        "# Topic Number and Keywords\n",
        "topic_num_keywords = df_topic_sents_keywords[['Dominant_Topic', 'Topic_Keywords']]\n",
        "\n",
        "# Concatenate Column wise\n",
        "df_dominant_topics = pd.concat([topic_num_keywords, topic_counts, topic_contribution], axis=1)\n",
        "\n",
        "# Change Column names\n",
        "df_dominant_topics.columns = ['Dominant_Topic', 'Topic_Keywords', 'Num_Documents', 'Perc_Documents']\n",
        "\n",
        "# Show\n",
        "df_dominant_topics"
      ],
      "metadata": {
        "colab": {
          "base_uri": "https://localhost:8080/",
          "height": 673
        },
        "id": "XAsYl0P4Wlmk",
        "outputId": "3cdd693c-7df4-40f9-beef-24f8a7d397b1"
      },
      "execution_count": null,
      "outputs": [
        {
          "output_type": "execute_result",
          "data": {
            "text/plain": [
              "         Dominant_Topic                                     Topic_Keywords  \\\n",
              "0.0                16.0  kid, car, wear, young, big, long, dress, child...   \n",
              "1.0                23.0  food, good, eat, cook, drink, wine, coffee, be...   \n",
              "2.0                15.0  profile, write, message, read, question, site,...   \n",
              "3.0                 3.0  year, move, back, school, bear, raise, college...   \n",
              "4.0                15.0  profile, write, message, read, question, site,...   \n",
              "...                 ...                                                ...   \n",
              "54453.0            12.0  life, world, nature, deep, experience, feel, h...   \n",
              "54454.0             8.0  day, walk, sleep, night, water, light, morning...   \n",
              "54455.0            14.0  play, watch, enjoy, movie, sport, game, music,...   \n",
              "54456.0            23.0  food, good, eat, cook, drink, wine, coffee, be...   \n",
              "54457.0            17.0  make, bad, hate, talk, thing, people, awesome,...   \n",
              "\n",
              "         Num_Documents  Perc_Documents  \n",
              "0.0             3599.0          0.0661  \n",
              "1.0             2000.0          0.0367  \n",
              "2.0             2856.0          0.0524  \n",
              "3.0             3369.0          0.0619  \n",
              "4.0             1600.0          0.0294  \n",
              "...                ...             ...  \n",
              "54453.0            NaN             NaN  \n",
              "54454.0            NaN             NaN  \n",
              "54455.0            NaN             NaN  \n",
              "54456.0            NaN             NaN  \n",
              "54457.0            NaN             NaN  \n",
              "\n",
              "[54458 rows x 4 columns]"
            ],
            "text/html": [
              "\n",
              "  <div id=\"df-8cb0ab16-4b33-4383-b381-af763728b023\">\n",
              "    <div class=\"colab-df-container\">\n",
              "      <div>\n",
              "<style scoped>\n",
              "    .dataframe tbody tr th:only-of-type {\n",
              "        vertical-align: middle;\n",
              "    }\n",
              "\n",
              "    .dataframe tbody tr th {\n",
              "        vertical-align: top;\n",
              "    }\n",
              "\n",
              "    .dataframe thead th {\n",
              "        text-align: right;\n",
              "    }\n",
              "</style>\n",
              "<table border=\"1\" class=\"dataframe\">\n",
              "  <thead>\n",
              "    <tr style=\"text-align: right;\">\n",
              "      <th></th>\n",
              "      <th>Dominant_Topic</th>\n",
              "      <th>Topic_Keywords</th>\n",
              "      <th>Num_Documents</th>\n",
              "      <th>Perc_Documents</th>\n",
              "    </tr>\n",
              "  </thead>\n",
              "  <tbody>\n",
              "    <tr>\n",
              "      <th>0.0</th>\n",
              "      <td>16.0</td>\n",
              "      <td>kid, car, wear, young, big, long, dress, child...</td>\n",
              "      <td>3599.0</td>\n",
              "      <td>0.0661</td>\n",
              "    </tr>\n",
              "    <tr>\n",
              "      <th>1.0</th>\n",
              "      <td>23.0</td>\n",
              "      <td>food, good, eat, cook, drink, wine, coffee, be...</td>\n",
              "      <td>2000.0</td>\n",
              "      <td>0.0367</td>\n",
              "    </tr>\n",
              "    <tr>\n",
              "      <th>2.0</th>\n",
              "      <td>15.0</td>\n",
              "      <td>profile, write, message, read, question, site,...</td>\n",
              "      <td>2856.0</td>\n",
              "      <td>0.0524</td>\n",
              "    </tr>\n",
              "    <tr>\n",
              "      <th>3.0</th>\n",
              "      <td>3.0</td>\n",
              "      <td>year, move, back, school, bear, raise, college...</td>\n",
              "      <td>3369.0</td>\n",
              "      <td>0.0619</td>\n",
              "    </tr>\n",
              "    <tr>\n",
              "      <th>4.0</th>\n",
              "      <td>15.0</td>\n",
              "      <td>profile, write, message, read, question, site,...</td>\n",
              "      <td>1600.0</td>\n",
              "      <td>0.0294</td>\n",
              "    </tr>\n",
              "    <tr>\n",
              "      <th>...</th>\n",
              "      <td>...</td>\n",
              "      <td>...</td>\n",
              "      <td>...</td>\n",
              "      <td>...</td>\n",
              "    </tr>\n",
              "    <tr>\n",
              "      <th>54453.0</th>\n",
              "      <td>12.0</td>\n",
              "      <td>life, world, nature, deep, experience, feel, h...</td>\n",
              "      <td>NaN</td>\n",
              "      <td>NaN</td>\n",
              "    </tr>\n",
              "    <tr>\n",
              "      <th>54454.0</th>\n",
              "      <td>8.0</td>\n",
              "      <td>day, walk, sleep, night, water, light, morning...</td>\n",
              "      <td>NaN</td>\n",
              "      <td>NaN</td>\n",
              "    </tr>\n",
              "    <tr>\n",
              "      <th>54455.0</th>\n",
              "      <td>14.0</td>\n",
              "      <td>play, watch, enjoy, movie, sport, game, music,...</td>\n",
              "      <td>NaN</td>\n",
              "      <td>NaN</td>\n",
              "    </tr>\n",
              "    <tr>\n",
              "      <th>54456.0</th>\n",
              "      <td>23.0</td>\n",
              "      <td>food, good, eat, cook, drink, wine, coffee, be...</td>\n",
              "      <td>NaN</td>\n",
              "      <td>NaN</td>\n",
              "    </tr>\n",
              "    <tr>\n",
              "      <th>54457.0</th>\n",
              "      <td>17.0</td>\n",
              "      <td>make, bad, hate, talk, thing, people, awesome,...</td>\n",
              "      <td>NaN</td>\n",
              "      <td>NaN</td>\n",
              "    </tr>\n",
              "  </tbody>\n",
              "</table>\n",
              "<p>54458 rows × 4 columns</p>\n",
              "</div>\n",
              "      <button class=\"colab-df-convert\" onclick=\"convertToInteractive('df-8cb0ab16-4b33-4383-b381-af763728b023')\"\n",
              "              title=\"Convert this dataframe to an interactive table.\"\n",
              "              style=\"display:none;\">\n",
              "        \n",
              "  <svg xmlns=\"http://www.w3.org/2000/svg\" height=\"24px\"viewBox=\"0 0 24 24\"\n",
              "       width=\"24px\">\n",
              "    <path d=\"M0 0h24v24H0V0z\" fill=\"none\"/>\n",
              "    <path d=\"M18.56 5.44l.94 2.06.94-2.06 2.06-.94-2.06-.94-.94-2.06-.94 2.06-2.06.94zm-11 1L8.5 8.5l.94-2.06 2.06-.94-2.06-.94L8.5 2.5l-.94 2.06-2.06.94zm10 10l.94 2.06.94-2.06 2.06-.94-2.06-.94-.94-2.06-.94 2.06-2.06.94z\"/><path d=\"M17.41 7.96l-1.37-1.37c-.4-.4-.92-.59-1.43-.59-.52 0-1.04.2-1.43.59L10.3 9.45l-7.72 7.72c-.78.78-.78 2.05 0 2.83L4 21.41c.39.39.9.59 1.41.59.51 0 1.02-.2 1.41-.59l7.78-7.78 2.81-2.81c.8-.78.8-2.07 0-2.86zM5.41 20L4 18.59l7.72-7.72 1.47 1.35L5.41 20z\"/>\n",
              "  </svg>\n",
              "      </button>\n",
              "      \n",
              "  <style>\n",
              "    .colab-df-container {\n",
              "      display:flex;\n",
              "      flex-wrap:wrap;\n",
              "      gap: 12px;\n",
              "    }\n",
              "\n",
              "    .colab-df-convert {\n",
              "      background-color: #E8F0FE;\n",
              "      border: none;\n",
              "      border-radius: 50%;\n",
              "      cursor: pointer;\n",
              "      display: none;\n",
              "      fill: #1967D2;\n",
              "      height: 32px;\n",
              "      padding: 0 0 0 0;\n",
              "      width: 32px;\n",
              "    }\n",
              "\n",
              "    .colab-df-convert:hover {\n",
              "      background-color: #E2EBFA;\n",
              "      box-shadow: 0px 1px 2px rgba(60, 64, 67, 0.3), 0px 1px 3px 1px rgba(60, 64, 67, 0.15);\n",
              "      fill: #174EA6;\n",
              "    }\n",
              "\n",
              "    [theme=dark] .colab-df-convert {\n",
              "      background-color: #3B4455;\n",
              "      fill: #D2E3FC;\n",
              "    }\n",
              "\n",
              "    [theme=dark] .colab-df-convert:hover {\n",
              "      background-color: #434B5C;\n",
              "      box-shadow: 0px 1px 3px 1px rgba(0, 0, 0, 0.15);\n",
              "      filter: drop-shadow(0px 1px 2px rgba(0, 0, 0, 0.3));\n",
              "      fill: #FFFFFF;\n",
              "    }\n",
              "  </style>\n",
              "\n",
              "      <script>\n",
              "        const buttonEl =\n",
              "          document.querySelector('#df-8cb0ab16-4b33-4383-b381-af763728b023 button.colab-df-convert');\n",
              "        buttonEl.style.display =\n",
              "          google.colab.kernel.accessAllowed ? 'block' : 'none';\n",
              "\n",
              "        async function convertToInteractive(key) {\n",
              "          const element = document.querySelector('#df-8cb0ab16-4b33-4383-b381-af763728b023');\n",
              "          const dataTable =\n",
              "            await google.colab.kernel.invokeFunction('convertToInteractive',\n",
              "                                                     [key], {});\n",
              "          if (!dataTable) return;\n",
              "\n",
              "          const docLinkHtml = 'Like what you see? Visit the ' +\n",
              "            '<a target=\"_blank\" href=https://colab.research.google.com/notebooks/data_table.ipynb>data table notebook</a>'\n",
              "            + ' to learn more about interactive tables.';\n",
              "          element.innerHTML = '';\n",
              "          dataTable['output_type'] = 'display_data';\n",
              "          await google.colab.output.renderOutput(dataTable, element);\n",
              "          const docLink = document.createElement('div');\n",
              "          docLink.innerHTML = docLinkHtml;\n",
              "          element.appendChild(docLink);\n",
              "        }\n",
              "      </script>\n",
              "    </div>\n",
              "  </div>\n",
              "  "
            ]
          },
          "metadata": {},
          "execution_count": 32
        },
        {
          "output_type": "stream",
          "name": "stdout",
          "text": [
            "Warning: total number of rows (54458) exceeds max_rows (20000). Limiting to first (20000) rows.\n"
          ]
        }
      ]
    },
    {
      "cell_type": "code",
      "source": [
        "%pip freeze >> requirements.txt"
      ],
      "metadata": {
        "id": "9XU-6zUYGMsH"
      },
      "execution_count": null,
      "outputs": []
    }
  ]
}